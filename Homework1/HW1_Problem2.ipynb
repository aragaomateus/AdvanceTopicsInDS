{
 "cells": [
  {
   "cell_type": "markdown",
   "metadata": {},
   "source": [
    "# Problem 2 - KNN hyperparameter tuning using cross validation 20 points\n",
    "For this problem you should read the article at: https://www.analyticsvidhya.com/blog/2021/01/a-quick- introduction-to-k-nearest-neighbor-knn-classification-using-python/ to review how to work with K-Nearest Neighbor (KNN) in sklearn. We will use the same Social Network ads dataset that is used in this post. You will work with a 80-20 train-test split.\n",
    "You will use KNN algorithm to predict whether an individual will buy a product or not. As discussed in the class, there are two hyperparameters: the number of neighbors $(K)$ and the distance metric. For distance between two n-dimensional points $\\bar{x_1} = {x_{1,1}, x_{1,2}, . . . , x_{1,n}}$ and $\\bar{x_2} = {x_{2,1}, x_{2,2}, . . . , x_{2,n}}$ we consider Minkowski distance given by:\n",
    "\n",
    "$( \\sum_{i=1}^{n} |x_{1,i}-x_{2,i}|^p)^{\\frac{1}{p}}$\n",
    "\n",
    "where p is a parameter. For p = 2, this distance is same as Euclidean distance and for p = 1 it is called\n",
    "Manhattan distance."
   ]
  },
  {
   "cell_type": "code",
   "execution_count": 11,
   "metadata": {},
   "outputs": [],
   "source": [
    "import numpy as np\n",
    "import matplotlib.pyplot as plt\n",
    "import pandas as pd\n",
    "import sklearn\n"
   ]
  },
  {
   "cell_type": "markdown",
   "metadata": {},
   "source": [
    "\n",
    "### 1-\n",
    "With K = 4 and p = 2 train a KNN classifier and evaluate its misclassification error, Accuracy,\n",
    "Precision, Recall, F-1 score on the test set."
   ]
  },
  {
   "cell_type": "code",
   "execution_count": 6,
   "metadata": {},
   "outputs": [
    {
     "data": {
      "text/html": [
       "<div>\n",
       "<style scoped>\n",
       "    .dataframe tbody tr th:only-of-type {\n",
       "        vertical-align: middle;\n",
       "    }\n",
       "\n",
       "    .dataframe tbody tr th {\n",
       "        vertical-align: top;\n",
       "    }\n",
       "\n",
       "    .dataframe thead th {\n",
       "        text-align: right;\n",
       "    }\n",
       "</style>\n",
       "<table border=\"1\" class=\"dataframe\">\n",
       "  <thead>\n",
       "    <tr style=\"text-align: right;\">\n",
       "      <th></th>\n",
       "      <th>User ID</th>\n",
       "      <th>Gender</th>\n",
       "      <th>Age</th>\n",
       "      <th>EstimatedSalary</th>\n",
       "      <th>Purchased</th>\n",
       "    </tr>\n",
       "  </thead>\n",
       "  <tbody>\n",
       "    <tr>\n",
       "      <th>0</th>\n",
       "      <td>15624510</td>\n",
       "      <td>Male</td>\n",
       "      <td>19</td>\n",
       "      <td>19000</td>\n",
       "      <td>0</td>\n",
       "    </tr>\n",
       "    <tr>\n",
       "      <th>1</th>\n",
       "      <td>15810944</td>\n",
       "      <td>Male</td>\n",
       "      <td>35</td>\n",
       "      <td>20000</td>\n",
       "      <td>0</td>\n",
       "    </tr>\n",
       "    <tr>\n",
       "      <th>2</th>\n",
       "      <td>15668575</td>\n",
       "      <td>Female</td>\n",
       "      <td>26</td>\n",
       "      <td>43000</td>\n",
       "      <td>0</td>\n",
       "    </tr>\n",
       "    <tr>\n",
       "      <th>3</th>\n",
       "      <td>15603246</td>\n",
       "      <td>Female</td>\n",
       "      <td>27</td>\n",
       "      <td>57000</td>\n",
       "      <td>0</td>\n",
       "    </tr>\n",
       "    <tr>\n",
       "      <th>4</th>\n",
       "      <td>15804002</td>\n",
       "      <td>Male</td>\n",
       "      <td>19</td>\n",
       "      <td>76000</td>\n",
       "      <td>0</td>\n",
       "    </tr>\n",
       "    <tr>\n",
       "      <th>...</th>\n",
       "      <td>...</td>\n",
       "      <td>...</td>\n",
       "      <td>...</td>\n",
       "      <td>...</td>\n",
       "      <td>...</td>\n",
       "    </tr>\n",
       "    <tr>\n",
       "      <th>395</th>\n",
       "      <td>15691863</td>\n",
       "      <td>Female</td>\n",
       "      <td>46</td>\n",
       "      <td>41000</td>\n",
       "      <td>1</td>\n",
       "    </tr>\n",
       "    <tr>\n",
       "      <th>396</th>\n",
       "      <td>15706071</td>\n",
       "      <td>Male</td>\n",
       "      <td>51</td>\n",
       "      <td>23000</td>\n",
       "      <td>1</td>\n",
       "    </tr>\n",
       "    <tr>\n",
       "      <th>397</th>\n",
       "      <td>15654296</td>\n",
       "      <td>Female</td>\n",
       "      <td>50</td>\n",
       "      <td>20000</td>\n",
       "      <td>1</td>\n",
       "    </tr>\n",
       "    <tr>\n",
       "      <th>398</th>\n",
       "      <td>15755018</td>\n",
       "      <td>Male</td>\n",
       "      <td>36</td>\n",
       "      <td>33000</td>\n",
       "      <td>0</td>\n",
       "    </tr>\n",
       "    <tr>\n",
       "      <th>399</th>\n",
       "      <td>15594041</td>\n",
       "      <td>Female</td>\n",
       "      <td>49</td>\n",
       "      <td>36000</td>\n",
       "      <td>1</td>\n",
       "    </tr>\n",
       "  </tbody>\n",
       "</table>\n",
       "<p>400 rows × 5 columns</p>\n",
       "</div>"
      ],
      "text/plain": [
       "      User ID  Gender  Age  EstimatedSalary  Purchased\n",
       "0    15624510    Male   19            19000          0\n",
       "1    15810944    Male   35            20000          0\n",
       "2    15668575  Female   26            43000          0\n",
       "3    15603246  Female   27            57000          0\n",
       "4    15804002    Male   19            76000          0\n",
       "..        ...     ...  ...              ...        ...\n",
       "395  15691863  Female   46            41000          1\n",
       "396  15706071    Male   51            23000          1\n",
       "397  15654296  Female   50            20000          1\n",
       "398  15755018    Male   36            33000          0\n",
       "399  15594041  Female   49            36000          1\n",
       "\n",
       "[400 rows x 5 columns]"
      ]
     },
     "execution_count": 6,
     "metadata": {},
     "output_type": "execute_result"
    }
   ],
   "source": [
    "dataset = pd.read_csv('Social_Network_Ads.csv')\n",
    "# getting the columns that contain our predictors. Our Xs.\n",
    "X = dataset.iloc[:, [1, 2, 3]].values\n",
    "# getting the last columns which is the coluns we are trying to predict\n",
    "y = dataset.iloc[:, -1].values\n",
    "dataset"
   ]
  },
  {
   "cell_type": "code",
   "execution_count": 59,
   "metadata": {},
   "outputs": [],
   "source": [
    "# Some of our data is on string format. We must use LabelEncoder to \n",
    "# make it possible to be used on KNN.\n",
    "\n",
    "from sklearn.preprocessing import LabelEncoder\n",
    "# Calling the Lable encoder object \n",
    "le = LabelEncoder()\n",
    "# applying the lable encoder into the column of index 0\n",
    "X[:,0] = le.fit_transform(X[:,0])\n"
   ]
  },
  {
   "cell_type": "code",
   "execution_count": 60,
   "metadata": {},
   "outputs": [],
   "source": [
    "'''As specified in the question, we must split our dataset into 80% training and 20% test\n",
    "'''\n",
    "\n",
    "from sklearn.model_selection import train_test_split\n",
    "X_train, X_test, y_train, y_test = train_test_split(X, y, test_size = 0.20, random_state = 0)\n"
   ]
  },
  {
   "cell_type": "code",
   "execution_count": 61,
   "metadata": {},
   "outputs": [],
   "source": [
    "from sklearn.preprocessing import StandardScaler\n",
    "sc = StandardScaler()\n",
    "# the step of feature scalling that we learned on Andrew Ng class.\n",
    "X_train = sc.fit_transform(X_train) \n",
    "# what is the difference between these 2 functions?\n",
    "# why are they difference for the test and for training.\n",
    "\n",
    "X_test = sc.transform(X_test)"
   ]
  },
  {
   "cell_type": "code",
   "execution_count": 62,
   "metadata": {},
   "outputs": [],
   "source": [
    "\n",
    "from sklearn.neighbors import KNeighborsClassifier\n",
    "# classfiying the traininig dataset\n",
    "classifier = KNeighborsClassifier(n_neighbors = 4, metric = 'minkowski', p = 2)\n",
    "classifier.fit(X_train, y_train)\n",
    "# predicting \n",
    "y_pred = classifier.predict(X_test)"
   ]
  },
  {
   "cell_type": "code",
   "execution_count": 63,
   "metadata": {},
   "outputs": [
    {
     "data": {
      "text/plain": [
       "array([[56,  2],\n",
       "       [ 2, 20]])"
      ]
     },
     "execution_count": 63,
     "metadata": {},
     "output_type": "execute_result"
    }
   ],
   "source": [
    "from sklearn.metrics import confusion_matrix,accuracy_score\n",
    "# creating a confusion matrix based on the test values and predicted values. \n",
    "cm = confusion_matrix(y_test, y_pred)\n",
    "accuracy = accuracy_score(y_test,y_pred)\n",
    "cm"
   ]
  },
  {
   "cell_type": "code",
   "execution_count": 64,
   "metadata": {},
   "outputs": [
    {
     "name": "stdout",
     "output_type": "stream",
     "text": [
      "Misclassigication Error: 0.05\n",
      "Accuracy: 0.95\n",
      "Precision: 0.9655172413793104\n",
      "Recall: 0.9655172413793104\n",
      "F1 score: 0.9655172413793104\n"
     ]
    }
   ],
   "source": [
    "\"\"\" Now we must calculate the  misclassification error, Accuracy,\n",
    "Precision, Recall, F-1 score\"\"\"\n",
    "\n",
    "true_positive = cm[0][0]\n",
    "false_positive = cm[0][1]\n",
    "false_negative = cm[1][0]\n",
    "true_negative = cm[1][1]\n",
    "\n",
    "misclassigication_error = (false_negative+false_negative)/len(y_test)\n",
    "print(\"Misclassigication Error:\",misclassigication_error)\n",
    "\n",
    "print(\"Accuracy:\",accuracy)\n",
    "\n",
    "precision = true_positive / (true_positive+false_positive)\n",
    "print(\"Precision:\",precision)\n",
    "\n",
    "recall = true_positive / (true_positive+false_negative)\n",
    "print(\"Recall:\",recall)\n",
    "\n",
    "f1_score = 2*((precision*recall)/(precision+recall))\n",
    "print(\"F1 score:\",f1_score)"
   ]
  },
  {
   "cell_type": "markdown",
   "metadata": {},
   "source": [
    "### 2- \n",
    "You will use 5-fold cross-validation to identify the best value of K. First fix p = 1 and for K ∈ [1,2,...,15] calculate the misclassification error and plot it as a function of K for different values of K."
   ]
  },
  {
   "cell_type": "code",
   "execution_count": 88,
   "metadata": {},
   "outputs": [],
   "source": [
    "from sklearn.model_selection import cross_validate\n",
    "# this is a cross_validation function that returns only the misclassification \n",
    "\n",
    "def cross_validation_KNN(k, _X, _y,_p, _cv=5):\n",
    "      _scoring = ['accuracy', 'precision', 'recall', 'f1']\n",
    "      classifier = KNeighborsClassifier(n_neighbors = k, metric = 'minkowski', p = _p)\n",
    "      results = cross_validate(estimator=classifier,\n",
    "                               X=_X,\n",
    "                               y=_y,\n",
    "                               cv=_cv,\n",
    "                               scoring=_scoring,\n",
    "                               return_train_score=True)\n",
    "      return (1-results[\"test_accuracy\"]).mean()\n",
    "      \n"
   ]
  },
  {
   "cell_type": "code",
   "execution_count": 91,
   "metadata": {},
   "outputs": [
    {
     "data": {
      "image/png": "[encoded data removed]",
      "text/plain": [
       "<Figure size 432x288 with 1 Axes>"
      ]
     },
     "metadata": {
      "needs_background": "light"
     },
     "output_type": "display_data"
    }
   ],
   "source": [
    "import matplotlib.pyplot as plt\n",
    "k_misscalc = {}\n",
    "for i in range(1,16):\n",
    "    misclassifying = cross_validation_KNN(i, X, y,1, _cv=5)\n",
    "    k_misscalc[i] = misclassifying\n",
    "    \n",
    "Ks = [ int(i) for i in k_misscalc.keys()]\n",
    "plt.plot(Ks,list(k_misscalc.values()), 'b')\n",
    "plt.show()"
   ]
  },
  {
   "cell_type": "code",
   "execution_count": 93,
   "metadata": {},
   "outputs": [
    {
     "data": {
      "text/plain": [
       "dict_values([0.2225, 0.2425, 0.24, 0.22999999999999998, 0.23499999999999996, 0.2375, 0.2325, 0.22749999999999998, 0.22999999999999998, 0.24500000000000002, 0.2525, 0.2425, 0.2475, 0.2475, 0.24250000000000002])"
      ]
     },
     "execution_count": 93,
     "metadata": {},
     "output_type": "execute_result"
    }
   ],
   "source": [
    "k_misscalc.values()"
   ]
  },
  {
   "cell_type": "markdown",
   "metadata": {},
   "source": [
    "### 3-\n",
    "Next fix p = 2 and again using 5-fold cross-validation for K ∈ [1, 2, . . . , 15] calculate the misclassification error and plot it as a function of K. This should be plotted in the same graph as for p = 1 in part 2 of this problem. "
   ]
  },
  {
   "cell_type": "code",
   "execution_count": 94,
   "metadata": {},
   "outputs": [
    {
     "data": {
      "image/png": "[encoded data removed]",
      "text/plain": [
       "<Figure size 432x288 with 1 Axes>"
      ]
     },
     "metadata": {
      "needs_background": "light"
     },
     "output_type": "display_data"
    }
   ],
   "source": [
    "import matplotlib.pyplot as plt\n",
    "k_misscalc = {}\n",
    "for i in range(1,16):\n",
    "    misclassifying = cross_validation_KNN(i, X, y,2, _cv=5)\n",
    "    k_misscalc[i] = misclassifying\n",
    "    \n",
    "Ks = [ int(i) for i in k_misscalc.keys()]\n",
    "plt.plot(Ks,list(k_misscalc.values()), 'b')\n",
    "plt.show()"
   ]
  },
  {
   "cell_type": "code",
   "execution_count": 95,
   "metadata": {},
   "outputs": [
    {
     "data": {
      "text/plain": [
       "dict_values([0.22000000000000003, 0.2425, 0.2375, 0.22999999999999998, 0.2325, 0.2375, 0.2325, 0.22749999999999998, 0.2325, 0.25, 0.2525, 0.2425, 0.2475, 0.2475, 0.24250000000000002])"
      ]
     },
     "execution_count": 95,
     "metadata": {},
     "output_type": "execute_result"
    }
   ],
   "source": [
    "k_misscalc.values()"
   ]
  },
  {
   "cell_type": "markdown",
   "metadata": {},
   "source": [
    "### 4- \n",
    "What is the best value of K with Eucledian distance? Is this value the same with Manhattan distance? What combination of p and K gives the best classifier (one with the minimum misclassification error)."
   ]
  },
  {
   "cell_type": "markdown",
   "metadata": {},
   "source": [
    "Value of p= 2 and k =1"
   ]
  }
 ],
 "metadata": {
  "kernelspec": {
   "display_name": "Python 3.8.5 ('base')",
   "language": "python",
   "name": "python3"
  },
  "language_info": {
   "codemirror_mode": {
    "name": "ipython",
    "version": 3
   },
   "file_extension": ".py",
   "mimetype": "text/x-python",
   "name": "python",
   "nbconvert_exporter": "python",
   "pygments_lexer": "ipython3",
   "version": "3.8.5"
  },
  "vscode": {
   "interpreter": {
    "hash": "2a0f08725565d2d00e70b9fae99b105541271f7be4baa13607a6e77e1d2c8c73"
   }
  }
 },
 "nbformat": 4,
 "nbformat_minor": 4
}
