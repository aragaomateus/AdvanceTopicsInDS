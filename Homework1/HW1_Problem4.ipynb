{
 "cells": [
  {
   "cell_type": "markdown",
   "metadata": {},
   "source": [
    "# Problem 4 - Logistic Regression with Regularization\n",
    "\n",
    "**Regularization with linear regression will be covered in Lab 2. Here we are doing regularization with logistic\n",
    "regression using the IRIS dataset. The dataset was introduced to you in Lab 1.**\n"
   ]
  },
  {
   "cell_type": "markdown",
   "metadata": {},
   "source": [
    "1. Read documentation of sci-kit learn on LogisticRegression class and understand its parameters. In sci-kit learn LogisticRegression class takes different parameters: C, solver, penalty, and multi class. Explain the significance of each of these parameters and their possible values. (2)"
   ]
  },
  {
   "cell_type": "markdown",
   "metadata": {},
   "source": [
    "2. The parameter penalty of LogisticRegression class in sklearn specifies the type of regularization. What is the meaning of ’l1’ and ’l2’ penalty? (2)"
   ]
  },
  {
   "cell_type": "markdown",
   "metadata": {},
   "source": [
    "3. Using penalty=’l1’ and penalty=’l2’ fit 10 logistic regression models one for each of 10 different val-\n",
    "ues of C (total 20 models, 10 for ’l1’ and 10 for ’l2’), with C = 10−4, 10−3, 10−2, 10−1, 1, 10, 100, 1000, 10000, 100000 and multi class=’ovr’. Collect the weight coefficients for the two features (petal width and petal\n",
    "length) of class 0 and 2 and plot them for different values of C. What is your observation from these\n",
    "graphs for ’l1’ and ’l2’ penalty? (8)"
   ]
  },
  {
   "cell_type": "markdown",
   "metadata": {},
   "source": [
    "4. Let $β_c$ denote the weight coefficients learned for a model for a given C. Calculate the ratio $ \\frac{\\|\\beta_c\\|_2}{\\|\\beta_100000\\|_2}$(the double brackets indicate the L2 norm) for each value of C and penalty ’l1’ and ’l2’. Plot this ratio on x-axis and value of the four coefficients on y-axis for different values of C. You will get similar graphs as we discussed in the class for regularization with linear regression. This will show you how the ratio between the total magnitude of coefficients with varying degrees of regularization and with C=100000. What is your observation from these graphs for ’l1’ and ’l2’ penalty?"
   ]
  },
  {
   "cell_type": "code",
   "execution_count": null,
   "metadata": {},
   "outputs": [],
   "source": []
  }
 ],
 "metadata": {
  "kernelspec": {
   "display_name": "Python 3",
   "language": "python",
   "name": "python3"
  },
  "language_info": {
   "codemirror_mode": {
    "name": "ipython",
    "version": 3
   },
   "file_extension": ".py",
   "mimetype": "text/x-python",
   "name": "python",
   "nbconvert_exporter": "python",
   "pygments_lexer": "ipython3",
   "version": "3.8.5"
  }
 },
 "nbformat": 4,
 "nbformat_minor": 4
}
