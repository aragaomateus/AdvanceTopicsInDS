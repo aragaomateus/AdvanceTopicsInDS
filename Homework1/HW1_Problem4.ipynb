{
 "cells": [
  {
   "cell_type": "markdown",
   "metadata": {},
   "source": [
    "# Problem 4 - Logistic Regression with Regularization\n",
    "- Mateus Silva Aragao , msa8779\n",
    "\n",
    "**Regularization with linear regression will be covered in Lab 2. Here we are doing regularization with logistic\n",
    "regression using the IRIS dataset. The dataset was introduced to you in Lab 1.**\n"
   ]
  },
  {
   "cell_type": "markdown",
   "metadata": {},
   "source": [
    "1. Read documentation of sci-kit learn on LogisticRegression class and understand its parameters. In sci-kit learn LogisticRegression class takes different parameters: C, solver, penalty, and multi class. Explain the significance of each of these parameters and their possible values. (2)"
   ]
  },
  {
   "cell_type": "markdown",
   "metadata": {},
   "source": [
    "**Answer** \n",
    "\n",
    "For hyperparameter C, its possible values are eiter a positive float number or 1.0 as a default value. A lower C strengthen the lambda regulator.\n",
    "\n",
    "For hyperparameter solver, it can hold the following values: newton-cg’, ‘lbfgs’, ‘liblinear’, ‘sag’, ‘saga’ and ’lbfgs’ is the default value. This values corresponds to different opt imization functions. \n",
    "\n",
    "For hyperparameter penalty, its possible to hold the following values:‘l1’, ‘l2’, ‘elasticnet’, ‘none’ and the default value is ’l2’. Some of this penalties values helps with finding the optimal lamba, while others such as L1 helps solving the problem of sparcity. \n",
    "\n",
    "For hyperparameter multi-class, its possible to hold values ‘auto’, ‘ovr’, ‘multinomial’ and the default value is 'auto'. \n"
   ]
  },
  {
   "cell_type": "markdown",
   "metadata": {},
   "source": [
    "2. The parameter penalty of LogisticRegression class in sklearn specifies the type of regularization. What is the meaning of ’l1’ and ’l2’ penalty? (2)"
   ]
  },
  {
   "cell_type": "markdown",
   "metadata": {},
   "source": [
    "**Answer**\n",
    "\n",
    "L1 regularization penalizes the sum of absolute values of the weights, whereas L2 regularization penalizes the sum of squares of the weights"
   ]
  },
  {
   "cell_type": "markdown",
   "metadata": {},
   "source": [
    "3. Using penalty=’l1’ and penalty=’l2’ fit 10 logistic regression models one for each of 10 different values of C (total 20 models, 10 for ’l1’ and 10 for ’l2’), with C = 10−4, 10−3, 10−2, 10−1, 1, 10, 100, 1000, 10000, 100000 and multi class=’ovr’. Collect the weight coefficients for the two features (petal width and petal\n",
    "length) of class 0 and 2 and plot them for different values of C. What is your observation from these\n",
    "graphs for ’l1’ and ’l2’ penalty? (8)"
   ]
  },
  {
   "cell_type": "code",
   "execution_count": 13,
   "metadata": {},
   "outputs": [
    {
     "name": "stderr",
     "output_type": "stream",
     "text": [
      "/Users/aragaom/opt/anaconda3/lib/python3.8/site-packages/sklearn/svm/_base.py:976: ConvergenceWarning: Liblinear failed to converge, increase the number of iterations.\n",
      "  warnings.warn(\"Liblinear failed to converge, increase \"\n",
      "/Users/aragaom/opt/anaconda3/lib/python3.8/site-packages/sklearn/svm/_base.py:976: ConvergenceWarning: Liblinear failed to converge, increase the number of iterations.\n",
      "  warnings.warn(\"Liblinear failed to converge, increase \"\n",
      "/Users/aragaom/opt/anaconda3/lib/python3.8/site-packages/sklearn/svm/_base.py:976: ConvergenceWarning: Liblinear failed to converge, increase the number of iterations.\n",
      "  warnings.warn(\"Liblinear failed to converge, increase \"\n",
      "/Users/aragaom/opt/anaconda3/lib/python3.8/site-packages/sklearn/svm/_base.py:976: ConvergenceWarning: Liblinear failed to converge, increase the number of iterations.\n",
      "  warnings.warn(\"Liblinear failed to converge, increase \"\n"
     ]
    },
    {
     "data": {
      "image/png": "[encoded data removed]",
      "text/plain": [
       "<Figure size 432x288 with 1 Axes>"
      ]
     },
     "metadata": {
      "needs_background": "light"
     },
     "output_type": "display_data"
    }
   ],
   "source": [
    "# Plotting the logistic regresssion with penalty = l1\n",
    "import sklearn\n",
    "from sklearn import datasets\n",
    "from sklearn.linear_model import LogisticRegression\n",
    "from sklearn.model_selection import train_test_split\n",
    "import matplotlib.pyplot as plt\n",
    "\n",
    "import numpy as np\n",
    "dataset = datasets.load_iris()\n",
    "X = dataset.data\n",
    "y = dataset.target\n",
    "# splitting the dataset.\n",
    "X_train, X_test, y_train, y_test = train_test_split(X, y, random_state=0, shuffle= True)\n",
    "\n",
    "c_values = [10e-4, 10e-3, 10e-2, 10e-1, 1, 10, 100, 1000, 10000, 100000]\n",
    "\n",
    "for c in c_values:\n",
    "    regression = LogisticRegression(penalty='l1',C=c,multi_class = 'ovr',solver='liblinear')\n",
    "    regression.fit(X_train,y_train)\n",
    "\n",
    "   # class 0 \n",
    "    plt.scatter(np.log(c),regression.coef_[0][3],color='yellow',marker ='v')\n",
    "    plt.scatter(np.log(c),regression.coef_[0][2],color='blue',marker ='v')\n",
    "\n",
    "# class 2\n",
    "    plt.scatter(np.log(c),regression.coef_[2][3],color='red',marker ='o')\n",
    "    plt.scatter(np.log(c),regression.coef_[2][2],color='black',marker ='o')\n",
    "\n",
    "\n",
    "plt.show()\n",
    "    "
   ]
  },
  {
   "cell_type": "code",
   "execution_count": 12,
   "metadata": {},
   "outputs": [
    {
     "data": {
      "image/png": "[encoded data removed]",
      "text/plain": [
       "<Figure size 432x288 with 1 Axes>"
      ]
     },
     "metadata": {
      "needs_background": "light"
     },
     "output_type": "display_data"
    }
   ],
   "source": [
    "for c in c_values:\n",
    "    regression = LogisticRegression(penalty='l2',C=c,multi_class = 'ovr',solver='liblinear')\n",
    "    regression.fit(X_train,y_train)\n",
    "\n",
    "# class 0 \n",
    "    plt.scatter(np.log(c),regression.coef_[0][3],color='yellow',marker ='v')\n",
    "    plt.scatter(np.log(c),regression.coef_[0][2],color='blue',marker ='v')\n",
    "\n",
    "# class 2\n",
    "    plt.scatter(np.log(c),regression.coef_[2][3],color='red',marker ='o')\n",
    "    plt.scatter(np.log(c),regression.coef_[2][2],color='black',marker ='o')\n",
    "\n",
    "\n",
    "plt.show()"
   ]
  },
  {
   "cell_type": "markdown",
   "metadata": {},
   "source": [
    "4. Let $β_c$ denote the weight coefficients learned for a model for a given C. Calculate the ratio $ \\frac{\\|\\beta_c\\|_2}{\\|\\beta_{100000}\\|_2}$(the double brackets indicate the L2 norm) for each value of C and penalty ’l1’ and ’l2’. Plot this ratio on x-axis and value of the four coefficients on y-axis for different values of C. You will get similar graphs as we discussed in the class for regularization with linear regression. This will show you how the ratio between the total magnitude of coefficients with varying degrees of regularization and with C=100000. What is your observation from these graphs for ’l1’ and ’l2’ penalty?"
   ]
  },
  {
   "cell_type": "code",
   "execution_count": 33,
   "metadata": {},
   "outputs": [
    {
     "name": "stderr",
     "output_type": "stream",
     "text": [
      "/Users/aragaom/opt/anaconda3/lib/python3.8/site-packages/sklearn/svm/_base.py:976: ConvergenceWarning: Liblinear failed to converge, increase the number of iterations.\n",
      "  warnings.warn(\"Liblinear failed to converge, increase \"\n",
      "/Users/aragaom/opt/anaconda3/lib/python3.8/site-packages/sklearn/svm/_base.py:976: ConvergenceWarning: Liblinear failed to converge, increase the number of iterations.\n",
      "  warnings.warn(\"Liblinear failed to converge, increase \"\n",
      "/Users/aragaom/opt/anaconda3/lib/python3.8/site-packages/sklearn/svm/_base.py:976: ConvergenceWarning: Liblinear failed to converge, increase the number of iterations.\n",
      "  warnings.warn(\"Liblinear failed to converge, increase \"\n",
      "/Users/aragaom/opt/anaconda3/lib/python3.8/site-packages/sklearn/svm/_base.py:976: ConvergenceWarning: Liblinear failed to converge, increase the number of iterations.\n",
      "  warnings.warn(\"Liblinear failed to converge, increase \"\n",
      "/Users/aragaom/opt/anaconda3/lib/python3.8/site-packages/sklearn/svm/_base.py:976: ConvergenceWarning: Liblinear failed to converge, increase the number of iterations.\n",
      "  warnings.warn(\"Liblinear failed to converge, increase \"\n"
     ]
    },
    {
     "data": {
      "image/png": "[encoded data removed]",
      "text/plain": [
       "<Figure size 432x288 with 1 Axes>"
      ]
     },
     "metadata": {
      "needs_background": "light"
     },
     "output_type": "display_data"
    }
   ],
   "source": [
    "from numpy.linalg import norm\n",
    "\n",
    "regression_100000 = LogisticRegression(penalty='l1',C=100000,multi_class = 'ovr',solver='liblinear').fit(X_train,y_train)\n",
    "\n",
    "norm_100000 = norm(regression_100000.coef_[2])\n",
    "\n",
    "\n",
    "for c in c_values:\n",
    "    regression = LogisticRegression(penalty='l1',C=c,multi_class = 'ovr',solver='liblinear')\n",
    "    regression.fit(X_train,y_train)\n",
    "\n",
    "    # class 2\n",
    "    plt.scatter(y = np.log(c),x = (norm(regression.coef_[0]) /norm(regression_100000.coef_[0])) ,color='red',marker ='o')\n",
    "    plt.scatter(y = np.log(c),x = (norm(regression.coef_[1]) /norm(regression_100000.coef_[1])) ,color='blue',marker ='o')\n",
    "    plt.scatter(y = np.log(c),x = (norm(regression.coef_[2]) /norm(regression_100000.coef_[2])),color='green',marker ='o')\n",
    "\n",
    "\n",
    "    # plt.scatter(y = np.log(c),x = regression.coef_[2][2],color='black',marker ='o')\n",
    "\n",
    "\n",
    "\n",
    "plt.show()"
   ]
  },
  {
   "cell_type": "code",
   "execution_count": 35,
   "metadata": {},
   "outputs": [
    {
     "data": {
      "image/png": "[encoded data removed]",
      "text/plain": [
       "<Figure size 432x288 with 1 Axes>"
      ]
     },
     "metadata": {
      "needs_background": "light"
     },
     "output_type": "display_data"
    }
   ],
   "source": [
    "for c in c_values:\n",
    "    regression = LogisticRegression(penalty='l2',C=c,multi_class = 'ovr',solver='liblinear')\n",
    "    regression.fit(X_train,y_train)\n",
    "\n",
    "    # class 2\n",
    "    plt.scatter(y = np.log(c),x = (norm(regression.coef_[0]) /norm(regression_100000.coef_[0])) ,color='red',marker ='o')\n",
    "    plt.scatter(y = np.log(c),x = (norm(regression.coef_[1]) /norm(regression_100000.coef_[1])) ,color='blue',marker ='o')\n",
    "    plt.scatter(y = np.log(c),x = (norm(regression.coef_[2]) /norm(regression_100000.coef_[2])),color='green',marker ='o')\n",
    "\n",
    "\n",
    "    # plt.scatter(y = np.log(c),x = regression.coef_[2][2],color='black',marker ='o')\n",
    "\n",
    "\n",
    "\n",
    "plt.show()"
   ]
  },
  {
   "cell_type": "code",
   "execution_count": null,
   "metadata": {},
   "outputs": [],
   "source": []
  }
 ],
 "metadata": {
  "kernelspec": {
   "display_name": "Python 3.8.5 ('base')",
   "language": "python",
   "name": "python3"
  },
  "language_info": {
   "codemirror_mode": {
    "name": "ipython",
    "version": 3
   },
   "file_extension": ".py",
   "mimetype": "text/x-python",
   "name": "python",
   "nbconvert_exporter": "python",
   "pygments_lexer": "ipython3",
   "version": "3.8.5"
  },
  "vscode": {
   "interpreter": {
    "hash": "2a0f08725565d2d00e70b9fae99b105541271f7be4baa13607a6e77e1d2c8c73"
   }
  }
 },
 "nbformat": 4,
 "nbformat_minor": 4
}
