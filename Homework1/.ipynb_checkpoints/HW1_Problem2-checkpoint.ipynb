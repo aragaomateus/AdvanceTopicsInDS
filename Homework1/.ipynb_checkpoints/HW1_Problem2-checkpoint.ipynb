{
 "cells": [
  {
   "cell_type": "markdown",
   "metadata": {},
   "source": [
    "# Problem 2 - KNN hyperparameter tuning using cross validation 20 points\n",
    "For this problem you should read the article at: https://www.analyticsvidhya.com/blog/2021/01/a-quick- introduction-to-k-nearest-neighbor-knn-classification-using-python/ to review how to work with K-Nearest Neighbor (KNN) in sklearn. We will use the same Social Network ads dataset that is used in this post. You will work with a 80-20 train-test split.\n",
    "You will use KNN algorithm to predict whether an individual will buy a product or not. As discussed in the class, there are two hyperparameters: the number of neighbors $(K)$ and the distance metric. For distance between two n-dimensional points x ̄1 = {x1,1, x1,2, . . . , x1,n} and x ̄2 = {x2,1, x2,2, . . . , x2,n} we consider Minkowski distance given by:\n",
    "􏰀n 􏰁1/p 􏰂|x1,i −x2,i|p .\n",
    "i=1\n",
    "where p is a parameter. For p = 2, this distance is same as Euclidean distance and for p = 1 it is called\n",
    "Manhattan distance."
   ]
  }
 ],
 "metadata": {
  "kernelspec": {
   "display_name": "Python 3",
   "language": "python",
   "name": "python3"
  },
  "language_info": {
   "codemirror_mode": {
    "name": "ipython",
    "version": 3
   },
   "file_extension": ".py",
   "mimetype": "text/x-python",
   "name": "python",
   "nbconvert_exporter": "python",
   "pygments_lexer": "ipython3",
   "version": "3.8.5"
  }
 },
 "nbformat": 4,
 "nbformat_minor": 4
}
