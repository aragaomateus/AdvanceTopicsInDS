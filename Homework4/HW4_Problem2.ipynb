{
 "cells": [
  {
   "cell_type": "markdown",
   "metadata": {},
   "source": [
    "\n",
    "# Problem 2 - Automated Feature Engineering 10 points\n",
    "In the lab, we looked at AutoFeat (https://github.com/cod3licious/autofeat), a python library that auto-\n",
    "matically does feature engineering and selection for you."
   ]
  },
  {
   "cell_type": "code",
   "execution_count": 1,
   "metadata": {},
   "outputs": [
    {
     "name": "stdout",
     "output_type": "stream",
     "text": [
      "Collecting autofeat\n",
      "  Downloading autofeat-2.0.10-py3-none-any.whl (24 kB)\n",
      "Collecting pint\n",
      "  Downloading Pint-0.20.1-py3-none-any.whl (269 kB)\n",
      "\u001b[2K     \u001b[90m━━━━━━━━━━━━━━━━━━━━━━━━━━━━━━━━━━━━━\u001b[0m \u001b[32m269.5/269.5 KB\u001b[0m \u001b[31m357.2 kB/s\u001b[0m eta \u001b[36m0:00:00\u001b[0m00:01\u001b[0m00:01\u001b[0m\n",
      "\u001b[?25hRequirement already satisfied: pandas>=0.24.0 in /Users/aragaom/opt/anaconda3/lib/python3.8/site-packages (from autofeat) (1.1.3)\n",
      "Requirement already satisfied: future in /Users/aragaom/opt/anaconda3/lib/python3.8/site-packages (from autofeat) (0.18.2)\n",
      "Collecting sympy>=1.7.1\n",
      "  Downloading sympy-1.11.1-py3-none-any.whl (6.5 MB)\n",
      "\u001b[2K     \u001b[90m━━━━━━━━━━━━━━━━━━━━━━━━━━━━━━━━━━━━━━━━\u001b[0m \u001b[32m6.5/6.5 MB\u001b[0m \u001b[31m473.4 kB/s\u001b[0m eta \u001b[36m0:00:00\u001b[0m00:01\u001b[0m00:01\u001b[0m\n",
      "\u001b[?25hRequirement already satisfied: scikit-learn in /Users/aragaom/opt/anaconda3/lib/python3.8/site-packages (from autofeat) (0.23.2)\n",
      "Requirement already satisfied: joblib in /Users/aragaom/opt/anaconda3/lib/python3.8/site-packages (from autofeat) (0.17.0)\n",
      "Requirement already satisfied: numba in /Users/aragaom/opt/anaconda3/lib/python3.8/site-packages (from autofeat) (0.51.2)\n",
      "Requirement already satisfied: numpy in /Users/aragaom/opt/anaconda3/lib/python3.8/site-packages (from autofeat) (1.23.3)\n",
      "Requirement already satisfied: pytz>=2017.2 in /Users/aragaom/opt/anaconda3/lib/python3.8/site-packages (from pandas>=0.24.0->autofeat) (2020.1)\n",
      "Requirement already satisfied: python-dateutil>=2.7.3 in /Users/aragaom/opt/anaconda3/lib/python3.8/site-packages (from pandas>=0.24.0->autofeat) (2.8.1)\n",
      "Requirement already satisfied: mpmath>=0.19 in /Users/aragaom/opt/anaconda3/lib/python3.8/site-packages (from sympy>=1.7.1->autofeat) (1.1.0)\n",
      "Requirement already satisfied: setuptools in /Users/aragaom/opt/anaconda3/lib/python3.8/site-packages (from numba->autofeat) (50.3.1.post20201107)\n",
      "Requirement already satisfied: llvmlite<0.35,>=0.34.0.dev0 in /Users/aragaom/opt/anaconda3/lib/python3.8/site-packages (from numba->autofeat) (0.34.0)\n",
      "Requirement already satisfied: scipy>=0.19.1 in /Users/aragaom/opt/anaconda3/lib/python3.8/site-packages (from scikit-learn->autofeat) (1.5.2)\n",
      "Requirement already satisfied: threadpoolctl>=2.0.0 in /Users/aragaom/opt/anaconda3/lib/python3.8/site-packages (from scikit-learn->autofeat) (2.1.0)\n",
      "Requirement already satisfied: six>=1.5 in /Users/aragaom/opt/anaconda3/lib/python3.8/site-packages (from python-dateutil>=2.7.3->pandas>=0.24.0->autofeat) (1.15.0)\n",
      "Installing collected packages: sympy, pint, autofeat\n",
      "  Attempting uninstall: sympy\n",
      "    Found existing installation: sympy 1.6.2\n",
      "    Uninstalling sympy-1.6.2:\n",
      "      Successfully uninstalled sympy-1.6.2\n",
      "Successfully installed autofeat-2.0.10 pint-0.20.1 sympy-1.11.1\n",
      "\u001b[33mWARNING: You are using pip version 22.0.3; however, version 22.3.1 is available.\n",
      "You should consider upgrading via the '/Users/aragaom/opt/anaconda3/bin/python -m pip install --upgrade pip' command.\u001b[0m\u001b[33m\n",
      "\u001b[0m"
     ]
    }
   ],
   "source": [
    "!pip install autofeat"
   ]
  },
  {
   "attachments": {},
   "cell_type": "markdown",
   "metadata": {},
   "source": [
    "1. Explain the importance of interpretability when training machine learning models. Why is model explainability necessary? (2)\n",
    "\n",
    "Interpretability is important when training machine learning models because it allows us to understand how the model is making decisions and whether it is making those decisions based on the correct factors. This is necessary because if we don't understand how a model is making its predictions, we can't be sure that it is working correctly and we can't trust its decisions. Additionally, if a model is not interpretable, it is difficult to improve or debug it when it is not performing well.Here are some examples of why interpretability is important when training machine learning models:\n",
    "\n",
    "In healthcare, a machine learning model might be used to predict the likelihood that a patient has a particular disease. If the model is not interpretable, it might be difficult to understand why the model is making a certain prediction, which could lead to incorrect treatment decisions.\n",
    "In finance, a machine learning model might be used to predict the likelihood that a customer will default on a loan. If the model is not interpretable, it might be difficult to understand why the model is making a certain prediction, which could lead to unfair lending decisions.\n",
    "In criminal justice, a machine learning model might be used to predict the likelihood that a defendant will commit a crime in the future. If the model is not interpretable, it might be difficult to understand why the model is making a certain prediction, which could lead to unfair sentencing decisions."
   ]
  },
  {
   "cell_type": "markdown",
   "metadata": {},
   "source": [
    "2. Perform feature selection for the Diabetes regression dataset, using FeatureSelector(). How many features are discarded? (3)"
   ]
  },
  {
   "cell_type": "code",
   "execution_count": 16,
   "metadata": {},
   "outputs": [
    {
     "name": "stdout",
     "output_type": "stream",
     "text": [
      "[featsel] Scaling data...done.\n",
      "[featsel] Feature selection run 1/5\n",
      "[featsel] Feature selection run 2/5\n",
      "[featsel] Feature selection run 3/5\n",
      "[featsel] Feature selection run 4/5\n",
      "[featsel] Feature selection run 5/5\n",
      "[featsel] 7 features after 5 feature selection runs\n",
      "[featsel] 7 features after correlation filtering\n",
      "[featsel] 5 features after noise filtering\n",
      "Index(['bp', 'sex', 'ltg', 'bmi', 'hdl'], dtype='object')\n"
     ]
    }
   ],
   "source": [
    "import numpy as np\n",
    "import pandas as pd\n",
    "import matplotlib.pyplot as plt\n",
    "from sklearn.model_selection import train_test_split\n",
    "from autofeat import FeatureSelector, AutoFeatRegressor\n",
    "from sklearn.datasets import load_diabetes\n",
    "\n",
    "X,Y = load_diabetes(return_X_y =True)\n",
    "\n",
    "fsel = FeatureSelector(verbose=1)\n",
    "X =pd.DataFrame(X, columns=[\"age\", \"sex\", \"bmi\", \"bp\", \"tc\", \"ldl\", \"hdl\", \"tch\", \"ltg\", \"glu\"])\n",
    "new_X = fsel.fit_transform(X, Y)\n",
    "print(new_X.columns)"
   ]
  },
  {
   "cell_type": "markdown",
   "metadata": {},
   "source": [
    "3. Perform a train-test split on your dataset. Select a regression model from SKLearn and fit it to the training dataset. What is the R2 score on the training and test set? (2)\n"
   ]
  },
  {
   "cell_type": "code",
   "execution_count": 17,
   "metadata": {},
   "outputs": [
    {
     "name": "stdout",
     "output_type": "stream",
     "text": [
      "0.5279198995709651\n"
     ]
    }
   ],
   "source": [
    "from sklearn.linear_model import LinearRegression\n",
    "\n",
    "X_train, X_test, y_train, y_test = train_test_split(X,Y , test_size=0.2, random_state=42)\n",
    "\n",
    "lr = LinearRegression()\n",
    "lr.fit(X_train, y_train)\n",
    "r_squared = lr.score(X_train, y_train)\n",
    "print(r_squared)"
   ]
  },
  {
   "cell_type": "markdown",
   "metadata": {},
   "source": [
    "4. Keeping the train and test dataset same, run 3 feature engineering steps using AutoFeatRegressor(). What is the R2 score on the training and test set now? Mention any five new features generated by the output of AutoFeatRegressor() (3)"
   ]
  },
  {
   "cell_type": "code",
   "execution_count": 18,
   "metadata": {},
   "outputs": [
    {
     "name": "stdout",
     "output_type": "stream",
     "text": [
      "### AutoFeat with 3 feateng_steps\n",
      "[AutoFeat] The 3 step feature engineering process could generate up to 60445 features.\n",
      "[AutoFeat] With 353 data points this new feature matrix would use about 0.09 gb of space.\n",
      "[feateng] Step 1: transformation of original features\n",
      "[feateng] Generated 45 transformed features from 10 original features - done.\n",
      "[feateng] Step 2: first combination of features\n",
      "[feateng] Generated 5789 feature combinations from 1485 original feature tuples - done.\n",
      "[feateng] Step 3: transformation of new features\n",
      "[feateng]            4900/           5789 features transformed\r"
     ]
    },
    {
     "name": "stderr",
     "output_type": "stream",
     "text": [
      "/Users/aragaom/opt/anaconda3/lib/python3.8/site-packages/numpy/core/_methods.py:236: RuntimeWarning: overflow encountered in multiply\n",
      "  x = um.multiply(x, x, out=x)\n",
      "/Users/aragaom/opt/anaconda3/lib/python3.8/site-packages/numpy/core/_methods.py:247: RuntimeWarning: overflow encountered in reduce\n",
      "  ret = umr_sum(x, axis, dtype, out, keepdims=keepdims, where=where)\n"
     ]
    },
    {
     "name": "stdout",
     "output_type": "stream",
     "text": [
      "[feateng] Generated 24431 transformed features from 5789 original features - done.\n",
      "[feateng] Generated altogether 32266 new features in 3 steps\n",
      "[feateng] Removing correlated features, as well as additions at the highest level\n"
     ]
    },
    {
     "name": "stderr",
     "output_type": "stream",
     "text": [
      "/Users/aragaom/opt/anaconda3/lib/python3.8/site-packages/numpy/lib/nanfunctions.py:1745: RuntimeWarning: overflow encountered in multiply\n",
      "  sqr = np.multiply(arr, arr, out=arr, where=where)\n"
     ]
    },
    {
     "name": "stdout",
     "output_type": "stream",
     "text": [
      "[feateng] Generated a total of 14865 additional features\n",
      "[featsel] Scaling data...done.\n",
      "[featsel] Feature selection run 1/5\n",
      "[featsel] Feature selection run 2/5\n",
      "[featsel] Feature selection run 3/5\n",
      "[featsel] Feature selection run 4/5\n",
      "[featsel] Feature selection run 5/5\n",
      "[featsel] 34 features after 5 feature selection runs\n",
      "[featsel] 31 features after correlation filtering\n",
      "[featsel] 10 features after noise filtering\n",
      "[AutoFeat] Computing 10 new features.\n",
      "[AutoFeat]    10/   10 new features ...done.\n",
      "[AutoFeat] Final dataframe with 20 feature columns (10 new).\n",
      "[AutoFeat] Training final regression model.\n",
      "[AutoFeat] Trained model: largest coefficients:\n",
      "-93.39915681931626\n",
      "842396.908959 * age**3*sex\n",
      "-4196.512917 * exp(hdl)*Abs(sex)\n",
      "324.736165 * exp(bmi)*exp(bp)\n",
      "226.896162 * Abs(bmi + Abs(glu))\n",
      "54.608046 * exp(bp)*exp(ltg)\n",
      "52.069876 * exp(bmi)*exp(ltg)\n",
      "20.515184 * Abs(ltg)/ltg\n",
      "-0.852666 * hdl/Abs(bmi)\n",
      "-0.036499 * 1/(-bp**2 + ltg)\n",
      "-0.006938 * 1/(-Abs(glu) + Abs(ltg))\n",
      "[AutoFeat] Final score: 0.5894\n",
      "[AutoFeat] Computing 10 new features.\n",
      "[AutoFeat]    10/   10 new features ...done.\n",
      "[AutoFeat] Computing 10 new features.\n",
      "[AutoFeat]    10/   10 new features ...done.\n",
      "## Final Train R^2: 0.5894\n",
      "## Final Test R^2: 0.5441\n",
      "[AutoFeat] Computing 10 new features.\n",
      "[AutoFeat]    10/   10 new features ...done.\n",
      "[AutoFeat] Computing 10 new features.\n",
      "[AutoFeat]    10/   10 new features ...done.\n"
     ]
    },
    {
     "data": {
      "text/plain": [
       "Text(0.5, 1.0, '3 FE steps (R^2: 0.5894; 10 new features)')"
      ]
     },
     "execution_count": 18,
     "metadata": {},
     "output_type": "execute_result"
    },
    {
     "data": {
      "image/png": "[encoded data removed]",
      "text/plain": [
       "<Figure size 432x288 with 1 Axes>"
      ]
     },
     "metadata": {
      "needs_background": "light"
     },
     "output_type": "display_data"
    }
   ],
   "source": [
    "np.random.seed(42)\n",
    "print(\"### AutoFeat with %i feateng_steps\" % 3)\n",
    "afreg = AutoFeatRegressor(verbose=1, feateng_steps=3)\n",
    "df = afreg.fit_transform(X_train, y_train)\n",
    "r2_train = afreg.score(X_train, y_train)\n",
    "r2_test = afreg.score(X_test, y_test)\n",
    "print(\"## Final Train R^2: %.4f\" % r2_train)\n",
    "print(\"## Final Test R^2: %.4f\" % r2_test)\n",
    "plt.figure()\n",
    "plt.scatter(afreg.predict(X_train), y_train, s=2)\n",
    "plt.scatter(afreg.predict(X_test), y_test, s=2)\n",
    "plt.title(\"%i FE steps (R^2: %.4f; %i new features)\" % (3, r2_train, len(afreg.new_feat_cols_)))"
   ]
  },
  {
   "cell_type": "code",
   "execution_count": 19,
   "metadata": {},
   "outputs": [
    {
     "name": "stdout",
     "output_type": "stream",
     "text": [
      "Abs(ltg)/ltg\n",
      "exp(bmi)*exp(bp)\n",
      "exp(bmi)*exp(ltg)\n",
      "exp(hdl)*Abs(sex)\n",
      "hdl/Abs(bmi)\n",
      "Abs(bmi + Abs(glu))\n",
      "age**3*sex\n",
      "exp(bp)*exp(ltg)\n",
      "1/(-bp**2 + ltg)\n",
      "1/(-Abs(glu) + Abs(ltg))\n"
     ]
    }
   ],
   "source": [
    "for col in df.columns:\n",
    "    if col not in X_train.columns:\n",
    "        print(col)"
   ]
  }
 ],
 "metadata": {
  "kernelspec": {
   "display_name": "Python 3.8.5 ('base')",
   "language": "python",
   "name": "python3"
  },
  "language_info": {
   "codemirror_mode": {
    "name": "ipython",
    "version": 3
   },
   "file_extension": ".py",
   "mimetype": "text/x-python",
   "name": "python",
   "nbconvert_exporter": "python",
   "pygments_lexer": "ipython3",
   "version": "3.8.5 (default, Sep  4 2020, 02:22:02) \n[Clang 10.0.0 ]"
  },
  "orig_nbformat": 4,
  "vscode": {
   "interpreter": {
    "hash": "2a0f08725565d2d00e70b9fae99b105541271f7be4baa13607a6e77e1d2c8c73"
   }
  }
 },
 "nbformat": 4,
 "nbformat_minor": 2
}
