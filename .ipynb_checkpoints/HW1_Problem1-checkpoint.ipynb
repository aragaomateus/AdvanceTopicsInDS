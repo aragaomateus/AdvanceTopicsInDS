{
 "cells": [
  {
   "cell_type": "markdown",
   "metadata": {},
   "source": [
    "# Problem 1\n",
    "Read carefully the article at https://dustinstansbury.github.io/theclevermachine/bias-variance-tradeoff. We will review this in Lab 2.\n",
    "Let $y(x) = f(x) + ε$ be the measured relationship and $\\hat{y} = g(x)$ be the model predicted value of $y$. Then MSE over test instance $x_i, i = 1,...,t,$ is given by:\n",
    "\n",
    "$MSE = \\frac{1}{t} \\sum_{i=1}^{t} (f(x_i) + ε − g(x_i))^2$\n",
    "\n",
    "\n",
    "\n",
    "Recall that the expected mean squared error of a regression problem can be written as\n",
    "$E[MSE] = Bias2 + V ariance + Noise$\n"
   ]
  },
  {
   "cell_type": "markdown",
   "metadata": {},
   "source": [
    "### 1-\n",
    "Consider the case when $f (x) = x + sin(1.5x)$ and $y(x) = f (x) + N (0, 0.3)$, where$ N (0, 0.3)$ is normal distribution with mean 0 and standard deviation 0.3. Create a dataset of size 20 points by randomly generating samples from y. Display the dataset and $f(x)$. Use scatter plot for y and smooth line plot for $f(x)$."
   ]
  },
  {
   "cell_type": "code",
   "execution_count": null,
   "metadata": {},
   "outputs": [],
   "source": []
  }
 ],
 "metadata": {
  "kernelspec": {
   "display_name": "Python 3",
   "language": "python",
   "name": "python3"
  },
  "language_info": {
   "codemirror_mode": {
    "name": "ipython",
    "version": 3
   },
   "file_extension": ".py",
   "mimetype": "text/x-python",
   "name": "python",
   "nbconvert_exporter": "python",
   "pygments_lexer": "ipython3",
   "version": "3.8.5"
  }
 },
 "nbformat": 4,
 "nbformat_minor": 4
}
