{
  "cells": [
    {
      "cell_type": "markdown",
      "metadata": {
        "id": "u3ZNv127GHKv"
      },
      "source": [
        "# Problem 3 - Transfer learning: Shallow learning vs Finetuning\n",
        "\n",
        "In this problem we will train a convolutional neural network for image classification using transfer learning. Transfer learning involves training a base network from scratch on a very large dataset (e.g., Imagenet1K with 1.2 M images and 1K categories) and then using this base network either as a feature extractor or as an initialization network for target task. Thus two major transfer learning scenarios are as follows:\n",
        "\n",
        "\n",
        "• Finetuning the base model: Instead of random initialization, we initialize the network with a pretrained network, like the one that is trained on Imagenet dataset. Rest of the training looks as usual however the learning rate schedule for transfer learning may be different.\n",
        "\n",
        "• Base model as fixed feature extractor: Here, we will freeze the weights for all of the network except that of the final fully connected layer. \n",
        "\n",
        "This last fully connected layer is replaced with a new one with random weights and only this layer is trained.\n",
        "For this problem the following resources will be helpful.\n",
        "References\n",
        "• Pytorch blog. Transfer Learning for Computer Vision Tutorial by S. Chilamkurthy Available at https://pytorch.org/tutorials/beginner/transfer learning tutorial.html\n",
        "• Notes on Transfer Learning. CS231n Convolutional Neural Networks for Visual Recognition. Available at https://cs231n.github.io/transfer-learning/\n",
        "• Visual Domain Decathlon"
      ]
    },
    {
      "cell_type": "markdown",
      "metadata": {
        "id": "cQNrnfpLGHKy"
      },
      "source": [
        "\n",
        "1. For fine-tuning you will select a target dataset from the Visual-Decathlon challenge. Their web site (link below) has several datasets which you can download. Select any one of the visual decathlon dataset and make it your target dataset for transfer learning. Important : Do not select Imagenet1K as the target dataset."
      ]
    },
    {
      "cell_type": "code",
      "execution_count": 1,
      "metadata": {
        "colab": {
          "base_uri": "https://localhost:8080/",
          "height": 100,
          "referenced_widgets": [
            "5f67666c391048a6a62d273ec06cf6d0",
            "5a63619c6bca46f194e882f1211be18f",
            "6ceae1b4e7654242be0e6391e4132440",
            "45933d404b4d47f6b714ea10d659cefc",
            "d80a0bed06654734b73ad95808116802",
            "76696fc7e2cd4b9d931194d6f0a8537a",
            "3570cb5ebc1e45d2a514227e68d76a41",
            "acc7a77988ed4b8f80b0c0b5d9579dfb",
            "e2fbeb40aa1a4a57ab4539ad1624c21c",
            "e662df500319402cb596b782d4c71cfa",
            "3f1a8f6984334425960249fa724bf0fe"
          ]
        },
        "id": "u4rVC3hIGHKz",
        "outputId": "cdb61d9e-4fcc-461f-ff9f-43baea71574f"
      },
      "outputs": [
        {
          "output_type": "stream",
          "name": "stdout",
          "text": [
            "Downloading https://www.cs.toronto.edu/~kriz/cifar-100-python.tar.gz to ./data/cifar-100-python.tar.gz\n"
          ]
        },
        {
          "output_type": "display_data",
          "data": {
            "text/plain": [
              "  0%|          | 0/169001437 [00:00<?, ?it/s]"
            ],
            "application/vnd.jupyter.widget-view+json": {
              "version_major": 2,
              "version_minor": 0,
              "model_id": "5f67666c391048a6a62d273ec06cf6d0"
            }
          },
          "metadata": {}
        },
        {
          "output_type": "stream",
          "name": "stdout",
          "text": [
            "Extracting ./data/cifar-100-python.tar.gz to ./data\n",
            "Files already downloaded and verified\n"
          ]
        }
      ],
      "source": [
        "import tensorflow_datasets as tfds\n",
        "from torchvision import models,datasets,transforms\n",
        "from torch.utils.data import DataLoader\n",
        "import torch.nn as nn\n",
        "import torch \n",
        "\n",
        "stats = ((0.507, 0.487, 0.441), (0.267, 0.256, 0.276))\n",
        "\n",
        "data_transforms = {\n",
        "    'train': transforms.Compose([transforms.RandomCrop(32, padding=4, padding_mode='reflect'), \n",
        "                         transforms.RandomHorizontalFlip(), \n",
        "                         transforms.ToTensor(), \n",
        "                         transforms.Normalize(*stats,inplace=True)]),\n",
        "    'val': transforms.Compose([\n",
        "        transforms.ToTensor(),\n",
        "         transforms.Normalize(*stats)\n",
        "\n",
        "    ]),\n",
        "}\n",
        "\n",
        "\n",
        "device = torch.device(\"cuda\" if torch.cuda.is_available() else \"cpu\")\n",
        "\n",
        "data = {'train':datasets.CIFAR100(root='./data', train=True, download=True, \n",
        "transform=data_transforms['train']),\n",
        "    \"val\":datasets.CIFAR100(root='./data', train=False, download=True, \n",
        "transform=data_transforms['val'])}\n",
        "\n"
      ]
    },
    {
      "cell_type": "code",
      "execution_count": 2,
      "metadata": {
        "id": "QI2YEfeCGHK1",
        "colab": {
          "base_uri": "https://localhost:8080/"
        },
        "outputId": "0e47694a-95af-42f7-8809-d9592a0cd3bd"
      },
      "outputs": [
        {
          "output_type": "stream",
          "name": "stderr",
          "text": [
            "/usr/local/lib/python3.7/dist-packages/torch/utils/data/dataloader.py:566: UserWarning: This DataLoader will create 3 worker processes in total. Our suggested max number of worker in current system is 2, which is smaller than what this DataLoader is going to create. Please be aware that excessive worker creation might get DataLoader running slow or even freeze, lower the worker number to avoid potential slowness/freeze if necessary.\n",
            "  cpuset_checked))\n"
          ]
        }
      ],
      "source": [
        "batch_size = 64\n",
        "dataloaders = {\n",
        "    'train': DataLoader(data['train'], batch_size=batch_size, shuffle=True,num_workers=3),\n",
        "    'val': DataLoader(data['val'], batch_size=batch_size*2, shuffle=True,num_workers=3)\n",
        "}"
      ]
    },
    {
      "cell_type": "code",
      "execution_count": 3,
      "metadata": {
        "colab": {
          "base_uri": "https://localhost:8080/"
        },
        "id": "2VtekAZzGHK2",
        "outputId": "d2345627-c873-4fde-8d1d-cf02bcbb9f4f"
      },
      "outputs": [
        {
          "output_type": "execute_result",
          "data": {
            "text/plain": [
              "(torch.Size([64, 3, 32, 32]), torch.Size([64]))"
            ]
          },
          "metadata": {},
          "execution_count": 3
        }
      ],
      "source": [
        "trainiter = iter(dataloaders['train'])\n",
        "features, labels = next(trainiter)\n",
        "features.shape, labels.shape"
      ]
    },
    {
      "cell_type": "markdown",
      "metadata": {
        "id": "00J1y3XvGHK4"
      },
      "source": [
        "(a) Finetuning: You will first load a pretrained model (Resnet50) and change the final fully connected layer output to the number of classes in the target dataset. Describe your target dataset features, number of classes and distribution of images per class (i.e., number of images per class). Show any 4 sample images (belonging to 2 different classes) from your target dataset. (2+2)"
      ]
    },
    {
      "cell_type": "markdown",
      "metadata": {
        "id": "yN0FpCmSGHK4"
      },
      "source": [
        "***Answer:***\n",
        "\n",
        "The CIFAR-100 dataset contains 50,000 training and 10,000 test images of 20 object classes, along with 100 object subclasses. It is traditional to train on the 100 object subclasses. Each image is an RGB image of size 32x3"
      ]
    },
    {
      "cell_type": "code",
      "execution_count": 4,
      "metadata": {
        "colab": {
          "base_uri": "https://localhost:8080/",
          "height": 534
        },
        "id": "I50LeDtYGHK3",
        "outputId": "44f83a85-bd05-458e-bf00-0c6ccbc1f828"
      },
      "outputs": [
        {
          "output_type": "stream",
          "name": "stderr",
          "text": [
            "WARNING:matplotlib.image:Clipping input data to the valid range for imshow with RGB data ([0..1] for floats or [0..255] for integers).\n",
            "WARNING:matplotlib.image:Clipping input data to the valid range for imshow with RGB data ([0..1] for floats or [0..255] for integers).\n",
            "WARNING:matplotlib.image:Clipping input data to the valid range for imshow with RGB data ([0..1] for floats or [0..255] for integers).\n",
            "WARNING:matplotlib.image:Clipping input data to the valid range for imshow with RGB data ([0..1] for floats or [0..255] for integers).\n"
          ]
        },
        {
          "output_type": "display_data",
          "data": {
            "text/plain": [
              "<Figure size 576x576 with 4 Axes>"
            ],
            "image/png": "[encoded data removed]"
          },
          "metadata": {
            "needs_background": "light"
          }
        }
      ],
      "source": [
        "import torch\n",
        "import matplotlib.pyplot as plt\n",
        "import numpy as np\n",
        "\n",
        "figure = plt.figure(figsize=(8, 8))\n",
        "cols, rows = 2, 2\n",
        "for i in range(1, cols * rows + 1):\n",
        "    sample_idx = torch.randint(len(dataloaders['train']), size=(1,)).item()\n",
        "    img, label = data['train'][sample_idx]\n",
        "    figure.add_subplot(rows, cols, i)\n",
        "    npimg = img.numpy()\n",
        "    # plt.title(labels_map[label])\n",
        "    plt.axis(\"off\")\n",
        "    plt.imshow(np.transpose(npimg, (1, 2, 0)))\n",
        "plt.show()"
      ]
    },
    {
      "cell_type": "code",
      "execution_count": 5,
      "metadata": {
        "id": "dksUv-oVGHK5",
        "colab": {
          "base_uri": "https://localhost:8080/",
          "height": 1000,
          "referenced_widgets": [
            "3c0f50714d704e0faa4b41555ee1cc3d",
            "def188b56d1f4ea98802b63999f51bcc",
            "8e39589b744a445fa75f2c14065f8fe9",
            "94cce6d107804694b36d8d8cadd1a537",
            "7e61675d86784bdbbd797394904d3d21",
            "c1252f62dd9141a8bb5f363b25a3321c",
            "acff1b7c2c004d99a23ace775f9d5592",
            "e96346d0e47c411eb0adf94beaf89868",
            "a5be4cb6918d49dfbc83839b37a06744",
            "6dedd68dd0e447a6a3c18f41d71b4366",
            "3ea5eaec5e354748aa7df11ae1d9a087"
          ]
        },
        "outputId": "5031efac-5d35-4fe7-8b4f-f5e8959beba1"
      },
      "outputs": [
        {
          "output_type": "stream",
          "name": "stderr",
          "text": [
            "/usr/local/lib/python3.7/dist-packages/torchvision/models/_utils.py:209: UserWarning: The parameter 'pretrained' is deprecated since 0.13 and will be removed in 0.15, please use 'weights' instead.\n",
            "  f\"The parameter '{pretrained_param}' is deprecated since 0.13 and will be removed in 0.15, \"\n",
            "/usr/local/lib/python3.7/dist-packages/torchvision/models/_utils.py:223: UserWarning: Arguments other than a weight enum or `None` for 'weights' are deprecated since 0.13 and will be removed in 0.15. The current behavior is equivalent to passing `weights=ResNet50_Weights.IMAGENET1K_V1`. You can also use `weights=ResNet50_Weights.DEFAULT` to get the most up-to-date weights.\n",
            "  warnings.warn(msg)\n",
            "Downloading: \"https://download.pytorch.org/models/resnet50-0676ba61.pth\" to /root/.cache/torch/hub/checkpoints/resnet50-0676ba61.pth\n"
          ]
        },
        {
          "output_type": "display_data",
          "data": {
            "text/plain": [
              "  0%|          | 0.00/97.8M [00:00<?, ?B/s]"
            ],
            "application/vnd.jupyter.widget-view+json": {
              "version_major": 2,
              "version_minor": 0,
              "model_id": "3c0f50714d704e0faa4b41555ee1cc3d"
            }
          },
          "metadata": {}
        },
        {
          "output_type": "execute_result",
          "data": {
            "text/plain": [
              "ResNet(\n",
              "  (conv1): Conv2d(3, 64, kernel_size=(7, 7), stride=(2, 2), padding=(3, 3), bias=False)\n",
              "  (bn1): BatchNorm2d(64, eps=1e-05, momentum=0.1, affine=True, track_running_stats=True)\n",
              "  (relu): ReLU(inplace=True)\n",
              "  (maxpool): MaxPool2d(kernel_size=3, stride=2, padding=1, dilation=1, ceil_mode=False)\n",
              "  (layer1): Sequential(\n",
              "    (0): Bottleneck(\n",
              "      (conv1): Conv2d(64, 64, kernel_size=(1, 1), stride=(1, 1), bias=False)\n",
              "      (bn1): BatchNorm2d(64, eps=1e-05, momentum=0.1, affine=True, track_running_stats=True)\n",
              "      (conv2): Conv2d(64, 64, kernel_size=(3, 3), stride=(1, 1), padding=(1, 1), bias=False)\n",
              "      (bn2): BatchNorm2d(64, eps=1e-05, momentum=0.1, affine=True, track_running_stats=True)\n",
              "      (conv3): Conv2d(64, 256, kernel_size=(1, 1), stride=(1, 1), bias=False)\n",
              "      (bn3): BatchNorm2d(256, eps=1e-05, momentum=0.1, affine=True, track_running_stats=True)\n",
              "      (relu): ReLU(inplace=True)\n",
              "      (downsample): Sequential(\n",
              "        (0): Conv2d(64, 256, kernel_size=(1, 1), stride=(1, 1), bias=False)\n",
              "        (1): BatchNorm2d(256, eps=1e-05, momentum=0.1, affine=True, track_running_stats=True)\n",
              "      )\n",
              "    )\n",
              "    (1): Bottleneck(\n",
              "      (conv1): Conv2d(256, 64, kernel_size=(1, 1), stride=(1, 1), bias=False)\n",
              "      (bn1): BatchNorm2d(64, eps=1e-05, momentum=0.1, affine=True, track_running_stats=True)\n",
              "      (conv2): Conv2d(64, 64, kernel_size=(3, 3), stride=(1, 1), padding=(1, 1), bias=False)\n",
              "      (bn2): BatchNorm2d(64, eps=1e-05, momentum=0.1, affine=True, track_running_stats=True)\n",
              "      (conv3): Conv2d(64, 256, kernel_size=(1, 1), stride=(1, 1), bias=False)\n",
              "      (bn3): BatchNorm2d(256, eps=1e-05, momentum=0.1, affine=True, track_running_stats=True)\n",
              "      (relu): ReLU(inplace=True)\n",
              "    )\n",
              "    (2): Bottleneck(\n",
              "      (conv1): Conv2d(256, 64, kernel_size=(1, 1), stride=(1, 1), bias=False)\n",
              "      (bn1): BatchNorm2d(64, eps=1e-05, momentum=0.1, affine=True, track_running_stats=True)\n",
              "      (conv2): Conv2d(64, 64, kernel_size=(3, 3), stride=(1, 1), padding=(1, 1), bias=False)\n",
              "      (bn2): BatchNorm2d(64, eps=1e-05, momentum=0.1, affine=True, track_running_stats=True)\n",
              "      (conv3): Conv2d(64, 256, kernel_size=(1, 1), stride=(1, 1), bias=False)\n",
              "      (bn3): BatchNorm2d(256, eps=1e-05, momentum=0.1, affine=True, track_running_stats=True)\n",
              "      (relu): ReLU(inplace=True)\n",
              "    )\n",
              "  )\n",
              "  (layer2): Sequential(\n",
              "    (0): Bottleneck(\n",
              "      (conv1): Conv2d(256, 128, kernel_size=(1, 1), stride=(1, 1), bias=False)\n",
              "      (bn1): BatchNorm2d(128, eps=1e-05, momentum=0.1, affine=True, track_running_stats=True)\n",
              "      (conv2): Conv2d(128, 128, kernel_size=(3, 3), stride=(2, 2), padding=(1, 1), bias=False)\n",
              "      (bn2): BatchNorm2d(128, eps=1e-05, momentum=0.1, affine=True, track_running_stats=True)\n",
              "      (conv3): Conv2d(128, 512, kernel_size=(1, 1), stride=(1, 1), bias=False)\n",
              "      (bn3): BatchNorm2d(512, eps=1e-05, momentum=0.1, affine=True, track_running_stats=True)\n",
              "      (relu): ReLU(inplace=True)\n",
              "      (downsample): Sequential(\n",
              "        (0): Conv2d(256, 512, kernel_size=(1, 1), stride=(2, 2), bias=False)\n",
              "        (1): BatchNorm2d(512, eps=1e-05, momentum=0.1, affine=True, track_running_stats=True)\n",
              "      )\n",
              "    )\n",
              "    (1): Bottleneck(\n",
              "      (conv1): Conv2d(512, 128, kernel_size=(1, 1), stride=(1, 1), bias=False)\n",
              "      (bn1): BatchNorm2d(128, eps=1e-05, momentum=0.1, affine=True, track_running_stats=True)\n",
              "      (conv2): Conv2d(128, 128, kernel_size=(3, 3), stride=(1, 1), padding=(1, 1), bias=False)\n",
              "      (bn2): BatchNorm2d(128, eps=1e-05, momentum=0.1, affine=True, track_running_stats=True)\n",
              "      (conv3): Conv2d(128, 512, kernel_size=(1, 1), stride=(1, 1), bias=False)\n",
              "      (bn3): BatchNorm2d(512, eps=1e-05, momentum=0.1, affine=True, track_running_stats=True)\n",
              "      (relu): ReLU(inplace=True)\n",
              "    )\n",
              "    (2): Bottleneck(\n",
              "      (conv1): Conv2d(512, 128, kernel_size=(1, 1), stride=(1, 1), bias=False)\n",
              "      (bn1): BatchNorm2d(128, eps=1e-05, momentum=0.1, affine=True, track_running_stats=True)\n",
              "      (conv2): Conv2d(128, 128, kernel_size=(3, 3), stride=(1, 1), padding=(1, 1), bias=False)\n",
              "      (bn2): BatchNorm2d(128, eps=1e-05, momentum=0.1, affine=True, track_running_stats=True)\n",
              "      (conv3): Conv2d(128, 512, kernel_size=(1, 1), stride=(1, 1), bias=False)\n",
              "      (bn3): BatchNorm2d(512, eps=1e-05, momentum=0.1, affine=True, track_running_stats=True)\n",
              "      (relu): ReLU(inplace=True)\n",
              "    )\n",
              "    (3): Bottleneck(\n",
              "      (conv1): Conv2d(512, 128, kernel_size=(1, 1), stride=(1, 1), bias=False)\n",
              "      (bn1): BatchNorm2d(128, eps=1e-05, momentum=0.1, affine=True, track_running_stats=True)\n",
              "      (conv2): Conv2d(128, 128, kernel_size=(3, 3), stride=(1, 1), padding=(1, 1), bias=False)\n",
              "      (bn2): BatchNorm2d(128, eps=1e-05, momentum=0.1, affine=True, track_running_stats=True)\n",
              "      (conv3): Conv2d(128, 512, kernel_size=(1, 1), stride=(1, 1), bias=False)\n",
              "      (bn3): BatchNorm2d(512, eps=1e-05, momentum=0.1, affine=True, track_running_stats=True)\n",
              "      (relu): ReLU(inplace=True)\n",
              "    )\n",
              "  )\n",
              "  (layer3): Sequential(\n",
              "    (0): Bottleneck(\n",
              "      (conv1): Conv2d(512, 256, kernel_size=(1, 1), stride=(1, 1), bias=False)\n",
              "      (bn1): BatchNorm2d(256, eps=1e-05, momentum=0.1, affine=True, track_running_stats=True)\n",
              "      (conv2): Conv2d(256, 256, kernel_size=(3, 3), stride=(2, 2), padding=(1, 1), bias=False)\n",
              "      (bn2): BatchNorm2d(256, eps=1e-05, momentum=0.1, affine=True, track_running_stats=True)\n",
              "      (conv3): Conv2d(256, 1024, kernel_size=(1, 1), stride=(1, 1), bias=False)\n",
              "      (bn3): BatchNorm2d(1024, eps=1e-05, momentum=0.1, affine=True, track_running_stats=True)\n",
              "      (relu): ReLU(inplace=True)\n",
              "      (downsample): Sequential(\n",
              "        (0): Conv2d(512, 1024, kernel_size=(1, 1), stride=(2, 2), bias=False)\n",
              "        (1): BatchNorm2d(1024, eps=1e-05, momentum=0.1, affine=True, track_running_stats=True)\n",
              "      )\n",
              "    )\n",
              "    (1): Bottleneck(\n",
              "      (conv1): Conv2d(1024, 256, kernel_size=(1, 1), stride=(1, 1), bias=False)\n",
              "      (bn1): BatchNorm2d(256, eps=1e-05, momentum=0.1, affine=True, track_running_stats=True)\n",
              "      (conv2): Conv2d(256, 256, kernel_size=(3, 3), stride=(1, 1), padding=(1, 1), bias=False)\n",
              "      (bn2): BatchNorm2d(256, eps=1e-05, momentum=0.1, affine=True, track_running_stats=True)\n",
              "      (conv3): Conv2d(256, 1024, kernel_size=(1, 1), stride=(1, 1), bias=False)\n",
              "      (bn3): BatchNorm2d(1024, eps=1e-05, momentum=0.1, affine=True, track_running_stats=True)\n",
              "      (relu): ReLU(inplace=True)\n",
              "    )\n",
              "    (2): Bottleneck(\n",
              "      (conv1): Conv2d(1024, 256, kernel_size=(1, 1), stride=(1, 1), bias=False)\n",
              "      (bn1): BatchNorm2d(256, eps=1e-05, momentum=0.1, affine=True, track_running_stats=True)\n",
              "      (conv2): Conv2d(256, 256, kernel_size=(3, 3), stride=(1, 1), padding=(1, 1), bias=False)\n",
              "      (bn2): BatchNorm2d(256, eps=1e-05, momentum=0.1, affine=True, track_running_stats=True)\n",
              "      (conv3): Conv2d(256, 1024, kernel_size=(1, 1), stride=(1, 1), bias=False)\n",
              "      (bn3): BatchNorm2d(1024, eps=1e-05, momentum=0.1, affine=True, track_running_stats=True)\n",
              "      (relu): ReLU(inplace=True)\n",
              "    )\n",
              "    (3): Bottleneck(\n",
              "      (conv1): Conv2d(1024, 256, kernel_size=(1, 1), stride=(1, 1), bias=False)\n",
              "      (bn1): BatchNorm2d(256, eps=1e-05, momentum=0.1, affine=True, track_running_stats=True)\n",
              "      (conv2): Conv2d(256, 256, kernel_size=(3, 3), stride=(1, 1), padding=(1, 1), bias=False)\n",
              "      (bn2): BatchNorm2d(256, eps=1e-05, momentum=0.1, affine=True, track_running_stats=True)\n",
              "      (conv3): Conv2d(256, 1024, kernel_size=(1, 1), stride=(1, 1), bias=False)\n",
              "      (bn3): BatchNorm2d(1024, eps=1e-05, momentum=0.1, affine=True, track_running_stats=True)\n",
              "      (relu): ReLU(inplace=True)\n",
              "    )\n",
              "    (4): Bottleneck(\n",
              "      (conv1): Conv2d(1024, 256, kernel_size=(1, 1), stride=(1, 1), bias=False)\n",
              "      (bn1): BatchNorm2d(256, eps=1e-05, momentum=0.1, affine=True, track_running_stats=True)\n",
              "      (conv2): Conv2d(256, 256, kernel_size=(3, 3), stride=(1, 1), padding=(1, 1), bias=False)\n",
              "      (bn2): BatchNorm2d(256, eps=1e-05, momentum=0.1, affine=True, track_running_stats=True)\n",
              "      (conv3): Conv2d(256, 1024, kernel_size=(1, 1), stride=(1, 1), bias=False)\n",
              "      (bn3): BatchNorm2d(1024, eps=1e-05, momentum=0.1, affine=True, track_running_stats=True)\n",
              "      (relu): ReLU(inplace=True)\n",
              "    )\n",
              "    (5): Bottleneck(\n",
              "      (conv1): Conv2d(1024, 256, kernel_size=(1, 1), stride=(1, 1), bias=False)\n",
              "      (bn1): BatchNorm2d(256, eps=1e-05, momentum=0.1, affine=True, track_running_stats=True)\n",
              "      (conv2): Conv2d(256, 256, kernel_size=(3, 3), stride=(1, 1), padding=(1, 1), bias=False)\n",
              "      (bn2): BatchNorm2d(256, eps=1e-05, momentum=0.1, affine=True, track_running_stats=True)\n",
              "      (conv3): Conv2d(256, 1024, kernel_size=(1, 1), stride=(1, 1), bias=False)\n",
              "      (bn3): BatchNorm2d(1024, eps=1e-05, momentum=0.1, affine=True, track_running_stats=True)\n",
              "      (relu): ReLU(inplace=True)\n",
              "    )\n",
              "  )\n",
              "  (layer4): Sequential(\n",
              "    (0): Bottleneck(\n",
              "      (conv1): Conv2d(1024, 512, kernel_size=(1, 1), stride=(1, 1), bias=False)\n",
              "      (bn1): BatchNorm2d(512, eps=1e-05, momentum=0.1, affine=True, track_running_stats=True)\n",
              "      (conv2): Conv2d(512, 512, kernel_size=(3, 3), stride=(2, 2), padding=(1, 1), bias=False)\n",
              "      (bn2): BatchNorm2d(512, eps=1e-05, momentum=0.1, affine=True, track_running_stats=True)\n",
              "      (conv3): Conv2d(512, 2048, kernel_size=(1, 1), stride=(1, 1), bias=False)\n",
              "      (bn3): BatchNorm2d(2048, eps=1e-05, momentum=0.1, affine=True, track_running_stats=True)\n",
              "      (relu): ReLU(inplace=True)\n",
              "      (downsample): Sequential(\n",
              "        (0): Conv2d(1024, 2048, kernel_size=(1, 1), stride=(2, 2), bias=False)\n",
              "        (1): BatchNorm2d(2048, eps=1e-05, momentum=0.1, affine=True, track_running_stats=True)\n",
              "      )\n",
              "    )\n",
              "    (1): Bottleneck(\n",
              "      (conv1): Conv2d(2048, 512, kernel_size=(1, 1), stride=(1, 1), bias=False)\n",
              "      (bn1): BatchNorm2d(512, eps=1e-05, momentum=0.1, affine=True, track_running_stats=True)\n",
              "      (conv2): Conv2d(512, 512, kernel_size=(3, 3), stride=(1, 1), padding=(1, 1), bias=False)\n",
              "      (bn2): BatchNorm2d(512, eps=1e-05, momentum=0.1, affine=True, track_running_stats=True)\n",
              "      (conv3): Conv2d(512, 2048, kernel_size=(1, 1), stride=(1, 1), bias=False)\n",
              "      (bn3): BatchNorm2d(2048, eps=1e-05, momentum=0.1, affine=True, track_running_stats=True)\n",
              "      (relu): ReLU(inplace=True)\n",
              "    )\n",
              "    (2): Bottleneck(\n",
              "      (conv1): Conv2d(2048, 512, kernel_size=(1, 1), stride=(1, 1), bias=False)\n",
              "      (bn1): BatchNorm2d(512, eps=1e-05, momentum=0.1, affine=True, track_running_stats=True)\n",
              "      (conv2): Conv2d(512, 512, kernel_size=(3, 3), stride=(1, 1), padding=(1, 1), bias=False)\n",
              "      (bn2): BatchNorm2d(512, eps=1e-05, momentum=0.1, affine=True, track_running_stats=True)\n",
              "      (conv3): Conv2d(512, 2048, kernel_size=(1, 1), stride=(1, 1), bias=False)\n",
              "      (bn3): BatchNorm2d(2048, eps=1e-05, momentum=0.1, affine=True, track_running_stats=True)\n",
              "      (relu): ReLU(inplace=True)\n",
              "    )\n",
              "  )\n",
              "  (avgpool): AdaptiveAvgPool2d(output_size=(1, 1))\n",
              "  (fc): Linear(in_features=2048, out_features=100, bias=True)\n",
              ")"
            ]
          },
          "metadata": {},
          "execution_count": 5
        }
      ],
      "source": [
        "# pretrained model.\n",
        "resnet = models.resnet50(pretrained=True)\n",
        "\n",
        "num_features = resnet.fc.in_features\n",
        "\n",
        "# the fully connected layer with to classify the 100 classes\n",
        "\n",
        "resnet.fc = nn.Linear(num_features,100)\n",
        "\n",
        "# sending to device , Following tutorial.\n",
        "resnet.to(device)\n",
        "\n"
      ]
    },
    {
      "cell_type": "markdown",
      "source": [
        "(b) First finetune by setting the same value of hyperparameters (learning rate=0.001, momentum=0.9) for all the layers. Keep batch size of 64 and train for 50-60 epochs or until model converges well. You will use a multi-step learning rate schedule and decay by a factor of 0.1 (γ = 0.1 in the link below). You can choose steps at which you want to decay the learning rate but do 3 drops during the training. So the first drop will bring down the learning rate to 0.0001, second to 0.00001, third to 0.000001. For example, if training for 60 epochs, first drop can happen at epoch 15, second at epoch 30 and third at epoch 45. (6)\n"
      ],
      "metadata": {
        "id": "AVul_a75L3Ck"
      }
    },
    {
      "cell_type": "code",
      "source": [
        "import time\n",
        "import os\n",
        "import copy\n",
        "dataset_sizes = {x: len(data[x]) for x in ['train', 'val']}\n",
        "#dictiorany to store the data across epochs\n",
        "training_data = {\"epoch\":[],'train_acc':[],\"test_acc\":[]}\n",
        "\n",
        "def train_model(model, criterion, optimizer, scheduler, num_epochs=25):\n",
        "    training_data[\"epoch\"] = []\n",
        "    training_data['train_acc'] = []\n",
        "    training_data[\"test_acc\"] = []\n",
        "    since = time.time()\n",
        "\n",
        "    best_model_wts = copy.deepcopy(model.state_dict())\n",
        "    best_acc = 0.0\n",
        "\n",
        "    for epoch in range(num_epochs):\n",
        "        print('Epoch {}/{}'.format(epoch, num_epochs - 1))\n",
        "        print('-' * 10)\n",
        "\n",
        "        # Each epoch has a training and validation phase\n",
        "        for phase in ['train', 'val']:\n",
        "            if phase == 'train':\n",
        "                model.train()  # Set model to training mode\n",
        "            else:\n",
        "                model.eval()   # Set model to evaluate mode\n",
        "\n",
        "            running_loss = 0.0\n",
        "            running_corrects = 0\n",
        "\n",
        "            # Iterate over data.\n",
        "            for inputs, labels in dataloaders[phase]:\n",
        "                inputs = inputs.to(device)\n",
        "                labels = labels.to(device)\n",
        "                optimizer.zero_grad()\n",
        "                # forward\n",
        "                # track history if only in train\n",
        "                with torch.set_grad_enabled(phase == 'train'):\n",
        "                    outputs = model(inputs)\n",
        "                    _, preds = torch.max(outputs, 1)\n",
        "                    loss = criterion(outputs, labels)\n",
        "\n",
        "                    # backward + optimize only if in training phase\n",
        "                    if phase == 'train':\n",
        "                        \n",
        "                        loss.backward()\n",
        "                        optimizer.step()\n",
        "\n",
        "                # statistics\n",
        "                running_loss += loss.item() * inputs.size(0)\n",
        "                running_corrects += torch.sum(preds == labels.data)\n",
        "\n",
        "            if phase == 'train':\n",
        "                scheduler.step()\n",
        "\n",
        "            epoch_loss = running_loss / dataset_sizes[phase]\n",
        "            epoch_acc = running_corrects.double() / dataset_sizes[phase]\n",
        "\n",
        "            training_data['epoch'].append(epoch+1)\n",
        "            if phase =='train':\n",
        "              training_data['train_acc'].append(epoch_acc)\n",
        "            else:\n",
        "              training_data['test_acc'].append(epoch_acc)\n",
        "\n",
        "            print('{} Loss: {:.4f} Acc: {:.4f}'.format(\n",
        "                phase, epoch_loss, epoch_acc))\n",
        "\n",
        "            # deep copy the model\n",
        "            if phase == 'val' and epoch_acc > best_acc:\n",
        "                best_acc = epoch_acc\n",
        "                best_model_wts = copy.deepcopy(model.state_dict())\n",
        "\n",
        "        print()\n",
        "\n",
        "    time_elapsed = time.time() - since\n",
        "    print('Training complete in {:.0f}m {:.0f}s'.format(\n",
        "        time_elapsed // 60, time_elapsed % 60))\n",
        "    print('Best val Acc: {:4f}'.format(best_acc))\n",
        "\n",
        "    # load best model weights\n",
        "    model.load_state_dict(best_model_wts)\n",
        "    return model"
      ],
      "metadata": {
        "id": "wf1vp5rtQhw0"
      },
      "execution_count": 6,
      "outputs": []
    },
    {
      "cell_type": "code",
      "source": [
        "# Function created by me to print a \n",
        "def print_history(data):\n",
        "  import matplotlib.pyplot as plt\n",
        "\n",
        "  new_data  = {}\n",
        "  for k, v in data.items():\n",
        "    if k is not 'epoch':\n",
        "      v = [ float(i.detach().to(\"cpu\").numpy()) for i in v]\n",
        "      new_data[k] = v\n",
        "\n",
        "  plt.plot(list(set(data['epoch'])),new_data['train_acc'],label= \"Training Accuracy\")\n",
        "  plt.plot(list(set(data['epoch'])),new_data['test_acc'],label= \"Validation Accuracy\")\n",
        "  plt.legend()\n",
        "  plt.show()"
      ],
      "metadata": {
        "id": "msASD9SDeqrC"
      },
      "execution_count": 11,
      "outputs": []
    },
    {
      "cell_type": "code",
      "source": [
        "epochs = 40\n",
        "step = 10\n",
        "\n",
        "criterion = nn.CrossEntropyLoss()\n",
        "\n",
        "# setting hyperparameter values.\n",
        "optimizer = torch.optim.SGD(resnet.parameters(),lr = 0.001,momentum = 0.9)\n",
        "\n",
        "# multistep learning rate schedule\n",
        "\n",
        "step_lr_scheduler = torch.optim.lr_scheduler.StepLR(optimizer,step_size=step,gamma = 0.1)\n",
        "\n",
        "model_1 = train_model(resnet, criterion, optimizer, step_lr_scheduler, num_epochs=epochs)\n"
      ],
      "metadata": {
        "colab": {
          "base_uri": "https://localhost:8080/"
        },
        "id": "uZvEONaEL4rg",
        "outputId": "40ed174a-d8dd-436e-fbe8-a558f8cd8abd"
      },
      "execution_count": 9,
      "outputs": [
        {
          "output_type": "stream",
          "name": "stdout",
          "text": [
            "Epoch 0/39\n",
            "----------\n"
          ]
        },
        {
          "output_type": "stream",
          "name": "stderr",
          "text": [
            "/usr/local/lib/python3.7/dist-packages/torch/utils/data/dataloader.py:566: UserWarning: This DataLoader will create 3 worker processes in total. Our suggested max number of worker in current system is 2, which is smaller than what this DataLoader is going to create. Please be aware that excessive worker creation might get DataLoader running slow or even freeze, lower the worker number to avoid potential slowness/freeze if necessary.\n",
            "  cpuset_checked))\n"
          ]
        },
        {
          "output_type": "stream",
          "name": "stdout",
          "text": [
            "train Loss: 2.9548 Acc: 0.2898\n",
            "val Loss: 1.9814 Acc: 0.4641\n",
            "\n",
            "Epoch 1/39\n",
            "----------\n",
            "train Loss: 1.9181 Acc: 0.4783\n",
            "val Loss: 1.6577 Acc: 0.5355\n",
            "\n",
            "Epoch 2/39\n",
            "----------\n",
            "train Loss: 1.6387 Acc: 0.5459\n",
            "val Loss: 1.5349 Acc: 0.5685\n",
            "\n",
            "Epoch 3/39\n",
            "----------\n",
            "train Loss: 1.4644 Acc: 0.5889\n",
            "val Loss: 1.4684 Acc: 0.5906\n",
            "\n",
            "Epoch 4/39\n",
            "----------\n",
            "train Loss: 1.3330 Acc: 0.6201\n",
            "val Loss: 1.4436 Acc: 0.5947\n",
            "\n",
            "Epoch 5/39\n",
            "----------\n",
            "train Loss: 1.2276 Acc: 0.6457\n",
            "val Loss: 1.3929 Acc: 0.6105\n",
            "\n",
            "Epoch 6/39\n",
            "----------\n",
            "train Loss: 1.1320 Acc: 0.6726\n",
            "val Loss: 1.3875 Acc: 0.6098\n",
            "\n",
            "Epoch 7/39\n",
            "----------\n",
            "train Loss: 1.0632 Acc: 0.6871\n",
            "val Loss: 1.3645 Acc: 0.6251\n",
            "\n",
            "Epoch 8/39\n",
            "----------\n",
            "train Loss: 0.9867 Acc: 0.7114\n",
            "val Loss: 1.3600 Acc: 0.6242\n",
            "\n",
            "Epoch 9/39\n",
            "----------\n",
            "train Loss: 0.9250 Acc: 0.7247\n",
            "val Loss: 1.3378 Acc: 0.6325\n",
            "\n",
            "Epoch 10/39\n",
            "----------\n",
            "train Loss: 0.7552 Acc: 0.7746\n",
            "val Loss: 1.2690 Acc: 0.6508\n",
            "\n",
            "Epoch 11/39\n",
            "----------\n",
            "train Loss: 0.7073 Acc: 0.7890\n",
            "val Loss: 1.2606 Acc: 0.6514\n",
            "\n",
            "Epoch 12/39\n",
            "----------\n",
            "train Loss: 0.6702 Acc: 0.7991\n",
            "val Loss: 1.2459 Acc: 0.6571\n",
            "\n",
            "Epoch 13/39\n",
            "----------\n",
            "train Loss: 0.6624 Acc: 0.8025\n",
            "val Loss: 1.2376 Acc: 0.6560\n",
            "\n",
            "Epoch 14/39\n",
            "----------\n",
            "train Loss: 0.6394 Acc: 0.8098\n",
            "val Loss: 1.2408 Acc: 0.6567\n",
            "\n",
            "Epoch 15/39\n",
            "----------\n",
            "train Loss: 0.6271 Acc: 0.8114\n",
            "val Loss: 1.2483 Acc: 0.6592\n",
            "\n",
            "Epoch 16/39\n",
            "----------\n",
            "train Loss: 0.6031 Acc: 0.8197\n",
            "val Loss: 1.2478 Acc: 0.6559\n",
            "\n",
            "Epoch 17/39\n",
            "----------\n",
            "train Loss: 0.5918 Acc: 0.8222\n",
            "val Loss: 1.2470 Acc: 0.6588\n",
            "\n",
            "Epoch 18/39\n",
            "----------\n",
            "train Loss: 0.5772 Acc: 0.8263\n",
            "val Loss: 1.2404 Acc: 0.6607\n",
            "\n",
            "Epoch 19/39\n",
            "----------\n",
            "train Loss: 0.5731 Acc: 0.8281\n",
            "val Loss: 1.2540 Acc: 0.6591\n",
            "\n",
            "Epoch 20/39\n",
            "----------\n",
            "train Loss: 0.5509 Acc: 0.8370\n",
            "val Loss: 1.2436 Acc: 0.6601\n",
            "\n",
            "Epoch 21/39\n",
            "----------\n",
            "train Loss: 0.5493 Acc: 0.8362\n",
            "val Loss: 1.2448 Acc: 0.6590\n",
            "\n",
            "Epoch 22/39\n",
            "----------\n",
            "train Loss: 0.5425 Acc: 0.8364\n",
            "val Loss: 1.2392 Acc: 0.6619\n",
            "\n",
            "Epoch 23/39\n",
            "----------\n",
            "train Loss: 0.5475 Acc: 0.8364\n",
            "val Loss: 1.2468 Acc: 0.6615\n",
            "\n",
            "Epoch 24/39\n",
            "----------\n",
            "train Loss: 0.5485 Acc: 0.8349\n",
            "val Loss: 1.2442 Acc: 0.6623\n",
            "\n",
            "Epoch 25/39\n",
            "----------\n",
            "train Loss: 0.5435 Acc: 0.8376\n",
            "val Loss: 1.2413 Acc: 0.6620\n",
            "\n",
            "Epoch 26/39\n",
            "----------\n",
            "train Loss: 0.5422 Acc: 0.8385\n",
            "val Loss: 1.2468 Acc: 0.6618\n",
            "\n",
            "Epoch 27/39\n",
            "----------\n",
            "train Loss: 0.5448 Acc: 0.8359\n",
            "val Loss: 1.2524 Acc: 0.6615\n",
            "\n",
            "Epoch 28/39\n",
            "----------\n",
            "train Loss: 0.5358 Acc: 0.8389\n",
            "val Loss: 1.2428 Acc: 0.6627\n",
            "\n",
            "Epoch 29/39\n",
            "----------\n",
            "train Loss: 0.5436 Acc: 0.8370\n",
            "val Loss: 1.2400 Acc: 0.6612\n",
            "\n",
            "Epoch 30/39\n",
            "----------\n",
            "train Loss: 0.5376 Acc: 0.8399\n",
            "val Loss: 1.2341 Acc: 0.6634\n",
            "\n",
            "Epoch 31/39\n",
            "----------\n",
            "train Loss: 0.5353 Acc: 0.8399\n",
            "val Loss: 1.2460 Acc: 0.6604\n",
            "\n",
            "Epoch 32/39\n",
            "----------\n",
            "train Loss: 0.5312 Acc: 0.8417\n",
            "val Loss: 1.2438 Acc: 0.6635\n",
            "\n",
            "Epoch 33/39\n",
            "----------\n",
            "train Loss: 0.5379 Acc: 0.8379\n",
            "val Loss: 1.2425 Acc: 0.6625\n",
            "\n",
            "Epoch 34/39\n",
            "----------\n",
            "train Loss: 0.5315 Acc: 0.8414\n",
            "val Loss: 1.2548 Acc: 0.6625\n",
            "\n",
            "Epoch 35/39\n",
            "----------\n",
            "train Loss: 0.5334 Acc: 0.8405\n",
            "val Loss: 1.2429 Acc: 0.6618\n",
            "\n",
            "Epoch 36/39\n",
            "----------\n",
            "train Loss: 0.5336 Acc: 0.8388\n",
            "val Loss: 1.2451 Acc: 0.6607\n",
            "\n",
            "Epoch 37/39\n",
            "----------\n",
            "train Loss: 0.5353 Acc: 0.8404\n",
            "val Loss: 1.2454 Acc: 0.6632\n",
            "\n",
            "Epoch 38/39\n",
            "----------\n",
            "train Loss: 0.5338 Acc: 0.8407\n",
            "val Loss: 1.2358 Acc: 0.6610\n",
            "\n",
            "Epoch 39/39\n",
            "----------\n",
            "train Loss: 0.5289 Acc: 0.8418\n",
            "val Loss: 1.2453 Acc: 0.6612\n",
            "\n",
            "Training complete in 32m 1s\n",
            "Best val Acc: 0.663500\n"
          ]
        }
      ]
    },
    {
      "cell_type": "code",
      "source": [
        "print_history(training_data)"
      ],
      "metadata": {
        "colab": {
          "base_uri": "https://localhost:8080/",
          "height": 265
        },
        "id": "PQkxcOzSmO-V",
        "outputId": "66616758-3a93-4127-eccc-914934b8ffb8"
      },
      "execution_count": 12,
      "outputs": [
        {
          "output_type": "display_data",
          "data": {
            "text/plain": [
              "<Figure size 432x288 with 1 Axes>"
            ],
            "image/png": "[encoded data removed]"
          },
          "metadata": {
            "needs_background": "light"
          }
        }
      ]
    },
    {
      "cell_type": "markdown",
      "metadata": {
        "id": "jPlUaFgAGHK5"
      },
      "source": [
        "\n",
        "\n",
        "(c) Next keeping all the hyperparameters (including multi-step learning rate schedule) same as before, change the learning rate to 0.01 and 0.1 uniformly for all the layers. This means keep all the layers at same learning rate. So you will be doing two experiments, one keeping learning rate of all layers at 0.01 and one with 0.1. Again finetune the model and report the final accuracy. How does the accuracy with the three learning rates compare ? Which learning rate gives you the best accuracy on the target dataset ? "
      ]
    },
    {
      "cell_type": "code",
      "source": [
        "# experiment with initial learning rate of 0.1\n",
        "resnet = models.resnet50(pretrained=True)\n",
        "\n",
        "num_features = resnet.fc.in_features\n",
        "\n",
        "# the fully connected layer with to classify the 100 classes\n",
        "\n",
        "resnet.fc = nn.Linear(num_features,100)\n",
        "\n",
        "# sending to device , Following tutorial.\n",
        "resnet.to(device)\n",
        "\n",
        "# learning rate to 0.01\n",
        "optimizer = torch.optim.SGD(resnet.parameters(),lr = 0.1,momentum = 0.9)\n",
        "\n",
        "# multistep learning rate schedule\n",
        "\n",
        "step_lr_scheduler = torch.optim.lr_scheduler.StepLR(optimizer,step_size=step,gamma = 0.1)\n",
        "\n",
        "model_2 = train_model(resnet, criterion, optimizer, step_lr_scheduler, num_epochs=epochs)\n"
      ],
      "metadata": {
        "id": "tkbdzhnbYQDS"
      },
      "execution_count": null,
      "outputs": []
    },
    {
      "cell_type": "code",
      "source": [
        "print_history(training_data)"
      ],
      "metadata": {
        "colab": {
          "base_uri": "https://localhost:8080/",
          "height": 268
        },
        "id": "X8zFzsRJrakO",
        "outputId": "62ebe06b-de5f-45ad-ae6b-33c1cd53fbe5"
      },
      "execution_count": null,
      "outputs": [
        {
          "output_type": "display_data",
          "data": {
            "text/plain": [
              "<Figure size 432x288 with 1 Axes>"
            ],
            "image/png": "[encoded data removed]"
          },
          "metadata": {
            "needs_background": "light"
          }
        }
      ]
    },
    {
      "cell_type": "code",
      "source": [
        "# experiment with initial learning rate of 0.01\n",
        "resnet = models.resnet50(pretrained=True)\n",
        "\n",
        "num_features = resnet.fc.in_features\n",
        "\n",
        "# the fully connected layer with to classify the 100 classes\n",
        "\n",
        "resnet.fc = nn.Linear(num_features,100)\n",
        "\n",
        "# sending to device , Following tutorial.\n",
        "resnet.to(device)\n",
        "\n",
        "# learning rate to 0.01\n",
        "optimizer = torch.optim.SGD(resnet.parameters(),lr = 0.01,momentum = 0.9)\n",
        "\n",
        "# multistep learning rate schedule\n",
        "\n",
        "step_lr_scheduler = torch.optim.lr_scheduler.StepLR(optimizer,step_size=step,gamma = 0.1)\n",
        "\n",
        "model_3 = train_model(resnet, criterion, optimizer, step_lr_scheduler, num_epochs=epochs)"
      ],
      "metadata": {
        "id": "I-1pQ3OJYlrr"
      },
      "execution_count": null,
      "outputs": []
    },
    {
      "cell_type": "code",
      "source": [
        "print_history(training_data)"
      ],
      "metadata": {
        "colab": {
          "base_uri": "https://localhost:8080/",
          "height": 265
        },
        "id": "6k3xAfugyUvd",
        "outputId": "59b41911-82e0-4940-9227-30ef29425da8"
      },
      "execution_count": null,
      "outputs": [
        {
          "output_type": "display_data",
          "data": {
            "text/plain": [
              "<Figure size 432x288 with 1 Axes>"
            ],
            "image/png": "[encoded data removed]"
          },
          "metadata": {
            "needs_background": "light"
          }
        }
      ]
    },
    {
      "cell_type": "markdown",
      "metadata": {
        "id": "AZngXAcEGHK7"
      },
      "source": [
        "2. When using a pretrained model as feature extractor, all the layers of the network are frozen except the final layer. Thus except the last layer, none of the inner layers’ gradients are updated during backward pass with the target dataset. Since gradients do not need to be computed for most of the network, this is faster than finetuning.\n",
        "\n",
        "(a) Now train only the last layer for 1, 0.1, 0.01, and 0.001 while keeping all the other hyperparameters and settings same as earlier for finetuning. Which learning rate gives you the best accuracy on the target dataset ? (6)"
      ]
    },
    {
      "cell_type": "code",
      "source": [
        "# freeze resnet weights\n",
        "# start with lr =1\n",
        "\n",
        "epochs = 40\n",
        "step = 10\n",
        "\n",
        "resnet = models.resnet50(pretrained=True)\n",
        "\n",
        "\n",
        "for param in resnet.parameters():\n",
        "    param.requires_grad = False\n",
        "\n",
        "\n",
        "num_features = resnet.fc.in_features\n",
        "\n",
        "# the fully connected layer with to classify the 100 classes\n",
        "\n",
        "resnet.fc = nn.Linear(num_features,100)\n",
        "\n",
        "# sending to device , Following tutorial.\n",
        "resnet.to(device)\n",
        "\n",
        "# learning rate to 0.01\n",
        "optimizer = torch.optim.SGD(resnet.parameters(),lr = 1,momentum = 0.9)\n",
        "\n",
        "# multistep learning rate schedule\n",
        "\n",
        "step_lr_scheduler = torch.optim.lr_scheduler.StepLR(optimizer,step_size=step,gamma = 0.1)\n",
        "\n",
        "model_4 = train_model(resnet, criterion, optimizer, step_lr_scheduler, num_epochs=epochs)\n"
      ],
      "metadata": {
        "id": "41U_GwoPY4aP"
      },
      "execution_count": null,
      "outputs": []
    },
    {
      "cell_type": "code",
      "source": [
        "print_history(training_data)"
      ],
      "metadata": {
        "colab": {
          "base_uri": "https://localhost:8080/",
          "height": 265
        },
        "id": "jZZU8758Vmiz",
        "outputId": "b9e61a35-d782-4c83-a087-57bde7adfd6a"
      },
      "execution_count": null,
      "outputs": [
        {
          "output_type": "display_data",
          "data": {
            "text/plain": [
              "<Figure size 432x288 with 1 Axes>"
            ],
            "image/png": "[encoded data removed]"
          },
          "metadata": {
            "needs_background": "light"
          }
        }
      ]
    },
    {
      "cell_type": "code",
      "source": [
        "#frozen weights \n",
        "#initial lr = 0.1\n",
        "\n",
        "resnet = models.resnet50(pretrained=True)\n",
        "\n",
        "\n",
        "for param in resnet.parameters():\n",
        "    param.requires_grad = False\n",
        "\n",
        "\n",
        "num_features = resnet.fc.in_features\n",
        "\n",
        "# the fully connected layer with to classify the 100 classes\n",
        "\n",
        "resnet.fc = nn.Linear(num_features,100)\n",
        "\n",
        "# sending to device , Following tutorial.\n",
        "resnet.to(device)\n",
        "\n",
        "# learning rate to 0.01\n",
        "optimizer = torch.optim.SGD(resnet.parameters(),lr = 0.1,momentum = 0.9)\n",
        "\n",
        "# multistep learning rate schedule\n",
        "\n",
        "step_lr_scheduler = torch.optim.lr_scheduler.StepLR(optimizer,step_size=step,gamma = 0.1)\n",
        "\n",
        "model_5 = train_model(resnet, criterion, optimizer, step_lr_scheduler, num_epochs=epochs)"
      ],
      "metadata": {
        "colab": {
          "base_uri": "https://localhost:8080/"
        },
        "id": "eKyr0WYgapq7",
        "outputId": "d94c133d-13c2-4a8c-f05e-6d4b708ea4b6"
      },
      "execution_count": null,
      "outputs": [
        {
          "output_type": "execute_result",
          "data": {
            "text/plain": [
              "{1, 2, 3, 4, 5, 6, 7, 8}"
            ]
          },
          "metadata": {},
          "execution_count": 43
        }
      ]
    },
    {
      "cell_type": "code",
      "source": [
        "#frozen weights \n",
        "#initial lr =  0.01\n",
        "\n",
        "resnet = models.resnet50(pretrained=True)\n",
        "\n",
        "\n",
        "for param in resnet.parameters():\n",
        "    param.requires_grad = False\n",
        "\n",
        "\n",
        "num_features = resnet.fc.in_features\n",
        "\n",
        "# the fully connected layer with to classify the 100 classes\n",
        "\n",
        "resnet.fc = nn.Linear(num_features,100)\n",
        "\n",
        "# sending to device , Following tutorial.\n",
        "resnet.to(device)\n",
        "\n",
        "# learning rate to 0.01\n",
        "optimizer = torch.optim.SGD(resnet.parameters(),lr = 0.01,momentum = 0.9)\n",
        "\n",
        "# multistep learning rate schedule\n",
        "\n",
        "step_lr_scheduler = torch.optim.lr_scheduler.StepLR(optimizer,step_size=step,gamma = 0.1)\n",
        "\n",
        "model_6 = train_model(resnet, criterion, optimizer, step_lr_scheduler, num_epochs=epochs)"
      ],
      "metadata": {
        "id": "0_Fer2IYkB2A"
      },
      "execution_count": null,
      "outputs": []
    },
    {
      "cell_type": "code",
      "source": [
        "#frozen weights \n",
        "#initial lr =  0.01\n",
        "\n",
        "resnet = models.resnet50(pretrained=True)\n",
        "\n",
        "\n",
        "for param in resnet.parameters():\n",
        "    param.requires_grad = False\n",
        "\n",
        "\n",
        "num_features = resnet.fc.in_features\n",
        "\n",
        "# the fully connected layer with to classify the 100 classes\n",
        "\n",
        "resnet.fc = nn.Linear(num_features,100)\n",
        "\n",
        "# sending to device , Following tutorial.\n",
        "resnet.to(device)\n",
        "\n",
        "# learning rate to 0.01\n",
        "optimizer = torch.optim.SGD(resnet.parameters(),lr = 0.001,momentum = 0.9)\n",
        "\n",
        "# multistep learning rate schedule\n",
        "\n",
        "step_lr_scheduler = torch.optim.lr_scheduler.StepLR(optimizer,step_size=step,gamma = 0.1)\n",
        "\n",
        "model_7 = train_model(resnet, criterion, optimizer, step_lr_scheduler, num_epochs=epochs)"
      ],
      "metadata": {
        "id": "kw7KfQ79kL0z"
      },
      "execution_count": null,
      "outputs": []
    },
    {
      "cell_type": "markdown",
      "source": [
        "(b) For your target dataset find the best final accuracy (across all the learning rates) from the two transfer learning approaches. Which approach and learning rate is the winner? Provide a plausible explanation to support your observation"
      ],
      "metadata": {
        "id": "ocn2CT_GY4xF"
      }
    },
    {
      "cell_type": "code",
      "source": [],
      "metadata": {
        "id": "Bfr-qtn5Y8aK"
      },
      "execution_count": null,
      "outputs": []
    }
  ],
  "metadata": {
    "kernelspec": {
      "display_name": "Python 3.8.5 ('base')",
      "language": "python",
      "name": "python3"
    },
    "language_info": {
      "codemirror_mode": {
        "name": "ipython",
        "version": 3
      },
      "file_extension": ".py",
      "mimetype": "text/x-python",
      "name": "python",
      "nbconvert_exporter": "python",
      "pygments_lexer": "ipython3",
      "version": "3.8.5"
    },
    "orig_nbformat": 4,
    "vscode": {
      "interpreter": {
        "hash": "2a0f08725565d2d00e70b9fae99b105541271f7be4baa13607a6e77e1d2c8c73"
      }
    },
    "colab": {
      "provenance": [],
      "collapsed_sections": []
    },
    "accelerator": "GPU",
    "gpuClass": "standard",
    "widgets": {
      "application/vnd.jupyter.widget-state+json": {
        "5f67666c391048a6a62d273ec06cf6d0": {
          "model_module": "@jupyter-widgets/controls",
          "model_name": "HBoxModel",
          "model_module_version": "1.5.0",
          "state": {
            "_dom_classes": [],
            "_model_module": "@jupyter-widgets/controls",
            "_model_module_version": "1.5.0",
            "_model_name": "HBoxModel",
            "_view_count": null,
            "_view_module": "@jupyter-widgets/controls",
            "_view_module_version": "1.5.0",
            "_view_name": "HBoxView",
            "box_style": "",
            "children": [
              "IPY_MODEL_5a63619c6bca46f194e882f1211be18f",
              "IPY_MODEL_6ceae1b4e7654242be0e6391e4132440",
              "IPY_MODEL_45933d404b4d47f6b714ea10d659cefc"
            ],
            "layout": "IPY_MODEL_d80a0bed06654734b73ad95808116802"
          }
        },
        "5a63619c6bca46f194e882f1211be18f": {
          "model_module": "@jupyter-widgets/controls",
          "model_name": "HTMLModel",
          "model_module_version": "1.5.0",
          "state": {
            "_dom_classes": [],
            "_model_module": "@jupyter-widgets/controls",
            "_model_module_version": "1.5.0",
            "_model_name": "HTMLModel",
            "_view_count": null,
            "_view_module": "@jupyter-widgets/controls",
            "_view_module_version": "1.5.0",
            "_view_name": "HTMLView",
            "description": "",
            "description_tooltip": null,
            "layout": "IPY_MODEL_76696fc7e2cd4b9d931194d6f0a8537a",
            "placeholder": "​",
            "style": "IPY_MODEL_3570cb5ebc1e45d2a514227e68d76a41",
            "value": "100%"
          }
        },
        "6ceae1b4e7654242be0e6391e4132440": {
          "model_module": "@jupyter-widgets/controls",
          "model_name": "FloatProgressModel",
          "model_module_version": "1.5.0",
          "state": {
            "_dom_classes": [],
            "_model_module": "@jupyter-widgets/controls",
            "_model_module_version": "1.5.0",
            "_model_name": "FloatProgressModel",
            "_view_count": null,
            "_view_module": "@jupyter-widgets/controls",
            "_view_module_version": "1.5.0",
            "_view_name": "ProgressView",
            "bar_style": "success",
            "description": "",
            "description_tooltip": null,
            "layout": "IPY_MODEL_acc7a77988ed4b8f80b0c0b5d9579dfb",
            "max": 169001437,
            "min": 0,
            "orientation": "horizontal",
            "style": "IPY_MODEL_e2fbeb40aa1a4a57ab4539ad1624c21c",
            "value": 169001437
          }
        },
        "45933d404b4d47f6b714ea10d659cefc": {
          "model_module": "@jupyter-widgets/controls",
          "model_name": "HTMLModel",
          "model_module_version": "1.5.0",
          "state": {
            "_dom_classes": [],
            "_model_module": "@jupyter-widgets/controls",
            "_model_module_version": "1.5.0",
            "_model_name": "HTMLModel",
            "_view_count": null,
            "_view_module": "@jupyter-widgets/controls",
            "_view_module_version": "1.5.0",
            "_view_name": "HTMLView",
            "description": "",
            "description_tooltip": null,
            "layout": "IPY_MODEL_e662df500319402cb596b782d4c71cfa",
            "placeholder": "​",
            "style": "IPY_MODEL_3f1a8f6984334425960249fa724bf0fe",
            "value": " 169001437/169001437 [00:03&lt;00:00, 52405730.95it/s]"
          }
        },
        "d80a0bed06654734b73ad95808116802": {
          "model_module": "@jupyter-widgets/base",
          "model_name": "LayoutModel",
          "model_module_version": "1.2.0",
          "state": {
            "_model_module": "@jupyter-widgets/base",
            "_model_module_version": "1.2.0",
            "_model_name": "LayoutModel",
            "_view_count": null,
            "_view_module": "@jupyter-widgets/base",
            "_view_module_version": "1.2.0",
            "_view_name": "LayoutView",
            "align_content": null,
            "align_items": null,
            "align_self": null,
            "border": null,
            "bottom": null,
            "display": null,
            "flex": null,
            "flex_flow": null,
            "grid_area": null,
            "grid_auto_columns": null,
            "grid_auto_flow": null,
            "grid_auto_rows": null,
            "grid_column": null,
            "grid_gap": null,
            "grid_row": null,
            "grid_template_areas": null,
            "grid_template_columns": null,
            "grid_template_rows": null,
            "height": null,
            "justify_content": null,
            "justify_items": null,
            "left": null,
            "margin": null,
            "max_height": null,
            "max_width": null,
            "min_height": null,
            "min_width": null,
            "object_fit": null,
            "object_position": null,
            "order": null,
            "overflow": null,
            "overflow_x": null,
            "overflow_y": null,
            "padding": null,
            "right": null,
            "top": null,
            "visibility": null,
            "width": null
          }
        },
        "76696fc7e2cd4b9d931194d6f0a8537a": {
          "model_module": "@jupyter-widgets/base",
          "model_name": "LayoutModel",
          "model_module_version": "1.2.0",
          "state": {
            "_model_module": "@jupyter-widgets/base",
            "_model_module_version": "1.2.0",
            "_model_name": "LayoutModel",
            "_view_count": null,
            "_view_module": "@jupyter-widgets/base",
            "_view_module_version": "1.2.0",
            "_view_name": "LayoutView",
            "align_content": null,
            "align_items": null,
            "align_self": null,
            "border": null,
            "bottom": null,
            "display": null,
            "flex": null,
            "flex_flow": null,
            "grid_area": null,
            "grid_auto_columns": null,
            "grid_auto_flow": null,
            "grid_auto_rows": null,
            "grid_column": null,
            "grid_gap": null,
            "grid_row": null,
            "grid_template_areas": null,
            "grid_template_columns": null,
            "grid_template_rows": null,
            "height": null,
            "justify_content": null,
            "justify_items": null,
            "left": null,
            "margin": null,
            "max_height": null,
            "max_width": null,
            "min_height": null,
            "min_width": null,
            "object_fit": null,
            "object_position": null,
            "order": null,
            "overflow": null,
            "overflow_x": null,
            "overflow_y": null,
            "padding": null,
            "right": null,
            "top": null,
            "visibility": null,
            "width": null
          }
        },
        "3570cb5ebc1e45d2a514227e68d76a41": {
          "model_module": "@jupyter-widgets/controls",
          "model_name": "DescriptionStyleModel",
          "model_module_version": "1.5.0",
          "state": {
            "_model_module": "@jupyter-widgets/controls",
            "_model_module_version": "1.5.0",
            "_model_name": "DescriptionStyleModel",
            "_view_count": null,
            "_view_module": "@jupyter-widgets/base",
            "_view_module_version": "1.2.0",
            "_view_name": "StyleView",
            "description_width": ""
          }
        },
        "acc7a77988ed4b8f80b0c0b5d9579dfb": {
          "model_module": "@jupyter-widgets/base",
          "model_name": "LayoutModel",
          "model_module_version": "1.2.0",
          "state": {
            "_model_module": "@jupyter-widgets/base",
            "_model_module_version": "1.2.0",
            "_model_name": "LayoutModel",
            "_view_count": null,
            "_view_module": "@jupyter-widgets/base",
            "_view_module_version": "1.2.0",
            "_view_name": "LayoutView",
            "align_content": null,
            "align_items": null,
            "align_self": null,
            "border": null,
            "bottom": null,
            "display": null,
            "flex": null,
            "flex_flow": null,
            "grid_area": null,
            "grid_auto_columns": null,
            "grid_auto_flow": null,
            "grid_auto_rows": null,
            "grid_column": null,
            "grid_gap": null,
            "grid_row": null,
            "grid_template_areas": null,
            "grid_template_columns": null,
            "grid_template_rows": null,
            "height": null,
            "justify_content": null,
            "justify_items": null,
            "left": null,
            "margin": null,
            "max_height": null,
            "max_width": null,
            "min_height": null,
            "min_width": null,
            "object_fit": null,
            "object_position": null,
            "order": null,
            "overflow": null,
            "overflow_x": null,
            "overflow_y": null,
            "padding": null,
            "right": null,
            "top": null,
            "visibility": null,
            "width": null
          }
        },
        "e2fbeb40aa1a4a57ab4539ad1624c21c": {
          "model_module": "@jupyter-widgets/controls",
          "model_name": "ProgressStyleModel",
          "model_module_version": "1.5.0",
          "state": {
            "_model_module": "@jupyter-widgets/controls",
            "_model_module_version": "1.5.0",
            "_model_name": "ProgressStyleModel",
            "_view_count": null,
            "_view_module": "@jupyter-widgets/base",
            "_view_module_version": "1.2.0",
            "_view_name": "StyleView",
            "bar_color": null,
            "description_width": ""
          }
        },
        "e662df500319402cb596b782d4c71cfa": {
          "model_module": "@jupyter-widgets/base",
          "model_name": "LayoutModel",
          "model_module_version": "1.2.0",
          "state": {
            "_model_module": "@jupyter-widgets/base",
            "_model_module_version": "1.2.0",
            "_model_name": "LayoutModel",
            "_view_count": null,
            "_view_module": "@jupyter-widgets/base",
            "_view_module_version": "1.2.0",
            "_view_name": "LayoutView",
            "align_content": null,
            "align_items": null,
            "align_self": null,
            "border": null,
            "bottom": null,
            "display": null,
            "flex": null,
            "flex_flow": null,
            "grid_area": null,
            "grid_auto_columns": null,
            "grid_auto_flow": null,
            "grid_auto_rows": null,
            "grid_column": null,
            "grid_gap": null,
            "grid_row": null,
            "grid_template_areas": null,
            "grid_template_columns": null,
            "grid_template_rows": null,
            "height": null,
            "justify_content": null,
            "justify_items": null,
            "left": null,
            "margin": null,
            "max_height": null,
            "max_width": null,
            "min_height": null,
            "min_width": null,
            "object_fit": null,
            "object_position": null,
            "order": null,
            "overflow": null,
            "overflow_x": null,
            "overflow_y": null,
            "padding": null,
            "right": null,
            "top": null,
            "visibility": null,
            "width": null
          }
        },
        "3f1a8f6984334425960249fa724bf0fe": {
          "model_module": "@jupyter-widgets/controls",
          "model_name": "DescriptionStyleModel",
          "model_module_version": "1.5.0",
          "state": {
            "_model_module": "@jupyter-widgets/controls",
            "_model_module_version": "1.5.0",
            "_model_name": "DescriptionStyleModel",
            "_view_count": null,
            "_view_module": "@jupyter-widgets/base",
            "_view_module_version": "1.2.0",
            "_view_name": "StyleView",
            "description_width": ""
          }
        },
        "3c0f50714d704e0faa4b41555ee1cc3d": {
          "model_module": "@jupyter-widgets/controls",
          "model_name": "HBoxModel",
          "model_module_version": "1.5.0",
          "state": {
            "_dom_classes": [],
            "_model_module": "@jupyter-widgets/controls",
            "_model_module_version": "1.5.0",
            "_model_name": "HBoxModel",
            "_view_count": null,
            "_view_module": "@jupyter-widgets/controls",
            "_view_module_version": "1.5.0",
            "_view_name": "HBoxView",
            "box_style": "",
            "children": [
              "IPY_MODEL_def188b56d1f4ea98802b63999f51bcc",
              "IPY_MODEL_8e39589b744a445fa75f2c14065f8fe9",
              "IPY_MODEL_94cce6d107804694b36d8d8cadd1a537"
            ],
            "layout": "IPY_MODEL_7e61675d86784bdbbd797394904d3d21"
          }
        },
        "def188b56d1f4ea98802b63999f51bcc": {
          "model_module": "@jupyter-widgets/controls",
          "model_name": "HTMLModel",
          "model_module_version": "1.5.0",
          "state": {
            "_dom_classes": [],
            "_model_module": "@jupyter-widgets/controls",
            "_model_module_version": "1.5.0",
            "_model_name": "HTMLModel",
            "_view_count": null,
            "_view_module": "@jupyter-widgets/controls",
            "_view_module_version": "1.5.0",
            "_view_name": "HTMLView",
            "description": "",
            "description_tooltip": null,
            "layout": "IPY_MODEL_c1252f62dd9141a8bb5f363b25a3321c",
            "placeholder": "​",
            "style": "IPY_MODEL_acff1b7c2c004d99a23ace775f9d5592",
            "value": "100%"
          }
        },
        "8e39589b744a445fa75f2c14065f8fe9": {
          "model_module": "@jupyter-widgets/controls",
          "model_name": "FloatProgressModel",
          "model_module_version": "1.5.0",
          "state": {
            "_dom_classes": [],
            "_model_module": "@jupyter-widgets/controls",
            "_model_module_version": "1.5.0",
            "_model_name": "FloatProgressModel",
            "_view_count": null,
            "_view_module": "@jupyter-widgets/controls",
            "_view_module_version": "1.5.0",
            "_view_name": "ProgressView",
            "bar_style": "success",
            "description": "",
            "description_tooltip": null,
            "layout": "IPY_MODEL_e96346d0e47c411eb0adf94beaf89868",
            "max": 102530333,
            "min": 0,
            "orientation": "horizontal",
            "style": "IPY_MODEL_a5be4cb6918d49dfbc83839b37a06744",
            "value": 102530333
          }
        },
        "94cce6d107804694b36d8d8cadd1a537": {
          "model_module": "@jupyter-widgets/controls",
          "model_name": "HTMLModel",
          "model_module_version": "1.5.0",
          "state": {
            "_dom_classes": [],
            "_model_module": "@jupyter-widgets/controls",
            "_model_module_version": "1.5.0",
            "_model_name": "HTMLModel",
            "_view_count": null,
            "_view_module": "@jupyter-widgets/controls",
            "_view_module_version": "1.5.0",
            "_view_name": "HTMLView",
            "description": "",
            "description_tooltip": null,
            "layout": "IPY_MODEL_6dedd68dd0e447a6a3c18f41d71b4366",
            "placeholder": "​",
            "style": "IPY_MODEL_3ea5eaec5e354748aa7df11ae1d9a087",
            "value": " 97.8M/97.8M [00:00&lt;00:00, 254MB/s]"
          }
        },
        "7e61675d86784bdbbd797394904d3d21": {
          "model_module": "@jupyter-widgets/base",
          "model_name": "LayoutModel",
          "model_module_version": "1.2.0",
          "state": {
            "_model_module": "@jupyter-widgets/base",
            "_model_module_version": "1.2.0",
            "_model_name": "LayoutModel",
            "_view_count": null,
            "_view_module": "@jupyter-widgets/base",
            "_view_module_version": "1.2.0",
            "_view_name": "LayoutView",
            "align_content": null,
            "align_items": null,
            "align_self": null,
            "border": null,
            "bottom": null,
            "display": null,
            "flex": null,
            "flex_flow": null,
            "grid_area": null,
            "grid_auto_columns": null,
            "grid_auto_flow": null,
            "grid_auto_rows": null,
            "grid_column": null,
            "grid_gap": null,
            "grid_row": null,
            "grid_template_areas": null,
            "grid_template_columns": null,
            "grid_template_rows": null,
            "height": null,
            "justify_content": null,
            "justify_items": null,
            "left": null,
            "margin": null,
            "max_height": null,
            "max_width": null,
            "min_height": null,
            "min_width": null,
            "object_fit": null,
            "object_position": null,
            "order": null,
            "overflow": null,
            "overflow_x": null,
            "overflow_y": null,
            "padding": null,
            "right": null,
            "top": null,
            "visibility": null,
            "width": null
          }
        },
        "c1252f62dd9141a8bb5f363b25a3321c": {
          "model_module": "@jupyter-widgets/base",
          "model_name": "LayoutModel",
          "model_module_version": "1.2.0",
          "state": {
            "_model_module": "@jupyter-widgets/base",
            "_model_module_version": "1.2.0",
            "_model_name": "LayoutModel",
            "_view_count": null,
            "_view_module": "@jupyter-widgets/base",
            "_view_module_version": "1.2.0",
            "_view_name": "LayoutView",
            "align_content": null,
            "align_items": null,
            "align_self": null,
            "border": null,
            "bottom": null,
            "display": null,
            "flex": null,
            "flex_flow": null,
            "grid_area": null,
            "grid_auto_columns": null,
            "grid_auto_flow": null,
            "grid_auto_rows": null,
            "grid_column": null,
            "grid_gap": null,
            "grid_row": null,
            "grid_template_areas": null,
            "grid_template_columns": null,
            "grid_template_rows": null,
            "height": null,
            "justify_content": null,
            "justify_items": null,
            "left": null,
            "margin": null,
            "max_height": null,
            "max_width": null,
            "min_height": null,
            "min_width": null,
            "object_fit": null,
            "object_position": null,
            "order": null,
            "overflow": null,
            "overflow_x": null,
            "overflow_y": null,
            "padding": null,
            "right": null,
            "top": null,
            "visibility": null,
            "width": null
          }
        },
        "acff1b7c2c004d99a23ace775f9d5592": {
          "model_module": "@jupyter-widgets/controls",
          "model_name": "DescriptionStyleModel",
          "model_module_version": "1.5.0",
          "state": {
            "_model_module": "@jupyter-widgets/controls",
            "_model_module_version": "1.5.0",
            "_model_name": "DescriptionStyleModel",
            "_view_count": null,
            "_view_module": "@jupyter-widgets/base",
            "_view_module_version": "1.2.0",
            "_view_name": "StyleView",
            "description_width": ""
          }
        },
        "e96346d0e47c411eb0adf94beaf89868": {
          "model_module": "@jupyter-widgets/base",
          "model_name": "LayoutModel",
          "model_module_version": "1.2.0",
          "state": {
            "_model_module": "@jupyter-widgets/base",
            "_model_module_version": "1.2.0",
            "_model_name": "LayoutModel",
            "_view_count": null,
            "_view_module": "@jupyter-widgets/base",
            "_view_module_version": "1.2.0",
            "_view_name": "LayoutView",
            "align_content": null,
            "align_items": null,
            "align_self": null,
            "border": null,
            "bottom": null,
            "display": null,
            "flex": null,
            "flex_flow": null,
            "grid_area": null,
            "grid_auto_columns": null,
            "grid_auto_flow": null,
            "grid_auto_rows": null,
            "grid_column": null,
            "grid_gap": null,
            "grid_row": null,
            "grid_template_areas": null,
            "grid_template_columns": null,
            "grid_template_rows": null,
            "height": null,
            "justify_content": null,
            "justify_items": null,
            "left": null,
            "margin": null,
            "max_height": null,
            "max_width": null,
            "min_height": null,
            "min_width": null,
            "object_fit": null,
            "object_position": null,
            "order": null,
            "overflow": null,
            "overflow_x": null,
            "overflow_y": null,
            "padding": null,
            "right": null,
            "top": null,
            "visibility": null,
            "width": null
          }
        },
        "a5be4cb6918d49dfbc83839b37a06744": {
          "model_module": "@jupyter-widgets/controls",
          "model_name": "ProgressStyleModel",
          "model_module_version": "1.5.0",
          "state": {
            "_model_module": "@jupyter-widgets/controls",
            "_model_module_version": "1.5.0",
            "_model_name": "ProgressStyleModel",
            "_view_count": null,
            "_view_module": "@jupyter-widgets/base",
            "_view_module_version": "1.2.0",
            "_view_name": "StyleView",
            "bar_color": null,
            "description_width": ""
          }
        },
        "6dedd68dd0e447a6a3c18f41d71b4366": {
          "model_module": "@jupyter-widgets/base",
          "model_name": "LayoutModel",
          "model_module_version": "1.2.0",
          "state": {
            "_model_module": "@jupyter-widgets/base",
            "_model_module_version": "1.2.0",
            "_model_name": "LayoutModel",
            "_view_count": null,
            "_view_module": "@jupyter-widgets/base",
            "_view_module_version": "1.2.0",
            "_view_name": "LayoutView",
            "align_content": null,
            "align_items": null,
            "align_self": null,
            "border": null,
            "bottom": null,
            "display": null,
            "flex": null,
            "flex_flow": null,
            "grid_area": null,
            "grid_auto_columns": null,
            "grid_auto_flow": null,
            "grid_auto_rows": null,
            "grid_column": null,
            "grid_gap": null,
            "grid_row": null,
            "grid_template_areas": null,
            "grid_template_columns": null,
            "grid_template_rows": null,
            "height": null,
            "justify_content": null,
            "justify_items": null,
            "left": null,
            "margin": null,
            "max_height": null,
            "max_width": null,
            "min_height": null,
            "min_width": null,
            "object_fit": null,
            "object_position": null,
            "order": null,
            "overflow": null,
            "overflow_x": null,
            "overflow_y": null,
            "padding": null,
            "right": null,
            "top": null,
            "visibility": null,
            "width": null
          }
        },
        "3ea5eaec5e354748aa7df11ae1d9a087": {
          "model_module": "@jupyter-widgets/controls",
          "model_name": "DescriptionStyleModel",
          "model_module_version": "1.5.0",
          "state": {
            "_model_module": "@jupyter-widgets/controls",
            "_model_module_version": "1.5.0",
            "_model_name": "DescriptionStyleModel",
            "_view_count": null,
            "_view_module": "@jupyter-widgets/base",
            "_view_module_version": "1.2.0",
            "_view_name": "StyleView",
            "description_width": ""
          }
        }
      }
    }
  },
  "nbformat": 4,
  "nbformat_minor": 0
}