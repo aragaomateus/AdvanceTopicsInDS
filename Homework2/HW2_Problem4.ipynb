{
 "cells": [
  {
   "cell_type": "markdown",
   "metadata": {},
   "source": [
    "# Problem 4 - Softmax Activation Function\n",
    "Consider the softmax activation function in the output layer, in which real-valued outputs v1, . . . , vk are\n",
    "converted into probabilities as follows:\n",
    "o = exp(vi)\n",
    "∀i ∈ {1,...,k}."
   ]
  },
  {
   "cell_type": "markdown",
   "metadata": {},
   "source": [
    "1. Showthatthevalueof ∂oi isoi(1−oi)when i=j and −o_i o_j when i != j. "
   ]
  },
  {
   "cell_type": "markdown",
   "metadata": {},
   "source": [
    "2. Assume that we are using cross-entropy loss L = − 􏰁ki=1 yi log(oi), where yi ∈ {0, 1} is the one-hot encoded class label over different values of i ∈ {1, . . . , k}. Use the result in part 1 to show the correctness of following equation:\n",
    "∂L = oi − yi. "
   ]
  },
  {
   "cell_type": "markdown",
   "metadata": {},
   "source": []
  }
 ],
 "metadata": {
  "kernelspec": {
   "display_name": "Python 3.8.5 ('base')",
   "language": "python",
   "name": "python3"
  },
  "language_info": {
   "name": "python",
   "version": "3.8.5"
  },
  "orig_nbformat": 4,
  "vscode": {
   "interpreter": {
    "hash": "2a0f08725565d2d00e70b9fae99b105541271f7be4baa13607a6e77e1d2c8c73"
   }
  }
 },
 "nbformat": 4,
 "nbformat_minor": 2
}
