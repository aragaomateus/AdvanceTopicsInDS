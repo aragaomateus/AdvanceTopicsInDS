{
 "cells": [
  {
   "cell_type": "markdown",
   "metadata": {},
   "source": [
    "# Problem 4 - Softmax Activation Function\n",
    "Consider the softmax activation function in the output layer, in which real-valued outputs v1, . . . , vk are\n",
    "converted into probabilities as follows:\n",
    "o = exp(vi)\n",
    "∀i ∈ {1,...,k}."
   ]
  },
  {
   "cell_type": "markdown",
   "metadata": {},
   "source": [
    "1. Show that the value of ∂oi isoi(1−oi)when i=j and −o_i o_j when i != j. "
   ]
  },
  {
   "cell_type": "markdown",
   "metadata": {},
   "source": [
    "### Answer: \n",
    "\n",
    "the partial derivative of \n",
    "$o_i = \\frac {e^{v_i}}{\\sum_{j=1}^{k} e^{v_j}}$\n",
    "\n",
    "$\\frac {\\partial o_i}{\\partial v_j} = \\frac {\\partial \\frac {e^{v_i}}{\\sum_{j=1}^{k} e^{v_j}}} {\\partial v_j}$\n",
    "\n",
    "let g(x) = $e^{v_i}$ and h(x) = $\\sum_{j=1}^{k} e^{v_j}$ $\\therefore$\n",
    "\n",
    "$\\begin{equation}\n",
    "g'(x)=\\begin{cases}\n",
    "          e^{v_i}  &\\text{if i = j} \\\\\n",
    "          0  &\\text{otherwise} \\\\\n",
    "     \\end{cases}\n",
    "\\end{equation}$\n",
    "\n",
    "$\\begin{equation}\n",
    "h'(x)= e^{v_j}, \\forall j = 1....k\n",
    "\\end{equation}$\n",
    "\n",
    "\n",
    "\n",
    "In our first case when i = j:\n",
    "\n",
    "$e^{v_i} \\times \\frac{\\sum_{j=1}^{k} e^{v_j} - e^{v_i}e^{v_j}} {(\\sum_{j=1}^{k} e^{v_j})^2} $\n",
    "\n",
    "= $ \\frac {e^{v_i}}{\\sum_{j=1}^{k} e^{v_j}} \\times \\frac{\\sum_{j=1}^{k} (e^{v_j})  - e^{v_j}} {\\sum_{j=1}^{k} e^{v_j}} $\n",
    "\n",
    "= $\\frac {e^{v_i}}{\\sum_{j=1}^{k} e^{o_j}} \\times 1- \\frac{e^{v_j}} {\\sum_{j=1}^{k} e^{v_j}} $ = $o_i \\times (1 - o_j)$ = $o_i(1-o_i)$\n",
    "\n",
    "\n",
    "In the second case when i != j:\n",
    "\n",
    "$ \\frac{ 0 \\times \\sum_{j=1}^{k} e^{v_j} - e^{v_i}e^{v_j}} {(\\sum_{j=1}^{k} e^{v_j})^2}$ = \n",
    "\n",
    "= $-\\frac{e^{v_i}}{\\sum_{j=1}^{k} e^{v_j}} \\times \\frac{e^{o_j}}{\\sum_{j=1}^{k} e^{v_j}}$ =\n",
    "\n",
    "= $ -o_i \\times o_j$\n",
    "\n",
    "$\\begin{equation}\n",
    "g'(x)=\\begin{cases}\n",
    "          o_i(1-o_i)  &\\text{if i = j} \\\\\n",
    "          -o_i \\times o_j  &\\text{otherwise} \\\\\n",
    "     \\end{cases}\n",
    "\\end{equation}$\n"
   ]
  },
  {
   "cell_type": "markdown",
   "metadata": {},
   "source": [
    "2. Assume that we are using cross-entropy loss L = − 􏰁ki=1 yi log(oi), where yi ∈ {0, 1} is the one-hot encoded class label over different values of i ∈ {1, . . . , k}. Use the result in part 1 to show the correctness of following equation:\n",
    "∂L = oi − yi. "
   ]
  },
  {
   "cell_type": "markdown",
   "metadata": {},
   "source": [
    "### Answer:\n",
    "$ \\frac{\\partial L}{\\partial v_i} $ = \n",
    "\n",
    "= $ - \\sum_{i=1}^{k} \\frac{y_i \\log o_i}{\\partial v_i}$ = $ - \\sum_{i=1}^{k} y_i\\frac{ \\partial \\log o_i}{\\partial v_i}$ =\n",
    "\n",
    "= $ - \\sum_{i=1}^{k} y_i \\frac{1}{o_i}\\frac{ \\partial o_i}{\\partial v_i}  $ = \n",
    "\n",
    "= $ - \\frac{y_i}{o_i} \\frac{ \\partial o_i}{\\partial v_i} - \\sum_{j \\not =i}^{k} \\frac{y_i}{o_i} \\frac{ \\partial o_i}{\\partial v_i}  $\n",
    "\n",
    "= $ - \\frac{y_i}{o_i} o_i(1-o_j)  - \\sum_{j \\not =i}^{k} \\frac{y_i}{o_i} (-o_j o_i)  $\n",
    "\n",
    "= $-y_i = y_i o_i + \\sum_{j \\not =i}^{k} (y_i o_i) $ = $-y_i +\\sum_{j \\not =i}^{k} (y_j o_i) $ = \n",
    "\n",
    "= $-y_i  o_i \\sum_{j =1}^{k} (y_j )$ = $o_i - y_i$\n"
   ]
  },
  {
   "cell_type": "markdown",
   "metadata": {},
   "source": []
  }
 ],
 "metadata": {
  "kernelspec": {
   "display_name": "Python 3.8.5 ('base')",
   "language": "python",
   "name": "python3"
  },
  "language_info": {
   "name": "python",
   "version": "3.8.5"
  },
  "orig_nbformat": 4,
  "vscode": {
   "interpreter": {
    "hash": "2a0f08725565d2d00e70b9fae99b105541271f7be4baa13607a6e77e1d2c8c73"
   }
  }
 },
 "nbformat": 4,
 "nbformat_minor": 2
}
