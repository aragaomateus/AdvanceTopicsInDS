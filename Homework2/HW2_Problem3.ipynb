{
 "cells": [
  {
   "cell_type": "markdown",
   "metadata": {},
   "source": [
    "# Problem 3 - Linear Separability\n",
    "Consider a dataset with two features x1 and x2 in which the points (−1, −1), (1, 1), (−3, −3), (4, 4) belong to one class and (−1, 1), (1, −1), (−5, 2), (4, −8) belong to the other."
   ]
  },
  {
   "cell_type": "markdown",
   "metadata": {},
   "source": [
    "\n",
    "1. Is this dataset linearly separable ? Can a linear classifier be trained using features x1 and x2 to classify this data set ? You can plot the dataset points and argue. "
   ]
  },
  {
   "cell_type": "code",
   "execution_count": 2,
   "metadata": {},
   "outputs": [
    {
     "data": {
      "image/png": "[encoded data removed]",
      "text/plain": [
       "<Figure size 432x288 with 1 Axes>"
      ]
     },
     "metadata": {
      "needs_background": "light"
     },
     "output_type": "display_data"
    }
   ],
   "source": [
    "# plotting the data set\n",
    "import collections\n",
    "import matplotlib.pyplot as plt\n",
    "\n",
    "x_1 = [[-1,1,-3,4],[-1,1,-3,4]]\n",
    "x_2 = [[-1,1,-5,4],[1,-1,2,-8],[],[]]\n",
    "\n",
    "\n",
    "plt.scatter(x_1[0],x_1[1],color = 'red')\n",
    "plt.scatter(x_2[0],x_2[1],color = 'blue')\n",
    "\n",
    "plt.show()"
   ]
  },
  {
   "cell_type": "markdown",
   "metadata": {},
   "source": [
    "### Answer: \n",
    "This data set is not linearly seperable. A linear classifier would not be able to classifly this data set.\n"
   ]
  },
  {
   "cell_type": "markdown",
   "metadata": {},
   "source": [
    "\n",
    "2. Can you define a new 1-dimensional representation z in terms of x1 and x2 such that the dataset is linearly separable in terms of 1-dimensional representation corresponding to z ?\n",
    "\n",
    "### Answer: \n",
    "\n",
    "Yes, below you can find the code that will plot the data after the linear transformation and "
   ]
  },
  {
   "cell_type": "code",
   "execution_count": 3,
   "metadata": {},
   "outputs": [
    {
     "name": "stdout",
     "output_type": "stream",
     "text": [
      "[1, 1, 9, 16]\n",
      "[-1, -1, -10, -32]\n"
     ]
    }
   ],
   "source": [
    "import math \n",
    "x_1_y = []\n",
    "x_2_y = []\n",
    "\n",
    "    \n",
    "for i in range(len(x_1[0])):\n",
    "    x_1_y.append( x_1[0][i] *  x_1[1][i]  )\n",
    "    x_2_y.append( x_2[0][i] *  x_2[1][i])\n",
    "print(x_1_y)\n",
    "print(x_2_y)\n",
    "\n"
   ]
  },
  {
   "cell_type": "code",
   "execution_count": 5,
   "metadata": {},
   "outputs": [
    {
     "data": {
      "image/png": "[encoded data removed]",
      "text/plain": [
       "<Figure size 432x288 with 1 Axes>"
      ]
     },
     "metadata": {
      "needs_background": "light"
     },
     "output_type": "display_data"
    }
   ],
   "source": [
    "for i in range(len(x_1_y)):\n",
    "    plt.scatter(x_1_y[i],0,color = 'red')\n",
    "    plt.scatter(x_2_y[i],0,color = 'blue')\n",
    "plt.vlines(0, -.5, .5, 'green')\n",
    "plt.show()"
   ]
  },
  {
   "cell_type": "markdown",
   "metadata": {},
   "source": [
    "\n",
    "3. What does the separating hyperplane looks like ?\n",
    "\n",
    "### Answer: \n",
    "The hyperplane is a vertical linhe centered on x =0 "
   ]
  },
  {
   "cell_type": "markdown",
   "metadata": {},
   "source": [
    "4. Explain the importance of nonlinear transformations in classification problems."
   ]
  }
 ],
 "metadata": {
  "kernelspec": {
   "display_name": "Python 3.8.5 ('base')",
   "language": "python",
   "name": "python3"
  },
  "language_info": {
   "codemirror_mode": {
    "name": "ipython",
    "version": 3
   },
   "file_extension": ".py",
   "mimetype": "text/x-python",
   "name": "python",
   "nbconvert_exporter": "python",
   "pygments_lexer": "ipython3",
   "version": "3.8.5"
  },
  "orig_nbformat": 4,
  "vscode": {
   "interpreter": {
    "hash": "2a0f08725565d2d00e70b9fae99b105541271f7be4baa13607a6e77e1d2c8c73"
   }
  }
 },
 "nbformat": 4,
 "nbformat_minor": 2
}
