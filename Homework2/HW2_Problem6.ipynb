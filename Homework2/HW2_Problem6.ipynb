{
 "cells": [
  {
   "cell_type": "markdown",
   "metadata": {},
   "source": [
    "# Problem 6 - Batch Normalization, Dropout, MNIST\n",
    "\n",
    "Batch normalization and Dropout are used as effective regularization techniques. However its not clear which one should be preferred and whether their benefits add up when used in conjunction. In this problem we will compare batch normalization, dropout, and their conjunction using MNIST and LeNet-5 (see e.g., http://yann.lecun.com/exdb/lenet/). LeNet-5 is one of the earliest convolutional neural network developed for image classification and its implementation in all major framework is available. You can refer to Lecture 3 slides for definition of standardization and batch normalization."
   ]
  },
  {
   "cell_type": "markdown",
   "metadata": {},
   "source": [
    "\n",
    "1. Explain the terms co-adaptation and internal covariance-shift. Use examples if needed. You may need to refer to two papers mentioned below to answer this question. (Papers are in my ipad)"
   ]
  },
  {
   "cell_type": "markdown",
   "metadata": {},
   "source": []
  },
  {
   "cell_type": "markdown",
   "metadata": {},
   "source": [
    "2. Batch normalization is traditionally used in hidden layers, for input layer standard normalization is used. In standard normalization the mean and standard deviation are calculated using the entire training dataset whereas in batch normalization these statistics are calculated for each mini-batch. Train LeNet-5 with standard normalization of input and batch normalization for hidden layers. What are the learned batch norm parameters for each layer ?"
   ]
  },
  {
   "cell_type": "code",
   "execution_count": 12,
   "metadata": {},
   "outputs": [
    {
     "name": "stdout",
     "output_type": "stream",
     "text": [
      "(60000, 32, 32, 1)\n"
     ]
    }
   ],
   "source": [
    "import numpy as np \n",
    "import pandas as pd\n",
    "from tensorflow.keras.models import Sequential\n",
    "from tensorflow.keras.layers import Dense,Conv2D,MaxPool2D,Flatten\n",
    "import tensorflow as tf\n",
    "from tensorflow.keras.layers.experimental.preprocessing import Normalization\n",
    "\n",
    "from tensorflow.keras.datasets import mnist\n",
    "(X_train, Y_train), (X_test, Y_test) = mnist.load_data()\n",
    "\n",
    "X_train = tf.pad(X_train, [[0, 0], [2,2], [2,2]])/255\n",
    "X_test = tf.pad(X_test, [[0, 0], [2,2], [2,2]])/255\n",
    "\n",
    "X_train = tf.expand_dims(X_train, axis=3, name=None)\n",
    "X_test = tf.expand_dims(X_test, axis=3, name=None)\n",
    "\n",
    "\n",
    "print(X_train.shape)\n",
    "model1 = Sequential()\n",
    "# model.add(norm_layer)\n",
    "model1.add(Conv2D(6, 5, activation='tanh',input_shape=  X_train.shape[1:] ))\n",
    "\n",
    "model1.add(tf.keras.layers.BatchNormalization())\n",
    "\n",
    "model1.add(tf.keras.layers.AveragePooling2D(2))\n",
    "model1.add(Conv2D(16, 5, padding='valid', activation='tanh'))\n",
    "\n",
    "model1.add(tf.keras.layers.BatchNormalization())\n",
    "\n",
    "model1.add(tf.keras.layers.AveragePooling2D(2))\n",
    "model1.add(tf.keras.layers.Conv2D(120, 5, activation='tanh'))\n",
    "\n",
    "\n",
    "model1.add(Flatten())\n",
    "model1.add(tf.keras.layers.BatchNormalization())\n",
    "model1.add(Dense(84, activation='tanh'))\n",
    "\n",
    "model1.add(tf.keras.layers.BatchNormalization())\n",
    "model1.add(Dense(10, activation='softmax'))"
   ]
  },
  {
   "cell_type": "code",
   "execution_count": null,
   "metadata": {},
   "outputs": [],
   "source": []
  },
  {
   "cell_type": "code",
   "execution_count": 14,
   "metadata": {},
   "outputs": [
    {
     "name": "stdout",
     "output_type": "stream",
     "text": [
      "Model: \"sequential_9\"\n",
      "_________________________________________________________________\n",
      " Layer (type)                Output Shape              Param #   \n",
      "=================================================================\n",
      " conv2d_15 (Conv2D)          (None, 28, 28, 6)         156       \n",
      "                                                                 \n",
      " batch_normalization_12 (Bat  (None, 28, 28, 6)        24        \n",
      " chNormalization)                                                \n",
      "                                                                 \n",
      " average_pooling2d_8 (Averag  (None, 14, 14, 6)        0         \n",
      " ePooling2D)                                                     \n",
      "                                                                 \n",
      " conv2d_16 (Conv2D)          (None, 10, 10, 16)        2416      \n",
      "                                                                 \n",
      " batch_normalization_13 (Bat  (None, 10, 10, 16)       64        \n",
      " chNormalization)                                                \n",
      "                                                                 \n",
      " average_pooling2d_9 (Averag  (None, 5, 5, 16)         0         \n",
      " ePooling2D)                                                     \n",
      "                                                                 \n",
      " conv2d_17 (Conv2D)          (None, 1, 1, 120)         48120     \n",
      "                                                                 \n",
      " flatten_3 (Flatten)         (None, 120)               0         \n",
      "                                                                 \n",
      " batch_normalization_14 (Bat  (None, 120)              480       \n",
      " chNormalization)                                                \n",
      "                                                                 \n",
      " dense_4 (Dense)             (None, 84)                10164     \n",
      "                                                                 \n",
      " batch_normalization_15 (Bat  (None, 84)               336       \n",
      " chNormalization)                                                \n",
      "                                                                 \n",
      " dense_5 (Dense)             (None, 10)                850       \n",
      "                                                                 \n",
      "=================================================================\n",
      "Total params: 62,610\n",
      "Trainable params: 62,158\n",
      "Non-trainable params: 452\n",
      "_________________________________________________________________\n",
      "Epoch 1/10\n",
      "408/600 [===================>..........] - ETA: 6s - loss: 0.2130 - accuracy: 0.9370"
     ]
    },
    {
     "ename": "KeyboardInterrupt",
     "evalue": "",
     "output_type": "error",
     "traceback": [
      "\u001b[0;31m---------------------------------------------------------------------------\u001b[0m",
      "\u001b[0;31mKeyboardInterrupt\u001b[0m                         Traceback (most recent call last)",
      "\u001b[0;32m<ipython-input-14-6888e01a2a48>\u001b[0m in \u001b[0;36m<module>\u001b[0;34m\u001b[0m\n\u001b[1;32m      2\u001b[0m \u001b[0mmodel1\u001b[0m\u001b[0;34m.\u001b[0m\u001b[0msummary\u001b[0m\u001b[0;34m(\u001b[0m\u001b[0;34m)\u001b[0m\u001b[0;34m\u001b[0m\u001b[0;34m\u001b[0m\u001b[0m\n\u001b[1;32m      3\u001b[0m \u001b[0mmodel1\u001b[0m\u001b[0;34m.\u001b[0m\u001b[0mcompile\u001b[0m\u001b[0;34m(\u001b[0m\u001b[0mloss\u001b[0m\u001b[0;34m=\u001b[0m\u001b[0mtf\u001b[0m\u001b[0;34m.\u001b[0m\u001b[0mkeras\u001b[0m\u001b[0;34m.\u001b[0m\u001b[0mlosses\u001b[0m\u001b[0;34m.\u001b[0m\u001b[0msparse_categorical_crossentropy\u001b[0m\u001b[0;34m,\u001b[0m \u001b[0mmetrics\u001b[0m\u001b[0;34m=\u001b[0m\u001b[0;34m[\u001b[0m\u001b[0;34m'accuracy'\u001b[0m\u001b[0;34m]\u001b[0m\u001b[0;34m,\u001b[0m \u001b[0moptimizer\u001b[0m\u001b[0;34m=\u001b[0m\u001b[0;34m'adam'\u001b[0m\u001b[0;34m)\u001b[0m\u001b[0;34m\u001b[0m\u001b[0;34m\u001b[0m\u001b[0m\n\u001b[0;32m----> 4\u001b[0;31m \u001b[0mmodel_history1\u001b[0m \u001b[0;34m=\u001b[0m \u001b[0mmodel1\u001b[0m\u001b[0;34m.\u001b[0m\u001b[0mfit\u001b[0m\u001b[0;34m(\u001b[0m\u001b[0mX_train\u001b[0m\u001b[0;34m,\u001b[0m \u001b[0mY_train\u001b[0m\u001b[0;34m,\u001b[0m\u001b[0mepochs\u001b[0m\u001b[0;34m=\u001b[0m \u001b[0;36m10\u001b[0m\u001b[0;34m,\u001b[0m\u001b[0mbatch_size\u001b[0m\u001b[0;34m=\u001b[0m\u001b[0;36m100\u001b[0m\u001b[0;34m,\u001b[0m\u001b[0mvalidation_data\u001b[0m\u001b[0;34m=\u001b[0m\u001b[0;34m(\u001b[0m\u001b[0mX_test\u001b[0m\u001b[0;34m,\u001b[0m \u001b[0mY_test\u001b[0m\u001b[0;34m)\u001b[0m\u001b[0;34m)\u001b[0m\u001b[0;34m\u001b[0m\u001b[0;34m\u001b[0m\u001b[0m\n\u001b[0m",
      "\u001b[0;32m~/opt/anaconda3/lib/python3.8/site-packages/keras/utils/traceback_utils.py\u001b[0m in \u001b[0;36merror_handler\u001b[0;34m(*args, **kwargs)\u001b[0m\n\u001b[1;32m     63\u001b[0m         \u001b[0mfiltered_tb\u001b[0m \u001b[0;34m=\u001b[0m \u001b[0;32mNone\u001b[0m\u001b[0;34m\u001b[0m\u001b[0;34m\u001b[0m\u001b[0m\n\u001b[1;32m     64\u001b[0m         \u001b[0;32mtry\u001b[0m\u001b[0;34m:\u001b[0m\u001b[0;34m\u001b[0m\u001b[0;34m\u001b[0m\u001b[0m\n\u001b[0;32m---> 65\u001b[0;31m             \u001b[0;32mreturn\u001b[0m \u001b[0mfn\u001b[0m\u001b[0;34m(\u001b[0m\u001b[0;34m*\u001b[0m\u001b[0margs\u001b[0m\u001b[0;34m,\u001b[0m \u001b[0;34m**\u001b[0m\u001b[0mkwargs\u001b[0m\u001b[0;34m)\u001b[0m\u001b[0;34m\u001b[0m\u001b[0;34m\u001b[0m\u001b[0m\n\u001b[0m\u001b[1;32m     66\u001b[0m         \u001b[0;32mexcept\u001b[0m \u001b[0mException\u001b[0m \u001b[0;32mas\u001b[0m \u001b[0me\u001b[0m\u001b[0;34m:\u001b[0m\u001b[0;34m\u001b[0m\u001b[0;34m\u001b[0m\u001b[0m\n\u001b[1;32m     67\u001b[0m             \u001b[0mfiltered_tb\u001b[0m \u001b[0;34m=\u001b[0m \u001b[0m_process_traceback_frames\u001b[0m\u001b[0;34m(\u001b[0m\u001b[0me\u001b[0m\u001b[0;34m.\u001b[0m\u001b[0m__traceback__\u001b[0m\u001b[0;34m)\u001b[0m\u001b[0;34m\u001b[0m\u001b[0;34m\u001b[0m\u001b[0m\n",
      "\u001b[0;32m~/opt/anaconda3/lib/python3.8/site-packages/keras/engine/training.py\u001b[0m in \u001b[0;36mfit\u001b[0;34m(self, x, y, batch_size, epochs, verbose, callbacks, validation_split, validation_data, shuffle, class_weight, sample_weight, initial_epoch, steps_per_epoch, validation_steps, validation_batch_size, validation_freq, max_queue_size, workers, use_multiprocessing)\u001b[0m\n\u001b[1;32m   1562\u001b[0m                         ):\n\u001b[1;32m   1563\u001b[0m                             \u001b[0mcallbacks\u001b[0m\u001b[0;34m.\u001b[0m\u001b[0mon_train_batch_begin\u001b[0m\u001b[0;34m(\u001b[0m\u001b[0mstep\u001b[0m\u001b[0;34m)\u001b[0m\u001b[0;34m\u001b[0m\u001b[0;34m\u001b[0m\u001b[0m\n\u001b[0;32m-> 1564\u001b[0;31m                             \u001b[0mtmp_logs\u001b[0m \u001b[0;34m=\u001b[0m \u001b[0mself\u001b[0m\u001b[0;34m.\u001b[0m\u001b[0mtrain_function\u001b[0m\u001b[0;34m(\u001b[0m\u001b[0miterator\u001b[0m\u001b[0;34m)\u001b[0m\u001b[0;34m\u001b[0m\u001b[0;34m\u001b[0m\u001b[0m\n\u001b[0m\u001b[1;32m   1565\u001b[0m                             \u001b[0;32mif\u001b[0m \u001b[0mdata_handler\u001b[0m\u001b[0;34m.\u001b[0m\u001b[0mshould_sync\u001b[0m\u001b[0;34m:\u001b[0m\u001b[0;34m\u001b[0m\u001b[0;34m\u001b[0m\u001b[0m\n\u001b[1;32m   1566\u001b[0m                                 \u001b[0mcontext\u001b[0m\u001b[0;34m.\u001b[0m\u001b[0masync_wait\u001b[0m\u001b[0;34m(\u001b[0m\u001b[0;34m)\u001b[0m\u001b[0;34m\u001b[0m\u001b[0;34m\u001b[0m\u001b[0m\n",
      "\u001b[0;32m~/opt/anaconda3/lib/python3.8/site-packages/tensorflow/python/util/traceback_utils.py\u001b[0m in \u001b[0;36merror_handler\u001b[0;34m(*args, **kwargs)\u001b[0m\n\u001b[1;32m    148\u001b[0m     \u001b[0mfiltered_tb\u001b[0m \u001b[0;34m=\u001b[0m \u001b[0;32mNone\u001b[0m\u001b[0;34m\u001b[0m\u001b[0;34m\u001b[0m\u001b[0m\n\u001b[1;32m    149\u001b[0m     \u001b[0;32mtry\u001b[0m\u001b[0;34m:\u001b[0m\u001b[0;34m\u001b[0m\u001b[0;34m\u001b[0m\u001b[0m\n\u001b[0;32m--> 150\u001b[0;31m       \u001b[0;32mreturn\u001b[0m \u001b[0mfn\u001b[0m\u001b[0;34m(\u001b[0m\u001b[0;34m*\u001b[0m\u001b[0margs\u001b[0m\u001b[0;34m,\u001b[0m \u001b[0;34m**\u001b[0m\u001b[0mkwargs\u001b[0m\u001b[0;34m)\u001b[0m\u001b[0;34m\u001b[0m\u001b[0;34m\u001b[0m\u001b[0m\n\u001b[0m\u001b[1;32m    151\u001b[0m     \u001b[0;32mexcept\u001b[0m \u001b[0mException\u001b[0m \u001b[0;32mas\u001b[0m \u001b[0me\u001b[0m\u001b[0;34m:\u001b[0m\u001b[0;34m\u001b[0m\u001b[0;34m\u001b[0m\u001b[0m\n\u001b[1;32m    152\u001b[0m       \u001b[0mfiltered_tb\u001b[0m \u001b[0;34m=\u001b[0m \u001b[0m_process_traceback_frames\u001b[0m\u001b[0;34m(\u001b[0m\u001b[0me\u001b[0m\u001b[0;34m.\u001b[0m\u001b[0m__traceback__\u001b[0m\u001b[0;34m)\u001b[0m\u001b[0;34m\u001b[0m\u001b[0;34m\u001b[0m\u001b[0m\n",
      "\u001b[0;32m~/opt/anaconda3/lib/python3.8/site-packages/tensorflow/python/eager/def_function.py\u001b[0m in \u001b[0;36m__call__\u001b[0;34m(self, *args, **kwds)\u001b[0m\n\u001b[1;32m    913\u001b[0m \u001b[0;34m\u001b[0m\u001b[0m\n\u001b[1;32m    914\u001b[0m       \u001b[0;32mwith\u001b[0m \u001b[0mOptionalXlaContext\u001b[0m\u001b[0;34m(\u001b[0m\u001b[0mself\u001b[0m\u001b[0;34m.\u001b[0m\u001b[0m_jit_compile\u001b[0m\u001b[0;34m)\u001b[0m\u001b[0;34m:\u001b[0m\u001b[0;34m\u001b[0m\u001b[0;34m\u001b[0m\u001b[0m\n\u001b[0;32m--> 915\u001b[0;31m         \u001b[0mresult\u001b[0m \u001b[0;34m=\u001b[0m \u001b[0mself\u001b[0m\u001b[0;34m.\u001b[0m\u001b[0m_call\u001b[0m\u001b[0;34m(\u001b[0m\u001b[0;34m*\u001b[0m\u001b[0margs\u001b[0m\u001b[0;34m,\u001b[0m \u001b[0;34m**\u001b[0m\u001b[0mkwds\u001b[0m\u001b[0;34m)\u001b[0m\u001b[0;34m\u001b[0m\u001b[0;34m\u001b[0m\u001b[0m\n\u001b[0m\u001b[1;32m    916\u001b[0m \u001b[0;34m\u001b[0m\u001b[0m\n\u001b[1;32m    917\u001b[0m       \u001b[0mnew_tracing_count\u001b[0m \u001b[0;34m=\u001b[0m \u001b[0mself\u001b[0m\u001b[0;34m.\u001b[0m\u001b[0mexperimental_get_tracing_count\u001b[0m\u001b[0;34m(\u001b[0m\u001b[0;34m)\u001b[0m\u001b[0;34m\u001b[0m\u001b[0;34m\u001b[0m\u001b[0m\n",
      "\u001b[0;32m~/opt/anaconda3/lib/python3.8/site-packages/tensorflow/python/eager/def_function.py\u001b[0m in \u001b[0;36m_call\u001b[0;34m(self, *args, **kwds)\u001b[0m\n\u001b[1;32m    945\u001b[0m       \u001b[0;31m# In this case we have created variables on the first call, so we run the\u001b[0m\u001b[0;34m\u001b[0m\u001b[0;34m\u001b[0m\u001b[0;34m\u001b[0m\u001b[0m\n\u001b[1;32m    946\u001b[0m       \u001b[0;31m# defunned version which is guaranteed to never create variables.\u001b[0m\u001b[0;34m\u001b[0m\u001b[0;34m\u001b[0m\u001b[0;34m\u001b[0m\u001b[0m\n\u001b[0;32m--> 947\u001b[0;31m       \u001b[0;32mreturn\u001b[0m \u001b[0mself\u001b[0m\u001b[0;34m.\u001b[0m\u001b[0m_stateless_fn\u001b[0m\u001b[0;34m(\u001b[0m\u001b[0;34m*\u001b[0m\u001b[0margs\u001b[0m\u001b[0;34m,\u001b[0m \u001b[0;34m**\u001b[0m\u001b[0mkwds\u001b[0m\u001b[0;34m)\u001b[0m  \u001b[0;31m# pylint: disable=not-callable\u001b[0m\u001b[0;34m\u001b[0m\u001b[0;34m\u001b[0m\u001b[0m\n\u001b[0m\u001b[1;32m    948\u001b[0m     \u001b[0;32melif\u001b[0m \u001b[0mself\u001b[0m\u001b[0;34m.\u001b[0m\u001b[0m_stateful_fn\u001b[0m \u001b[0;32mis\u001b[0m \u001b[0;32mnot\u001b[0m \u001b[0;32mNone\u001b[0m\u001b[0;34m:\u001b[0m\u001b[0;34m\u001b[0m\u001b[0;34m\u001b[0m\u001b[0m\n\u001b[1;32m    949\u001b[0m       \u001b[0;31m# Release the lock early so that multiple threads can perform the call\u001b[0m\u001b[0;34m\u001b[0m\u001b[0;34m\u001b[0m\u001b[0;34m\u001b[0m\u001b[0m\n",
      "\u001b[0;32m~/opt/anaconda3/lib/python3.8/site-packages/tensorflow/python/eager/function.py\u001b[0m in \u001b[0;36m__call__\u001b[0;34m(self, *args, **kwargs)\u001b[0m\n\u001b[1;32m   2494\u001b[0m       (graph_function,\n\u001b[1;32m   2495\u001b[0m        filtered_flat_args) = self._maybe_define_function(args, kwargs)\n\u001b[0;32m-> 2496\u001b[0;31m     return graph_function._call_flat(\n\u001b[0m\u001b[1;32m   2497\u001b[0m         filtered_flat_args, captured_inputs=graph_function.captured_inputs)  # pylint: disable=protected-access\n\u001b[1;32m   2498\u001b[0m \u001b[0;34m\u001b[0m\u001b[0m\n",
      "\u001b[0;32m~/opt/anaconda3/lib/python3.8/site-packages/tensorflow/python/eager/function.py\u001b[0m in \u001b[0;36m_call_flat\u001b[0;34m(self, args, captured_inputs, cancellation_manager)\u001b[0m\n\u001b[1;32m   1860\u001b[0m         and executing_eagerly):\n\u001b[1;32m   1861\u001b[0m       \u001b[0;31m# No tape is watching; skip to running the function.\u001b[0m\u001b[0;34m\u001b[0m\u001b[0;34m\u001b[0m\u001b[0;34m\u001b[0m\u001b[0m\n\u001b[0;32m-> 1862\u001b[0;31m       return self._build_call_outputs(self._inference_function.call(\n\u001b[0m\u001b[1;32m   1863\u001b[0m           ctx, args, cancellation_manager=cancellation_manager))\n\u001b[1;32m   1864\u001b[0m     forward_backward = self._select_forward_and_backward_functions(\n",
      "\u001b[0;32m~/opt/anaconda3/lib/python3.8/site-packages/tensorflow/python/eager/function.py\u001b[0m in \u001b[0;36mcall\u001b[0;34m(self, ctx, args, cancellation_manager)\u001b[0m\n\u001b[1;32m    497\u001b[0m       \u001b[0;32mwith\u001b[0m \u001b[0m_InterpolateFunctionError\u001b[0m\u001b[0;34m(\u001b[0m\u001b[0mself\u001b[0m\u001b[0;34m)\u001b[0m\u001b[0;34m:\u001b[0m\u001b[0;34m\u001b[0m\u001b[0;34m\u001b[0m\u001b[0m\n\u001b[1;32m    498\u001b[0m         \u001b[0;32mif\u001b[0m \u001b[0mcancellation_manager\u001b[0m \u001b[0;32mis\u001b[0m \u001b[0;32mNone\u001b[0m\u001b[0;34m:\u001b[0m\u001b[0;34m\u001b[0m\u001b[0;34m\u001b[0m\u001b[0m\n\u001b[0;32m--> 499\u001b[0;31m           outputs = execute.execute(\n\u001b[0m\u001b[1;32m    500\u001b[0m               \u001b[0mstr\u001b[0m\u001b[0;34m(\u001b[0m\u001b[0mself\u001b[0m\u001b[0;34m.\u001b[0m\u001b[0msignature\u001b[0m\u001b[0;34m.\u001b[0m\u001b[0mname\u001b[0m\u001b[0;34m)\u001b[0m\u001b[0;34m,\u001b[0m\u001b[0;34m\u001b[0m\u001b[0;34m\u001b[0m\u001b[0m\n\u001b[1;32m    501\u001b[0m               \u001b[0mnum_outputs\u001b[0m\u001b[0;34m=\u001b[0m\u001b[0mself\u001b[0m\u001b[0;34m.\u001b[0m\u001b[0m_num_outputs\u001b[0m\u001b[0;34m,\u001b[0m\u001b[0;34m\u001b[0m\u001b[0;34m\u001b[0m\u001b[0m\n",
      "\u001b[0;32m~/opt/anaconda3/lib/python3.8/site-packages/tensorflow/python/eager/execute.py\u001b[0m in \u001b[0;36mquick_execute\u001b[0;34m(op_name, num_outputs, inputs, attrs, ctx, name)\u001b[0m\n\u001b[1;32m     52\u001b[0m   \u001b[0;32mtry\u001b[0m\u001b[0;34m:\u001b[0m\u001b[0;34m\u001b[0m\u001b[0;34m\u001b[0m\u001b[0m\n\u001b[1;32m     53\u001b[0m     \u001b[0mctx\u001b[0m\u001b[0;34m.\u001b[0m\u001b[0mensure_initialized\u001b[0m\u001b[0;34m(\u001b[0m\u001b[0;34m)\u001b[0m\u001b[0;34m\u001b[0m\u001b[0;34m\u001b[0m\u001b[0m\n\u001b[0;32m---> 54\u001b[0;31m     tensors = pywrap_tfe.TFE_Py_Execute(ctx._handle, device_name, op_name,\n\u001b[0m\u001b[1;32m     55\u001b[0m                                         inputs, attrs, num_outputs)\n\u001b[1;32m     56\u001b[0m   \u001b[0;32mexcept\u001b[0m \u001b[0mcore\u001b[0m\u001b[0;34m.\u001b[0m\u001b[0m_NotOkStatusException\u001b[0m \u001b[0;32mas\u001b[0m \u001b[0me\u001b[0m\u001b[0;34m:\u001b[0m\u001b[0;34m\u001b[0m\u001b[0;34m\u001b[0m\u001b[0m\n",
      "\u001b[0;31mKeyboardInterrupt\u001b[0m: "
     ]
    }
   ],
   "source": [
    "model1.build()\n",
    "model1.summary()\n",
    "model1.compile(loss=tf.keras.losses.sparse_categorical_crossentropy, metrics=['accuracy'], optimizer='adam')\n",
    "model_history1 = model1.fit(X_train, Y_train,epochs= 10,batch_size=100,validation_data=(X_test, Y_test))"
   ]
  },
  {
   "cell_type": "code",
   "execution_count": 26,
   "metadata": {},
   "outputs": [
    {
     "name": "stdout",
     "output_type": "stream",
     "text": [
      "<tf.Variable 'batch_normalization_13/gamma:0' shape=(32,) dtype=float32, numpy=\n",
      "array([0.81863385, 0.8860646 , 1.1305724 , 1.1737587 , 0.62696   ,\n",
      "       0.8398677 , 1.0302237 , 1.1372344 , 0.8810563 , 0.7828834 ,\n",
      "       0.9565432 , 1.0130681 , 1.2432607 , 1.0205656 , 1.1030844 ,\n",
      "       0.9985584 , 0.9360461 , 0.8963674 , 0.97928596, 0.9212471 ,\n",
      "       1.2063363 , 0.7221711 , 0.94306856, 1.0765458 , 1.1536174 ,\n",
      "       0.8544689 , 1.3199178 , 1.1261051 , 1.1521834 , 0.98905134,\n",
      "       0.92286974, 0.98357624], dtype=float32)> <tf.Variable 'batch_normalization_13/beta:0' shape=(32,) dtype=float32, numpy=\n",
      "array([ 0.06572681,  0.06582066,  0.03029627,  0.12616976,  0.10130557,\n",
      "        0.06948191, -0.09632029,  0.12003557,  0.07000641, -0.16254756,\n",
      "        0.0416152 , -0.05302313, -0.06482642,  0.01604648,  0.12953494,\n",
      "        0.01883245,  0.00209908, -0.15685177,  0.17560144, -0.11287544,\n",
      "       -0.04667243, -0.07590305,  0.06534347, -0.1476223 ,  0.0849442 ,\n",
      "       -0.00967214,  0.20554823,  0.01609388, -0.2136001 ,  0.10738385,\n",
      "        0.16322811, -0.04329985], dtype=float32)>\n",
      "<tf.Variable 'batch_normalization_14/gamma:0' shape=(48,) dtype=float32, numpy=\n",
      "array([0.74303335, 1.0373054 , 0.92258555, 1.0724797 , 0.87652284,\n",
      "       0.6542662 , 0.57883954, 0.75004894, 0.7788856 , 0.75074434,\n",
      "       0.7622201 , 0.6453279 , 0.899009  , 0.8352389 , 1.1070004 ,\n",
      "       0.79910964, 0.72127163, 0.9338594 , 1.0257399 , 0.99267507,\n",
      "       1.0228469 , 0.7324539 , 0.92950743, 0.9203967 , 1.0353391 ,\n",
      "       0.89514107, 0.94793975, 0.78637743, 0.63319683, 0.77768975,\n",
      "       0.9079924 , 1.0144372 , 0.7233237 , 0.7063451 , 0.7370608 ,\n",
      "       1.041734  , 0.9392641 , 0.87170297, 0.8322168 , 0.7830973 ,\n",
      "       1.0037043 , 0.81364655, 0.9494417 , 0.8439366 , 0.7076328 ,\n",
      "       0.7679951 , 0.76812124, 0.8479001 ], dtype=float32)> <tf.Variable 'batch_normalization_14/beta:0' shape=(48,) dtype=float32, numpy=\n",
      "array([-0.00947256, -0.08217034,  0.08879237,  0.07895344,  0.06226221,\n",
      "        0.04614998, -0.00212024, -0.02026234, -0.04489173, -0.02121567,\n",
      "       -0.04094838, -0.05239379,  0.02535982,  0.0075868 , -0.07677585,\n",
      "        0.07010822, -0.06603777,  0.03520955, -0.00107498,  0.06196919,\n",
      "        0.00457495,  0.0108287 ,  0.03909184, -0.03849049, -0.06357055,\n",
      "        0.06753685, -0.03501662, -0.04784011, -0.02763855,  0.0122701 ,\n",
      "       -0.10198482,  0.01309282,  0.02812739,  0.013539  ,  0.02568531,\n",
      "       -0.09868541,  0.0284006 ,  0.00420751,  0.08654377, -0.04512467,\n",
      "       -0.06827819,  0.02953526,  0.00643918,  0.03136236,  0.02954893,\n",
      "        0.00953536,  0.01437047, -0.01543835], dtype=float32)>\n",
      "<tf.Variable 'batch_normalization_15/gamma:0' shape=(120,) dtype=float32, numpy=\n",
      "array([1.0362692 , 0.99971396, 1.0485386 , 0.9921704 , 0.91504633,\n",
      "       1.0006969 , 1.0486947 , 1.0035236 , 1.0309311 , 1.051145  ,\n",
      "       0.92427206, 0.96556675, 0.98556465, 0.99023193, 0.9836163 ,\n",
      "       0.9615322 , 0.9293232 , 0.94854504, 1.0622853 , 1.035727  ,\n",
      "       0.9348148 , 0.9711387 , 0.99459   , 0.9993672 , 1.0805265 ,\n",
      "       1.1185653 , 0.9157025 , 1.0188643 , 1.0052427 , 0.99144423,\n",
      "       1.0300744 , 0.9910291 , 0.9849333 , 0.97944903, 1.0372336 ,\n",
      "       0.97536665, 1.075334  , 0.8538788 , 1.0143124 , 0.9883214 ,\n",
      "       1.059458  , 0.96020216, 0.93078804, 1.0446421 , 0.93424183,\n",
      "       0.9984999 , 1.0378548 , 0.9728392 , 1.0107703 , 1.0144175 ,\n",
      "       0.9795618 , 1.0239879 , 0.9030572 , 0.9814191 , 1.016187  ,\n",
      "       0.94710535, 0.9128915 , 0.8514414 , 0.9532337 , 1.0205494 ,\n",
      "       0.8577064 , 1.0470421 , 0.90146714, 0.924411  , 1.1803002 ,\n",
      "       0.9351748 , 0.963632  , 1.1615795 , 1.0655278 , 0.94503623,\n",
      "       0.9933996 , 0.93574786, 1.0065273 , 1.0303802 , 0.8918451 ,\n",
      "       0.95378673, 0.9852873 , 0.9972347 , 0.9840209 , 0.85385084,\n",
      "       1.065758  , 1.0469168 , 1.0876473 , 1.0296451 , 0.92203057,\n",
      "       0.9758443 , 1.0448992 , 1.0379786 , 0.97968405, 0.9459193 ,\n",
      "       0.9999029 , 1.032872  , 0.91376185, 0.97561044, 0.9942407 ,\n",
      "       1.019805  , 1.0518028 , 0.9352217 , 0.94311154, 1.0828625 ,\n",
      "       0.9084876 , 1.003947  , 1.049564  , 0.95150447, 1.0268945 ,\n",
      "       0.96312016, 0.9640181 , 1.0380819 , 0.9964938 , 1.0418694 ,\n",
      "       1.1353879 , 1.0415026 , 1.0210853 , 0.9313412 , 0.99028766,\n",
      "       0.9883176 , 0.9192935 , 0.8759905 , 0.90906286, 0.92611444],\n",
      "      dtype=float32)> <tf.Variable 'batch_normalization_15/beta:0' shape=(120,) dtype=float32, numpy=\n",
      "array([ 0.09295338, -0.12143579,  0.03590739, -0.02102963, -0.02349896,\n",
      "        0.02779787, -0.0232195 ,  0.10778585,  0.11470375,  0.05644912,\n",
      "        0.01905056, -0.06856447, -0.02476619,  0.00421207, -0.01756071,\n",
      "       -0.01566745,  0.02812215, -0.00721757,  0.04268601, -0.01850062,\n",
      "       -0.11709367, -0.03312414,  0.05450742, -0.0643832 , -0.0541855 ,\n",
      "       -0.04834153, -0.01391267, -0.01405655,  0.01262459,  0.09066385,\n",
      "       -0.03217224,  0.04437305,  0.04380447, -0.00232115, -0.01743015,\n",
      "       -0.169302  ,  0.02757817,  0.05755092, -0.02651602,  0.10595769,\n",
      "       -0.0304077 ,  0.11178587,  0.03680972, -0.02796879,  0.02335588,\n",
      "       -0.04155978,  0.05494514, -0.04403009,  0.07708414,  0.02199251,\n",
      "       -0.08286255,  0.00295626,  0.01685188,  0.04113941,  0.0149157 ,\n",
      "        0.01121764,  0.01148937, -0.08631472,  0.07789229,  0.02276633,\n",
      "       -0.01061949,  0.05985387, -0.03973133, -0.04549425,  0.05300567,\n",
      "       -0.05164485,  0.08426218,  0.00513927, -0.01422493,  0.08656945,\n",
      "       -0.02448037, -0.05028936, -0.0052233 ,  0.06406698,  0.07445882,\n",
      "        0.00345009,  0.03068004, -0.00741887,  0.02079355, -0.07309835,\n",
      "        0.01239428, -0.02234079,  0.02642942,  0.01067015, -0.05938841,\n",
      "        0.04025494,  0.05557457, -0.00180628, -0.0315427 , -0.0203556 ,\n",
      "       -0.04976683,  0.01704744,  0.07428919, -0.07621723,  0.06480289,\n",
      "        0.06584184,  0.08321786, -0.01783867, -0.04929894, -0.04420375,\n",
      "       -0.02266556,  0.02730931, -0.01804208,  0.02665542, -0.07371025,\n",
      "       -0.04955489,  0.03461997, -0.02600542, -0.03534155,  0.02997212,\n",
      "       -0.02739385,  0.12255256,  0.02730451,  0.03410773, -0.11016586,\n",
      "        0.0049617 , -0.02097802,  0.09897666,  0.0150735 , -0.05945281],\n",
      "      dtype=float32)>\n",
      "<tf.Variable 'batch_normalization_16/gamma:0' shape=(84,) dtype=float32, numpy=\n",
      "array([1.1889641 , 1.1991658 , 1.0478624 , 1.0334523 , 1.1051382 ,\n",
      "       1.1692069 , 1.1484803 , 1.1075807 , 1.1482942 , 1.0996389 ,\n",
      "       1.11856   , 1.0041453 , 1.1225284 , 0.99397004, 1.2198685 ,\n",
      "       1.0837996 , 1.1547115 , 1.1294086 , 1.1068666 , 1.1136818 ,\n",
      "       1.2024281 , 1.116199  , 1.0976211 , 1.1835567 , 1.0955198 ,\n",
      "       1.120327  , 1.0940262 , 1.0282255 , 1.1113564 , 1.064991  ,\n",
      "       1.0478686 , 1.1258849 , 1.1856532 , 1.1690869 , 1.0491706 ,\n",
      "       1.1215819 , 1.1056569 , 1.088056  , 1.1229836 , 1.1292522 ,\n",
      "       1.0536165 , 1.147311  , 1.1329122 , 1.0625759 , 1.1085898 ,\n",
      "       1.042704  , 1.1758354 , 1.1518831 , 1.1648519 , 1.1200155 ,\n",
      "       1.1048695 , 1.0869402 , 1.2867008 , 1.0778991 , 1.1381589 ,\n",
      "       1.1069402 , 1.1029564 , 1.1291261 , 1.1812742 , 1.1580734 ,\n",
      "       1.1060295 , 1.2145593 , 1.0456884 , 1.0507157 , 1.0993977 ,\n",
      "       1.1193447 , 1.0353651 , 1.18017   , 1.0739897 , 1.1733333 ,\n",
      "       1.1473916 , 1.0939997 , 1.1827372 , 1.1157687 , 1.123598  ,\n",
      "       1.0837827 , 1.1122769 , 1.1575    , 1.1046548 , 1.0818824 ,\n",
      "       1.0401075 , 1.1094307 , 1.139743  , 1.1360372 ], dtype=float32)> <tf.Variable 'batch_normalization_15/beta:0' shape=(120,) dtype=float32, numpy=\n",
      "array([ 0.09295338, -0.12143579,  0.03590739, -0.02102963, -0.02349896,\n",
      "        0.02779787, -0.0232195 ,  0.10778585,  0.11470375,  0.05644912,\n",
      "        0.01905056, -0.06856447, -0.02476619,  0.00421207, -0.01756071,\n",
      "       -0.01566745,  0.02812215, -0.00721757,  0.04268601, -0.01850062,\n",
      "       -0.11709367, -0.03312414,  0.05450742, -0.0643832 , -0.0541855 ,\n",
      "       -0.04834153, -0.01391267, -0.01405655,  0.01262459,  0.09066385,\n",
      "       -0.03217224,  0.04437305,  0.04380447, -0.00232115, -0.01743015,\n",
      "       -0.169302  ,  0.02757817,  0.05755092, -0.02651602,  0.10595769,\n",
      "       -0.0304077 ,  0.11178587,  0.03680972, -0.02796879,  0.02335588,\n",
      "       -0.04155978,  0.05494514, -0.04403009,  0.07708414,  0.02199251,\n",
      "       -0.08286255,  0.00295626,  0.01685188,  0.04113941,  0.0149157 ,\n",
      "        0.01121764,  0.01148937, -0.08631472,  0.07789229,  0.02276633,\n",
      "       -0.01061949,  0.05985387, -0.03973133, -0.04549425,  0.05300567,\n",
      "       -0.05164485,  0.08426218,  0.00513927, -0.01422493,  0.08656945,\n",
      "       -0.02448037, -0.05028936, -0.0052233 ,  0.06406698,  0.07445882,\n",
      "        0.00345009,  0.03068004, -0.00741887,  0.02079355, -0.07309835,\n",
      "        0.01239428, -0.02234079,  0.02642942,  0.01067015, -0.05938841,\n",
      "        0.04025494,  0.05557457, -0.00180628, -0.0315427 , -0.0203556 ,\n",
      "       -0.04976683,  0.01704744,  0.07428919, -0.07621723,  0.06480289,\n",
      "        0.06584184,  0.08321786, -0.01783867, -0.04929894, -0.04420375,\n",
      "       -0.02266556,  0.02730931, -0.01804208,  0.02665542, -0.07371025,\n",
      "       -0.04955489,  0.03461997, -0.02600542, -0.03534155,  0.02997212,\n",
      "       -0.02739385,  0.12255256,  0.02730451,  0.03410773, -0.11016586,\n",
      "        0.0049617 , -0.02097802,  0.09897666,  0.0150735 , -0.05945281],\n",
      "      dtype=float32)>\n"
     ]
    },
    {
     "data": {
      "image/png": "[encoded data removed]",
      "text/plain": [
       "<Figure size 432x288 with 1 Axes>"
      ]
     },
     "metadata": {
      "needs_background": "light"
     },
     "output_type": "display_data"
    },
    {
     "data": {
      "image/png": "[encoded data removed]",
      "text/plain": [
       "<Figure size 432x288 with 1 Axes>"
      ]
     },
     "metadata": {
      "needs_background": "light"
     },
     "output_type": "display_data"
    },
    {
     "data": {
      "image/png": "[encoded data removed]",
      "text/plain": [
       "<Figure size 432x288 with 1 Axes>"
      ]
     },
     "metadata": {
      "needs_background": "light"
     },
     "output_type": "display_data"
    },
    {
     "data": {
      "image/png": "[encoded data removed]",
      "text/plain": [
       "<Figure size 432x288 with 1 Axes>"
      ]
     },
     "metadata": {
      "needs_background": "light"
     },
     "output_type": "display_data"
    },
    {
     "name": "stdout",
     "output_type": "stream",
     "text": [
      "313/313 - 2s - loss: 0.0452 - accuracy: 0.9863 - 2s/epoch - 7ms/step\n"
     ]
    }
   ],
   "source": [
    "import numpy as np\n",
    "import pandas as pd\n",
    "import seaborn as sns\n",
    "import matplotlib.pyplot as plt\n",
    "        \n",
    "outputs = [layer.output for layer in model1.layers] \n",
    "outputs\n",
    "\n",
    "print(model1.layers[1].gamma, model1.layers[1].beta,)\n",
    "print(model1.layers[4].gamma, model1.layers[4].beta,)\n",
    "print(model1.layers[8].gamma, model1.layers[8].beta,)\n",
    "print(model1.layers[10].gamma, model1.layers[8].beta,)\n",
    "\n",
    "fig, axes = plt.subplots()\n",
    "\n",
    "axes.violinplot(dataset = [model1.layers[1].gamma,\n",
    "                           model1.layers[4].gamma,\n",
    "                           model1.layers[8].gamma,\n",
    "                           model1.layers[10].gamma,\n",
    "                           ])\n",
    "\n",
    "axes.set_title('Gamma parameters')\n",
    "axes.yaxis.grid(True)\n",
    "axes.set_xlabel('Batch layers')\n",
    "axes.set_ylabel('distribution')\n",
    "\n",
    "plt.show()\n",
    "fig, axes = plt.subplots()\n",
    "\n",
    "axes.violinplot(dataset = [model1.layers[1].beta,\n",
    "                           model1.layers[4].beta,\n",
    "                           model1.layers[8].beta,\n",
    "                           model1.layers[10].beta,\n",
    "                           ] )\n",
    "\n",
    "axes.set_title('Beta parameters')\n",
    "axes.yaxis.grid(True)\n",
    "axes.set_xlabel('Batch layers')\n",
    "axes.set_ylabel('distribution')\n",
    "\n",
    "plt.show()\n",
    "# you need to plot the violin plots.\n",
    "\n",
    "plt.plot(model_history1.history['loss'], label='training_loss')\n",
    "plt.plot(model_history1.history['val_loss'], label = 'val_loss')\n",
    "plt.xlabel('Epoch')\n",
    "plt.ylabel('Loss')\n",
    "plt.legend(loc='lower right')\n",
    "plt.show()\n",
    "\n",
    "plt.plot(model_history1.history['accuracy'], label='accuracy')\n",
    "plt.plot(model_history1.history['val_accuracy'], label = 'val_accuracy')\n",
    "plt.xlabel('Epoch')\n",
    "plt.ylabel('Accuracy')\n",
    "plt.legend(loc='lower right')\n",
    "plt.show()\n",
    "\n",
    "test_loss, test_acc = model1.evaluate(X_test, Y_test, verbose=2)"
   ]
  },
  {
   "cell_type": "markdown",
   "metadata": {},
   "source": [
    "\n",
    "3. Next instead of standard normalization use batch normalization for input layer also and train the network. Plot the distribution of learned batch norm parameters for each layer (including input) using violin plots. Compare the train/test accuracy and loss for the two cases ? Did batch normalization for input layer improve performance ? "
   ]
  },
  {
   "cell_type": "code",
   "execution_count": 2,
   "metadata": {},
   "outputs": [
    {
     "name": "stdout",
     "output_type": "stream",
     "text": [
      "(28, 28)\n"
     ]
    }
   ],
   "source": [
    "\n",
    "# (X_train, Y_train), (X_test, Y_test) = mnist.load_data()\n",
    "\n",
    "\n",
    "\n",
    "# print(X_train.shape[1:])\n",
    "model2 = Sequential()\n",
    "# model.add(norm_layer)\n",
    "model2.add(tf.keras.layers.BatchNormalization(X_train.shape[1:]))\n",
    "\n",
    "model1.add(Conv2D(6, 5, activation='tanh',input_shape=  X_train.shape[1:] ))\n",
    "model2.add(tf.keras.layers.BatchNormalization())\n",
    "\n",
    "model1.add(tf.keras.layers.AveragePooling2D(2))\n",
    "model1.add(Conv2D(16, 5, padding='valid', activation='tanh'))\n",
    "\n",
    "model2.add(tf.keras.layers.BatchNormalization())\n",
    "\n",
    "model2.add(Flatten())\n",
    "model2.add(tf.keras.layers.AveragePooling2D(2))\n",
    "model2.add(tf.keras.layers.Conv2D(120, 5, activation='tanh'))\n",
    "\n",
    "model2.add(tf.keras.layers.BatchNormalization())\n",
    "model2.add(Dense(84, activation='tanh'))\n",
    "\n",
    "model2.add(tf.keras.layers.BatchNormalization())\n",
    "model2.add(Dense(10, activation='softmax'))"
   ]
  },
  {
   "cell_type": "code",
   "execution_count": 3,
   "metadata": {},
   "outputs": [
    {
     "name": "stdout",
     "output_type": "stream",
     "text": [
      "Model: \"sequential_1\"\n",
      "_________________________________________________________________\n",
      " Layer (type)                Output Shape              Param #   \n",
      "=================================================================\n",
      " batch_normalization_4 (Batc  (None, 28, 28, 1)        4         \n",
      " hNormalization)                                                 \n",
      "                                                                 \n",
      " conv2d_2 (Conv2D)           (None, 28, 28, 32)        832       \n",
      "                                                                 \n",
      " batch_normalization_5 (Batc  (None, 28, 28, 32)       128       \n",
      " hNormalization)                                                 \n",
      "                                                                 \n",
      " max_pooling2d_2 (MaxPooling  (None, 14, 14, 32)       0         \n",
      " 2D)                                                             \n",
      "                                                                 \n",
      " conv2d_3 (Conv2D)           (None, 10, 10, 48)        38448     \n",
      "                                                                 \n",
      " batch_normalization_6 (Batc  (None, 10, 10, 48)       192       \n",
      " hNormalization)                                                 \n",
      "                                                                 \n",
      " max_pooling2d_3 (MaxPooling  (None, 5, 5, 48)         0         \n",
      " 2D)                                                             \n",
      "                                                                 \n",
      " flatten_1 (Flatten)         (None, 1200)              0         \n",
      "                                                                 \n",
      " dense_3 (Dense)             (None, 256)               307456    \n",
      "                                                                 \n",
      " batch_normalization_7 (Batc  (None, 256)              1024      \n",
      " hNormalization)                                                 \n",
      "                                                                 \n",
      " dense_4 (Dense)             (None, 84)                21588     \n",
      "                                                                 \n",
      " batch_normalization_8 (Batc  (None, 84)               336       \n",
      " hNormalization)                                                 \n",
      "                                                                 \n",
      " dense_5 (Dense)             (None, 10)                850       \n",
      "                                                                 \n",
      "=================================================================\n",
      "Total params: 370,858\n",
      "Trainable params: 370,016\n",
      "Non-trainable params: 842\n",
      "_________________________________________________________________\n",
      "Epoch 1/10\n",
      "599/600 [============================>.] - ETA: 0s - loss: 0.1032 - accuracy: 0.9701"
     ]
    },
    {
     "ename": "KeyboardInterrupt",
     "evalue": "",
     "output_type": "error",
     "traceback": [
      "\u001b[0;31m---------------------------------------------------------------------------\u001b[0m",
      "\u001b[0;31mKeyboardInterrupt\u001b[0m                         Traceback (most recent call last)",
      "\u001b[0;32m<ipython-input-3-e65c5ff338bb>\u001b[0m in \u001b[0;36m<module>\u001b[0;34m\u001b[0m\n\u001b[1;32m      2\u001b[0m \u001b[0mmodel\u001b[0m\u001b[0;34m.\u001b[0m\u001b[0msummary\u001b[0m\u001b[0;34m(\u001b[0m\u001b[0;34m)\u001b[0m\u001b[0;34m\u001b[0m\u001b[0;34m\u001b[0m\u001b[0m\n\u001b[1;32m      3\u001b[0m \u001b[0mmodel\u001b[0m\u001b[0;34m.\u001b[0m\u001b[0mcompile\u001b[0m\u001b[0;34m(\u001b[0m\u001b[0mloss\u001b[0m\u001b[0;34m=\u001b[0m\u001b[0mtf\u001b[0m\u001b[0;34m.\u001b[0m\u001b[0mkeras\u001b[0m\u001b[0;34m.\u001b[0m\u001b[0mlosses\u001b[0m\u001b[0;34m.\u001b[0m\u001b[0msparse_categorical_crossentropy\u001b[0m\u001b[0;34m,\u001b[0m \u001b[0mmetrics\u001b[0m\u001b[0;34m=\u001b[0m\u001b[0;34m[\u001b[0m\u001b[0;34m'accuracy'\u001b[0m\u001b[0;34m]\u001b[0m\u001b[0;34m,\u001b[0m \u001b[0moptimizer\u001b[0m\u001b[0;34m=\u001b[0m\u001b[0;34m'adam'\u001b[0m\u001b[0;34m)\u001b[0m\u001b[0;34m\u001b[0m\u001b[0;34m\u001b[0m\u001b[0m\n\u001b[0;32m----> 4\u001b[0;31m \u001b[0mmodel\u001b[0m\u001b[0;34m.\u001b[0m\u001b[0mfit\u001b[0m\u001b[0;34m(\u001b[0m\u001b[0mX_train\u001b[0m\u001b[0;34m,\u001b[0m \u001b[0mY_train\u001b[0m\u001b[0;34m,\u001b[0m\u001b[0mepochs\u001b[0m\u001b[0;34m=\u001b[0m \u001b[0;36m10\u001b[0m\u001b[0;34m,\u001b[0m\u001b[0mbatch_size\u001b[0m\u001b[0;34m=\u001b[0m\u001b[0;36m100\u001b[0m\u001b[0;34m)\u001b[0m\u001b[0;34m\u001b[0m\u001b[0;34m\u001b[0m\u001b[0m\n\u001b[0m",
      "\u001b[0;32m~/opt/anaconda3/lib/python3.8/site-packages/keras/utils/traceback_utils.py\u001b[0m in \u001b[0;36merror_handler\u001b[0;34m(*args, **kwargs)\u001b[0m\n\u001b[1;32m     63\u001b[0m         \u001b[0mfiltered_tb\u001b[0m \u001b[0;34m=\u001b[0m \u001b[0;32mNone\u001b[0m\u001b[0;34m\u001b[0m\u001b[0;34m\u001b[0m\u001b[0m\n\u001b[1;32m     64\u001b[0m         \u001b[0;32mtry\u001b[0m\u001b[0;34m:\u001b[0m\u001b[0;34m\u001b[0m\u001b[0;34m\u001b[0m\u001b[0m\n\u001b[0;32m---> 65\u001b[0;31m             \u001b[0;32mreturn\u001b[0m \u001b[0mfn\u001b[0m\u001b[0;34m(\u001b[0m\u001b[0;34m*\u001b[0m\u001b[0margs\u001b[0m\u001b[0;34m,\u001b[0m \u001b[0;34m**\u001b[0m\u001b[0mkwargs\u001b[0m\u001b[0;34m)\u001b[0m\u001b[0;34m\u001b[0m\u001b[0;34m\u001b[0m\u001b[0m\n\u001b[0m\u001b[1;32m     66\u001b[0m         \u001b[0;32mexcept\u001b[0m \u001b[0mException\u001b[0m \u001b[0;32mas\u001b[0m \u001b[0me\u001b[0m\u001b[0;34m:\u001b[0m\u001b[0;34m\u001b[0m\u001b[0;34m\u001b[0m\u001b[0m\n\u001b[1;32m     67\u001b[0m             \u001b[0mfiltered_tb\u001b[0m \u001b[0;34m=\u001b[0m \u001b[0m_process_traceback_frames\u001b[0m\u001b[0;34m(\u001b[0m\u001b[0me\u001b[0m\u001b[0;34m.\u001b[0m\u001b[0m__traceback__\u001b[0m\u001b[0;34m)\u001b[0m\u001b[0;34m\u001b[0m\u001b[0;34m\u001b[0m\u001b[0m\n",
      "\u001b[0;32m~/opt/anaconda3/lib/python3.8/site-packages/keras/engine/training.py\u001b[0m in \u001b[0;36mfit\u001b[0;34m(self, x, y, batch_size, epochs, verbose, callbacks, validation_split, validation_data, shuffle, class_weight, sample_weight, initial_epoch, steps_per_epoch, validation_steps, validation_batch_size, validation_freq, max_queue_size, workers, use_multiprocessing)\u001b[0m\n\u001b[1;32m   1562\u001b[0m                         ):\n\u001b[1;32m   1563\u001b[0m                             \u001b[0mcallbacks\u001b[0m\u001b[0;34m.\u001b[0m\u001b[0mon_train_batch_begin\u001b[0m\u001b[0;34m(\u001b[0m\u001b[0mstep\u001b[0m\u001b[0;34m)\u001b[0m\u001b[0;34m\u001b[0m\u001b[0;34m\u001b[0m\u001b[0m\n\u001b[0;32m-> 1564\u001b[0;31m                             \u001b[0mtmp_logs\u001b[0m \u001b[0;34m=\u001b[0m \u001b[0mself\u001b[0m\u001b[0;34m.\u001b[0m\u001b[0mtrain_function\u001b[0m\u001b[0;34m(\u001b[0m\u001b[0miterator\u001b[0m\u001b[0;34m)\u001b[0m\u001b[0;34m\u001b[0m\u001b[0;34m\u001b[0m\u001b[0m\n\u001b[0m\u001b[1;32m   1565\u001b[0m                             \u001b[0;32mif\u001b[0m \u001b[0mdata_handler\u001b[0m\u001b[0;34m.\u001b[0m\u001b[0mshould_sync\u001b[0m\u001b[0;34m:\u001b[0m\u001b[0;34m\u001b[0m\u001b[0;34m\u001b[0m\u001b[0m\n\u001b[1;32m   1566\u001b[0m                                 \u001b[0mcontext\u001b[0m\u001b[0;34m.\u001b[0m\u001b[0masync_wait\u001b[0m\u001b[0;34m(\u001b[0m\u001b[0;34m)\u001b[0m\u001b[0;34m\u001b[0m\u001b[0;34m\u001b[0m\u001b[0m\n",
      "\u001b[0;32m~/opt/anaconda3/lib/python3.8/site-packages/tensorflow/python/util/traceback_utils.py\u001b[0m in \u001b[0;36merror_handler\u001b[0;34m(*args, **kwargs)\u001b[0m\n\u001b[1;32m    148\u001b[0m     \u001b[0mfiltered_tb\u001b[0m \u001b[0;34m=\u001b[0m \u001b[0;32mNone\u001b[0m\u001b[0;34m\u001b[0m\u001b[0;34m\u001b[0m\u001b[0m\n\u001b[1;32m    149\u001b[0m     \u001b[0;32mtry\u001b[0m\u001b[0;34m:\u001b[0m\u001b[0;34m\u001b[0m\u001b[0;34m\u001b[0m\u001b[0m\n\u001b[0;32m--> 150\u001b[0;31m       \u001b[0;32mreturn\u001b[0m \u001b[0mfn\u001b[0m\u001b[0;34m(\u001b[0m\u001b[0;34m*\u001b[0m\u001b[0margs\u001b[0m\u001b[0;34m,\u001b[0m \u001b[0;34m**\u001b[0m\u001b[0mkwargs\u001b[0m\u001b[0;34m)\u001b[0m\u001b[0;34m\u001b[0m\u001b[0;34m\u001b[0m\u001b[0m\n\u001b[0m\u001b[1;32m    151\u001b[0m     \u001b[0;32mexcept\u001b[0m \u001b[0mException\u001b[0m \u001b[0;32mas\u001b[0m \u001b[0me\u001b[0m\u001b[0;34m:\u001b[0m\u001b[0;34m\u001b[0m\u001b[0;34m\u001b[0m\u001b[0m\n\u001b[1;32m    152\u001b[0m       \u001b[0mfiltered_tb\u001b[0m \u001b[0;34m=\u001b[0m \u001b[0m_process_traceback_frames\u001b[0m\u001b[0;34m(\u001b[0m\u001b[0me\u001b[0m\u001b[0;34m.\u001b[0m\u001b[0m__traceback__\u001b[0m\u001b[0;34m)\u001b[0m\u001b[0;34m\u001b[0m\u001b[0;34m\u001b[0m\u001b[0m\n",
      "\u001b[0;32m~/opt/anaconda3/lib/python3.8/site-packages/tensorflow/python/eager/def_function.py\u001b[0m in \u001b[0;36m__call__\u001b[0;34m(self, *args, **kwds)\u001b[0m\n\u001b[1;32m    913\u001b[0m \u001b[0;34m\u001b[0m\u001b[0m\n\u001b[1;32m    914\u001b[0m       \u001b[0;32mwith\u001b[0m \u001b[0mOptionalXlaContext\u001b[0m\u001b[0;34m(\u001b[0m\u001b[0mself\u001b[0m\u001b[0;34m.\u001b[0m\u001b[0m_jit_compile\u001b[0m\u001b[0;34m)\u001b[0m\u001b[0;34m:\u001b[0m\u001b[0;34m\u001b[0m\u001b[0;34m\u001b[0m\u001b[0m\n\u001b[0;32m--> 915\u001b[0;31m         \u001b[0mresult\u001b[0m \u001b[0;34m=\u001b[0m \u001b[0mself\u001b[0m\u001b[0;34m.\u001b[0m\u001b[0m_call\u001b[0m\u001b[0;34m(\u001b[0m\u001b[0;34m*\u001b[0m\u001b[0margs\u001b[0m\u001b[0;34m,\u001b[0m \u001b[0;34m**\u001b[0m\u001b[0mkwds\u001b[0m\u001b[0;34m)\u001b[0m\u001b[0;34m\u001b[0m\u001b[0;34m\u001b[0m\u001b[0m\n\u001b[0m\u001b[1;32m    916\u001b[0m \u001b[0;34m\u001b[0m\u001b[0m\n\u001b[1;32m    917\u001b[0m       \u001b[0mnew_tracing_count\u001b[0m \u001b[0;34m=\u001b[0m \u001b[0mself\u001b[0m\u001b[0;34m.\u001b[0m\u001b[0mexperimental_get_tracing_count\u001b[0m\u001b[0;34m(\u001b[0m\u001b[0;34m)\u001b[0m\u001b[0;34m\u001b[0m\u001b[0;34m\u001b[0m\u001b[0m\n",
      "\u001b[0;32m~/opt/anaconda3/lib/python3.8/site-packages/tensorflow/python/eager/def_function.py\u001b[0m in \u001b[0;36m_call\u001b[0;34m(self, *args, **kwds)\u001b[0m\n\u001b[1;32m    945\u001b[0m       \u001b[0;31m# In this case we have created variables on the first call, so we run the\u001b[0m\u001b[0;34m\u001b[0m\u001b[0;34m\u001b[0m\u001b[0;34m\u001b[0m\u001b[0m\n\u001b[1;32m    946\u001b[0m       \u001b[0;31m# defunned version which is guaranteed to never create variables.\u001b[0m\u001b[0;34m\u001b[0m\u001b[0;34m\u001b[0m\u001b[0;34m\u001b[0m\u001b[0m\n\u001b[0;32m--> 947\u001b[0;31m       \u001b[0;32mreturn\u001b[0m \u001b[0mself\u001b[0m\u001b[0;34m.\u001b[0m\u001b[0m_stateless_fn\u001b[0m\u001b[0;34m(\u001b[0m\u001b[0;34m*\u001b[0m\u001b[0margs\u001b[0m\u001b[0;34m,\u001b[0m \u001b[0;34m**\u001b[0m\u001b[0mkwds\u001b[0m\u001b[0;34m)\u001b[0m  \u001b[0;31m# pylint: disable=not-callable\u001b[0m\u001b[0;34m\u001b[0m\u001b[0;34m\u001b[0m\u001b[0m\n\u001b[0m\u001b[1;32m    948\u001b[0m     \u001b[0;32melif\u001b[0m \u001b[0mself\u001b[0m\u001b[0;34m.\u001b[0m\u001b[0m_stateful_fn\u001b[0m \u001b[0;32mis\u001b[0m \u001b[0;32mnot\u001b[0m \u001b[0;32mNone\u001b[0m\u001b[0;34m:\u001b[0m\u001b[0;34m\u001b[0m\u001b[0;34m\u001b[0m\u001b[0m\n\u001b[1;32m    949\u001b[0m       \u001b[0;31m# Release the lock early so that multiple threads can perform the call\u001b[0m\u001b[0;34m\u001b[0m\u001b[0;34m\u001b[0m\u001b[0;34m\u001b[0m\u001b[0m\n",
      "\u001b[0;32m~/opt/anaconda3/lib/python3.8/site-packages/tensorflow/python/eager/function.py\u001b[0m in \u001b[0;36m__call__\u001b[0;34m(self, *args, **kwargs)\u001b[0m\n\u001b[1;32m   2494\u001b[0m       (graph_function,\n\u001b[1;32m   2495\u001b[0m        filtered_flat_args) = self._maybe_define_function(args, kwargs)\n\u001b[0;32m-> 2496\u001b[0;31m     return graph_function._call_flat(\n\u001b[0m\u001b[1;32m   2497\u001b[0m         filtered_flat_args, captured_inputs=graph_function.captured_inputs)  # pylint: disable=protected-access\n\u001b[1;32m   2498\u001b[0m \u001b[0;34m\u001b[0m\u001b[0m\n",
      "\u001b[0;32m~/opt/anaconda3/lib/python3.8/site-packages/tensorflow/python/eager/function.py\u001b[0m in \u001b[0;36m_call_flat\u001b[0;34m(self, args, captured_inputs, cancellation_manager)\u001b[0m\n\u001b[1;32m   1860\u001b[0m         and executing_eagerly):\n\u001b[1;32m   1861\u001b[0m       \u001b[0;31m# No tape is watching; skip to running the function.\u001b[0m\u001b[0;34m\u001b[0m\u001b[0;34m\u001b[0m\u001b[0;34m\u001b[0m\u001b[0m\n\u001b[0;32m-> 1862\u001b[0;31m       return self._build_call_outputs(self._inference_function.call(\n\u001b[0m\u001b[1;32m   1863\u001b[0m           ctx, args, cancellation_manager=cancellation_manager))\n\u001b[1;32m   1864\u001b[0m     forward_backward = self._select_forward_and_backward_functions(\n",
      "\u001b[0;32m~/opt/anaconda3/lib/python3.8/site-packages/tensorflow/python/eager/function.py\u001b[0m in \u001b[0;36mcall\u001b[0;34m(self, ctx, args, cancellation_manager)\u001b[0m\n\u001b[1;32m    497\u001b[0m       \u001b[0;32mwith\u001b[0m \u001b[0m_InterpolateFunctionError\u001b[0m\u001b[0;34m(\u001b[0m\u001b[0mself\u001b[0m\u001b[0;34m)\u001b[0m\u001b[0;34m:\u001b[0m\u001b[0;34m\u001b[0m\u001b[0;34m\u001b[0m\u001b[0m\n\u001b[1;32m    498\u001b[0m         \u001b[0;32mif\u001b[0m \u001b[0mcancellation_manager\u001b[0m \u001b[0;32mis\u001b[0m \u001b[0;32mNone\u001b[0m\u001b[0;34m:\u001b[0m\u001b[0;34m\u001b[0m\u001b[0;34m\u001b[0m\u001b[0m\n\u001b[0;32m--> 499\u001b[0;31m           outputs = execute.execute(\n\u001b[0m\u001b[1;32m    500\u001b[0m               \u001b[0mstr\u001b[0m\u001b[0;34m(\u001b[0m\u001b[0mself\u001b[0m\u001b[0;34m.\u001b[0m\u001b[0msignature\u001b[0m\u001b[0;34m.\u001b[0m\u001b[0mname\u001b[0m\u001b[0;34m)\u001b[0m\u001b[0;34m,\u001b[0m\u001b[0;34m\u001b[0m\u001b[0;34m\u001b[0m\u001b[0m\n\u001b[1;32m    501\u001b[0m               \u001b[0mnum_outputs\u001b[0m\u001b[0;34m=\u001b[0m\u001b[0mself\u001b[0m\u001b[0;34m.\u001b[0m\u001b[0m_num_outputs\u001b[0m\u001b[0;34m,\u001b[0m\u001b[0;34m\u001b[0m\u001b[0;34m\u001b[0m\u001b[0m\n",
      "\u001b[0;32m~/opt/anaconda3/lib/python3.8/site-packages/tensorflow/python/eager/execute.py\u001b[0m in \u001b[0;36mquick_execute\u001b[0;34m(op_name, num_outputs, inputs, attrs, ctx, name)\u001b[0m\n\u001b[1;32m     52\u001b[0m   \u001b[0;32mtry\u001b[0m\u001b[0;34m:\u001b[0m\u001b[0;34m\u001b[0m\u001b[0;34m\u001b[0m\u001b[0m\n\u001b[1;32m     53\u001b[0m     \u001b[0mctx\u001b[0m\u001b[0;34m.\u001b[0m\u001b[0mensure_initialized\u001b[0m\u001b[0;34m(\u001b[0m\u001b[0;34m)\u001b[0m\u001b[0;34m\u001b[0m\u001b[0;34m\u001b[0m\u001b[0m\n\u001b[0;32m---> 54\u001b[0;31m     tensors = pywrap_tfe.TFE_Py_Execute(ctx._handle, device_name, op_name,\n\u001b[0m\u001b[1;32m     55\u001b[0m                                         inputs, attrs, num_outputs)\n\u001b[1;32m     56\u001b[0m   \u001b[0;32mexcept\u001b[0m \u001b[0mcore\u001b[0m\u001b[0;34m.\u001b[0m\u001b[0m_NotOkStatusException\u001b[0m \u001b[0;32mas\u001b[0m \u001b[0me\u001b[0m\u001b[0;34m:\u001b[0m\u001b[0;34m\u001b[0m\u001b[0;34m\u001b[0m\u001b[0m\n",
      "\u001b[0;31mKeyboardInterrupt\u001b[0m: "
     ]
    }
   ],
   "source": [
    "model2.build()\n",
    "model2.summary()\n",
    "model2.compile(loss=tf.keras.losses.sparse_categorical_crossentropy, metrics=['accuracy'], optimizer='adam')\n",
    "model_history2 = model2.fit(X_train, Y_train,epochs= 10,batch_size=100,validation_data=(X_test, Y_test))"
   ]
  },
  {
   "cell_type": "code",
   "execution_count": 13,
   "metadata": {},
   "outputs": [
    {
     "name": "stdout",
     "output_type": "stream",
     "text": [
      "<tf.Variable 'batch_normalization_13/gamma:0' shape=(1,) dtype=float32, numpy=array([0.98208195], dtype=float32)> <tf.Variable 'batch_normalization_13/beta:0' shape=(1,) dtype=float32, numpy=array([0.22662392], dtype=float32)>\n",
      "<tf.Variable 'batch_normalization_14/gamma:0' shape=(32,) dtype=float32, numpy=\n",
      "array([0.7684027 , 0.88733906, 1.0514632 , 1.097466  , 0.6171542 ,\n",
      "       0.70947623, 0.61347353, 1.0506831 , 1.1648184 , 1.082974  ,\n",
      "       0.99188066, 1.0628668 , 0.717255  , 1.2729177 , 0.9211315 ,\n",
      "       0.7427105 , 1.212307  , 0.88963807, 1.0939035 , 0.86567515,\n",
      "       1.1956588 , 0.92124933, 1.2822005 , 0.9025572 , 0.7598906 ,\n",
      "       1.1256709 , 0.92162013, 0.73857   , 0.8399067 , 0.9527584 ,\n",
      "       1.1395913 , 1.0719141 ], dtype=float32)> <tf.Variable 'batch_normalization_14/beta:0' shape=(32,) dtype=float32, numpy=\n",
      "array([ 0.17463677,  0.22006167,  0.08709119,  0.16212058,  0.21278928,\n",
      "        0.02032804,  0.13029206,  0.00379577,  0.07075272,  0.12857544,\n",
      "        0.06798032,  0.04045894, -0.04244972,  0.1599787 ,  0.14815512,\n",
      "        0.10255579,  0.10350142,  0.12733318,  0.16427161,  0.21529149,\n",
      "        0.02571888,  0.07189506,  0.16970775,  0.12017772,  0.06685045,\n",
      "        0.02519489,  0.19782056,  0.15198316,  0.07079856,  0.00702879,\n",
      "       -0.02170487,  0.0300934 ], dtype=float32)>\n",
      "<tf.Variable 'batch_normalization_15/gamma:0' shape=(48,) dtype=float32, numpy=\n",
      "array([0.97868025, 1.184675  , 1.001749  , 1.0792067 , 0.8208872 ,\n",
      "       0.8737642 , 1.2332873 , 0.7772831 , 0.94437796, 1.2036939 ,\n",
      "       0.7648366 , 0.88093776, 0.89308757, 0.9079559 , 0.8087122 ,\n",
      "       0.8309524 , 1.1976584 , 1.0945834 , 0.86989534, 1.1876508 ,\n",
      "       0.72829366, 1.0054003 , 1.0463569 , 1.0551212 , 1.2698152 ,\n",
      "       0.8238721 , 1.0618079 , 0.6769451 , 0.9902702 , 0.9682803 ,\n",
      "       0.77045065, 0.86978596, 0.9033602 , 0.8393826 , 0.6955527 ,\n",
      "       1.2342129 , 0.9391614 , 1.0278925 , 0.9830826 , 1.238535  ,\n",
      "       0.9962876 , 1.0766317 , 0.9714402 , 0.91220397, 0.7961742 ,\n",
      "       0.7433143 , 1.0939136 , 0.96826226], dtype=float32)> <tf.Variable 'batch_normalization_15/beta:0' shape=(48,) dtype=float32, numpy=\n",
      "array([-0.19285858,  0.01205338, -0.11020642, -0.08062796, -0.13060157,\n",
      "       -0.17746505, -0.00501031, -0.11738084, -0.20423162, -0.1050829 ,\n",
      "       -0.18697791, -0.06596903, -0.14372793, -0.05868368, -0.13401827,\n",
      "       -0.10397739, -0.11854552, -0.07724199, -0.11724387,  0.00767785,\n",
      "       -0.11077043, -0.12387305, -0.14708753, -0.11351294, -0.14552438,\n",
      "       -0.10769031, -0.09757254, -0.1445071 , -0.08639237, -0.17308986,\n",
      "       -0.18279721, -0.27495876, -0.06135013, -0.18326488, -0.03436598,\n",
      "       -0.03506614, -0.21237974, -0.01717698, -0.13178118, -0.03260077,\n",
      "       -0.02621838, -0.03864432, -0.11258955, -0.09578408, -0.2378636 ,\n",
      "       -0.15879403, -0.16042693, -0.12857293], dtype=float32)>\n",
      "<tf.Variable 'batch_normalization_16/gamma:0' shape=(256,) dtype=float32, numpy=\n",
      "array([1.0660933 , 0.9170443 , 0.90884894, 0.9873757 , 1.1365017 ,\n",
      "       0.9287208 , 1.0388467 , 1.0310842 , 0.980049  , 0.9715988 ,\n",
      "       1.0741365 , 1.028417  , 1.0273718 , 0.90494967, 1.109945  ,\n",
      "       1.0709468 , 0.9239641 , 1.0162263 , 0.96501327, 0.99702704,\n",
      "       1.0073584 , 1.0216211 , 0.9473775 , 1.0111592 , 0.99220216,\n",
      "       0.9144704 , 1.0058224 , 1.0685076 , 0.7544441 , 0.96087116,\n",
      "       1.0456145 , 1.0619857 , 1.0574684 , 0.89142245, 1.0702398 ,\n",
      "       0.97405505, 0.99947965, 0.9659294 , 1.124553  , 0.9296309 ,\n",
      "       1.0247442 , 0.92393064, 0.96404266, 1.0466827 , 1.0331663 ,\n",
      "       1.1142159 , 0.92723966, 0.97722065, 1.0741175 , 0.9807699 ,\n",
      "       1.0147816 , 1.1109176 , 1.032182  , 1.0223948 , 0.9855255 ,\n",
      "       1.0246742 , 0.9404014 , 0.97094464, 1.0552474 , 1.0087179 ,\n",
      "       0.8561738 , 0.9651203 , 0.9810727 , 1.0594473 , 0.9561602 ,\n",
      "       0.94675094, 1.021943  , 0.938661  , 1.0906937 , 0.88659394,\n",
      "       0.938372  , 0.97144085, 0.99851406, 1.075147  , 1.0071589 ,\n",
      "       1.0445557 , 1.0380926 , 1.0618263 , 1.0881877 , 0.87490356,\n",
      "       1.0078723 , 1.0776494 , 1.0339764 , 1.0498492 , 0.97901183,\n",
      "       0.88917416, 0.9075146 , 0.95966333, 0.9510124 , 1.0822214 ,\n",
      "       0.9517863 , 1.059318  , 0.97905844, 0.89959437, 1.0093343 ,\n",
      "       1.0533895 , 0.93957   , 0.99335223, 1.0123577 , 1.0428706 ,\n",
      "       0.9904632 , 1.039358  , 1.0064204 , 0.9281262 , 0.9689589 ,\n",
      "       0.9362322 , 1.0038347 , 0.955676  , 0.89310324, 0.94718176,\n",
      "       0.90937525, 1.0716683 , 1.0693722 , 0.90251297, 1.0266838 ,\n",
      "       0.959063  , 0.8852469 , 1.1140234 , 0.98412794, 1.0546551 ,\n",
      "       0.87359524, 0.92503   , 1.043202  , 1.1065769 , 1.0239444 ,\n",
      "       0.9661666 , 1.1120923 , 0.95097333, 1.0659904 , 0.94835216,\n",
      "       1.0922925 , 0.9537577 , 1.015726  , 1.005252  , 0.9473441 ,\n",
      "       0.9387158 , 1.0892979 , 1.0672913 , 1.0235146 , 1.0678682 ,\n",
      "       1.0436563 , 1.0257158 , 1.106396  , 0.9516289 , 0.9994826 ,\n",
      "       1.0632826 , 0.94261485, 1.0843962 , 1.0935421 , 0.95515877,\n",
      "       1.0353845 , 0.91754353, 1.0505241 , 0.9539479 , 1.0130547 ,\n",
      "       1.151434  , 1.0166336 , 0.96311283, 0.89156604, 1.071603  ,\n",
      "       1.0015489 , 1.0584235 , 1.0824285 , 1.014992  , 1.0092968 ,\n",
      "       0.957425  , 0.9391883 , 0.9636717 , 1.1029769 , 0.93966335,\n",
      "       1.0197731 , 0.84859926, 1.0058501 , 1.0807675 , 0.9965956 ,\n",
      "       0.8659784 , 1.0605081 , 0.97534066, 1.0349486 , 1.0657656 ,\n",
      "       0.95547146, 1.0041747 , 0.9934951 , 1.0250125 , 0.826404  ,\n",
      "       0.9614446 , 1.030064  , 0.95152414, 0.9258266 , 1.0692778 ,\n",
      "       1.0243435 , 1.0038236 , 0.9656105 , 0.9318929 , 0.98585814,\n",
      "       1.020499  , 0.923824  , 1.0275266 , 0.91551054, 0.95305705,\n",
      "       0.89502794, 0.9748387 , 1.0102412 , 0.91603905, 1.0906566 ,\n",
      "       1.0295026 , 0.8290324 , 1.0654246 , 1.0032355 , 0.9947    ,\n",
      "       0.89235383, 0.94090223, 0.96213484, 0.9749089 , 0.9343342 ,\n",
      "       0.9461266 , 1.0344725 , 1.0981282 , 1.0484973 , 0.9404156 ,\n",
      "       1.005146  , 1.0755404 , 0.8895148 , 1.0411881 , 1.0150672 ,\n",
      "       1.0007681 , 0.86850464, 0.8135221 , 0.9836149 , 0.91228896,\n",
      "       0.9736904 , 1.0898216 , 0.8727604 , 1.018148  , 1.0508294 ,\n",
      "       0.97395056, 0.82930666, 1.0200957 , 1.0047005 , 0.9726573 ,\n",
      "       1.000554  , 1.0212182 , 0.8758174 , 1.0118092 , 1.0405337 ,\n",
      "       0.87494254, 0.9925506 , 1.0520312 , 0.7214294 , 0.9749597 ,\n",
      "       1.0308154 , 0.98674506, 1.0468742 , 0.962417  , 0.9118829 ,\n",
      "       0.9084819 ], dtype=float32)> <tf.Variable 'batch_normalization_16/beta:0' shape=(256,) dtype=float32, numpy=\n",
      "array([ 0.01599485, -0.09615174,  0.13099235, -0.03245079, -0.03535755,\n",
      "       -0.00567647,  0.03668777,  0.01415513,  0.01753747,  0.03253621,\n",
      "        0.00046275,  0.06863657, -0.0196085 , -0.07076807, -0.02152175,\n",
      "        0.05488275,  0.04985791,  0.08081418,  0.00283158,  0.04251508,\n",
      "        0.01839662, -0.12566188,  0.0211706 ,  0.05319939, -0.05498035,\n",
      "        0.00769028, -0.00750571,  0.01903502,  0.02272693, -0.04897824,\n",
      "        0.03007322,  0.01691155,  0.0005548 , -0.05210526, -0.05820794,\n",
      "       -0.03365826, -0.10978393, -0.04401497,  0.03827112, -0.01990583,\n",
      "        0.06395876,  0.00273274, -0.00716603,  0.07166475,  0.03715906,\n",
      "       -0.00224311,  0.09340589, -0.07197052,  0.04007722,  0.03294463,\n",
      "        0.0093836 , -0.06171505, -0.020762  , -0.15055323,  0.08605652,\n",
      "        0.11418784, -0.06652451,  0.01726614,  0.02910066, -0.07856598,\n",
      "        0.02543963,  0.02173922, -0.04523788,  0.07195473,  0.09590658,\n",
      "        0.06374235, -0.09652025,  0.02438764, -0.05770219,  0.08933748,\n",
      "       -0.05862589,  0.09332262,  0.00736841, -0.01533905,  0.03856067,\n",
      "       -0.02025052, -0.02800113,  0.09030038, -0.03773993, -0.03362328,\n",
      "        0.07616101, -0.06695765,  0.10445767,  0.04879902,  0.04270738,\n",
      "       -0.0015355 , -0.06870321,  0.10956708, -0.05655256, -0.02891612,\n",
      "       -0.01825914, -0.08508246,  0.06723762,  0.161248  , -0.01032001,\n",
      "        0.17626506,  0.04146827, -0.05171108,  0.0689138 ,  0.06601501,\n",
      "        0.10350724, -0.06626397, -0.0509937 , -0.00368851,  0.05800221,\n",
      "        0.00915978, -0.00082327,  0.09212032, -0.08861089,  0.07197018,\n",
      "        0.01568068,  0.00768307, -0.03061121, -0.06729957,  0.02388474,\n",
      "        0.03365115, -0.03898388, -0.04814576, -0.07551929, -0.01370111,\n",
      "       -0.02954731, -0.01817862, -0.01781403,  0.07559372,  0.0670484 ,\n",
      "       -0.08832409,  0.00684242,  0.05903317, -0.01537031,  0.02447435,\n",
      "       -0.06167496,  0.03141965, -0.19000335,  0.0400241 , -0.06573994,\n",
      "        0.00135173,  0.03711579, -0.03636789,  0.02401215,  0.02344572,\n",
      "        0.01676196,  0.089991  ,  0.02871907,  0.03415738,  0.06046018,\n",
      "        0.01541316,  0.09415581,  0.02746472,  0.08150887, -0.06050137,\n",
      "        0.02458611,  0.08158021, -0.01010982,  0.07401106,  0.08629516,\n",
      "        0.01158708, -0.02775762, -0.0005892 , -0.0112194 ,  0.03004663,\n",
      "       -0.01709631,  0.01776974,  0.01013958,  0.03403186,  0.02719323,\n",
      "       -0.06185753,  0.015271  ,  0.08375372,  0.04932671,  0.01853449,\n",
      "        0.06523897,  0.05759567, -0.02405054,  0.0308354 , -0.01206898,\n",
      "       -0.09072191, -0.11124308,  0.02379928,  0.04921033, -0.01116371,\n",
      "       -0.10416391,  0.01684851,  0.00817832, -0.11647587,  0.05589106,\n",
      "        0.07171824,  0.00876507,  0.04592235,  0.02854478,  0.13378182,\n",
      "        0.02763339,  0.07368209,  0.05296   ,  0.09332131,  0.01473148,\n",
      "        0.0158813 , -0.01596352,  0.06527202, -0.02125054,  0.0205029 ,\n",
      "        0.05503798,  0.01136723, -0.03343796, -0.01173828, -0.00687679,\n",
      "       -0.05805006,  0.08611648, -0.06907723,  0.06106301,  0.099043  ,\n",
      "       -0.09682676,  0.0694597 ,  0.07533895,  0.07373594,  0.09916917,\n",
      "        0.03244978, -0.05949078, -0.02480996,  0.06988709,  0.04379164,\n",
      "        0.06894753, -0.0036713 ,  0.0499504 , -0.00716837, -0.03109096,\n",
      "       -0.08888605, -0.09712657, -0.04611361,  0.07347612,  0.01234716,\n",
      "        0.08621062, -0.10306616,  0.07320004,  0.08544806,  0.0412693 ,\n",
      "       -0.10200109,  0.13735141,  0.01646421, -0.08994077,  0.02543332,\n",
      "       -0.0568977 ,  0.09273815, -0.02425839, -0.00563821,  0.09721733,\n",
      "        0.03825409,  0.1414642 , -0.02630243,  0.08999954, -0.05611847,\n",
      "        0.0020399 ,  0.02349019,  0.00458808,  0.01639947,  0.13342138,\n",
      "        0.04777889], dtype=float32)>\n",
      "<tf.Variable 'batch_normalization_17/gamma:0' shape=(84,) dtype=float32, numpy=\n",
      "array([1.1579691, 1.1943734, 1.1975459, 1.2613264, 1.0971936, 1.1893657,\n",
      "       1.1450773, 1.1703708, 1.1773008, 1.1887177, 1.2749772, 1.195651 ,\n",
      "       1.1766143, 1.2481016, 1.2734557, 1.1737608, 1.2346674, 1.2466631,\n",
      "       1.1331862, 1.2407787, 1.1747835, 1.2488092, 1.229832 , 1.1846042,\n",
      "       1.2302071, 1.3327177, 1.1786164, 1.3017274, 1.2119738, 1.1286849,\n",
      "       1.3010637, 1.1874877, 1.1876814, 1.2690408, 1.1135353, 1.1511996,\n",
      "       1.091635 , 1.2576141, 1.1374507, 1.1702468, 1.3091933, 1.1567016,\n",
      "       1.3737063, 1.135992 , 1.2105403, 1.1975056, 1.2383281, 1.2310448,\n",
      "       1.2362652, 1.1989764, 1.066973 , 1.1925005, 1.1534735, 1.1372179,\n",
      "       1.1730609, 1.2797205, 1.2723745, 1.1512547, 1.1302158, 1.3395945,\n",
      "       1.2046007, 1.0886171, 1.1372744, 1.1656669, 1.168551 , 1.1463886,\n",
      "       1.1449137, 1.1493063, 1.1729687, 1.3050971, 1.3139416, 1.1998025,\n",
      "       1.2270722, 1.367075 , 1.1482112, 1.2299987, 1.2647716, 1.2090733,\n",
      "       1.1854753, 1.1347891, 1.1685004, 1.2006854, 1.2166839, 1.1415743],\n",
      "      dtype=float32)> <tf.Variable 'batch_normalization_17/beta:0' shape=(84,) dtype=float32, numpy=\n",
      "array([ 9.81136411e-03, -1.18624214e-02, -1.64775439e-02,  1.48216086e-02,\n",
      "        4.15218696e-02,  1.33621478e-02,  9.89993103e-03,  2.10941173e-02,\n",
      "       -1.11111375e-02,  1.44247832e-02,  2.58040372e-02, -2.57676691e-02,\n",
      "        3.51261115e-04,  2.45448258e-02, -3.18305641e-02,  1.15728788e-02,\n",
      "       -4.13239561e-02, -8.90362356e-03, -2.68333238e-02, -1.40773486e-02,\n",
      "       -1.79557351e-03,  3.06089278e-02, -1.07594104e-02,  8.56493600e-03,\n",
      "       -1.36291375e-02,  4.28162403e-02,  1.29233953e-02,  7.06753740e-03,\n",
      "       -1.06938155e-02,  6.99466513e-03, -1.15302144e-04,  4.59227003e-02,\n",
      "       -1.74339842e-02,  3.29663530e-02,  4.71917950e-02,  3.37539762e-02,\n",
      "       -7.70497881e-03,  8.29762663e-04,  5.61186252e-03,  1.62732564e-02,\n",
      "       -1.16109531e-02,  1.41757224e-02, -2.20434237e-02, -6.23091217e-03,\n",
      "        2.90866867e-02,  7.47116702e-03,  5.87632209e-02, -2.84990761e-03,\n",
      "       -5.21844588e-02, -6.31633587e-03,  4.13482673e-02,  4.40179370e-03,\n",
      "       -3.39316018e-03,  2.38621011e-02,  3.63109051e-03,  3.25185098e-02,\n",
      "        4.73111160e-02,  2.24033967e-02, -9.21136962e-05,  1.19039547e-02,\n",
      "       -2.43616588e-02,  2.70282254e-02,  1.92262661e-02,  1.49864340e-02,\n",
      "       -2.88053835e-03,  3.92060131e-02,  3.55557092e-02,  2.05513146e-02,\n",
      "        8.31281580e-03, -3.86631191e-02,  1.40944626e-02,  3.25003336e-03,\n",
      "        4.76247184e-02, -4.81665954e-02, -9.09976941e-03, -9.22639295e-03,\n",
      "       -3.11057456e-02, -6.78555388e-03,  4.00965177e-02, -1.10578407e-02,\n",
      "        1.38166221e-02, -1.23346550e-03,  4.24518064e-03,  1.42191602e-02],\n",
      "      dtype=float32)>\n"
     ]
    }
   ],
   "source": [
    "outputs = [layer.output for layer in model2.layers] \n",
    "outputs\n",
    "\n",
    "print(model2.layers[0].gamma, model2.layers[0].beta,)\n",
    "print(model2.layers[2].gamma, model2.layers[2].beta,)\n",
    "print(model2.layers[5].gamma, model2.layers[5].beta,)\n",
    "print(model2.layers[9].gamma, model2.layers[9].beta,)\n",
    "print(model2.layers[11].gamma, model2.layers[11].beta,)\n",
    "\n",
    "import numpy as np\n",
    "import pandas as pd\n",
    "import seaborn as sns\n",
    "import matplotlib.pyplot as plt\n",
    "\n",
    "fig, axes = plt.subplots()\n",
    "\n",
    "axes.violinplot(dataset = [model2.layers[0].gamma,\n",
    "                           model2.layers[2].gamma,\n",
    "                           model2.layers[5].gamma,\n",
    "                           model2.layers[9].gamma,\n",
    "                           model2.layers[11].gamma,\n",
    "                           ])\n",
    "\n",
    "axes.set_title('Gamma parameters')\n",
    "axes.yaxis.grid(True)\n",
    "axes.set_xlabel('Batch layers')\n",
    "axes.set_ylabel('distribution')\n",
    "\n",
    "plt.show()\n",
    "fig, axes = plt.subplots()\n",
    "\n",
    "axes.violinplot(dataset = [model2.layers[0].beta,\n",
    "                           model2.layers[2].beta,\n",
    "                           model2.layers[5].beta,\n",
    "                           model2.layers[9].beta,\n",
    "                           model2.layers[11].beta,\n",
    "                           ])\n",
    "\n",
    "axes.set_title('Beta parameters')\n",
    "axes.yaxis.grid(True)\n",
    "axes.set_xlabel('Batch layers')\n",
    "axes.set_ylabel('distribution')\n",
    "\n",
    "plt.show()\n",
    "# you need to plot the violin plots.\n",
    "\n",
    "plt.plot(model_history2.history['loss'], label='training_loss')\n",
    "plt.plot(model_history2.history['val_loss'], label = 'val_loss')\n",
    "plt.xlabel('Epoch')\n",
    "plt.ylabel('Loss')\n",
    "plt.legend(loc='lower right')\n",
    "test_loss, test_acc = model2.evaluate(X_test, Y_test, verbose=2)"
   ]
  },
  {
   "cell_type": "markdown",
   "metadata": {},
   "source": [
    "\n",
    "4. Train the network without batch normalization but this time use dropout. For hidden layers use dropout probability of 0.5 and for input layer take it to be 0.2 Compare test accuracy using dropout to test accuracy obtained using batch normalization in part 2 and 3."
   ]
  },
  {
   "cell_type": "markdown",
   "metadata": {},
   "source": [
    "no batch normal not normalization with dropout"
   ]
  },
  {
   "cell_type": "code",
   "execution_count": 9,
   "metadata": {},
   "outputs": [
    {
     "name": "stdout",
     "output_type": "stream",
     "text": [
      "(28, 28)\n"
     ]
    }
   ],
   "source": [
    "(X_train, Y_train), (X_test, Y_test) = mnist.load_data()\n",
    "\n",
    "\n",
    "\n",
    "print(X_train.shape[1:])\n",
    "model3 = Sequential()\n",
    "# model.add(norm_layer)\n",
    "model3.add(tf.keras.layers.Dropout(0.5,input_shape=(28, 28, 1)))\n",
    "model3.add(Conv2D(filters=32, kernel_size=(5,5), padding='same', activation='relu', input_shape=(28, 28, 1)))\n",
    "\n",
    "\n",
    "model3.add(MaxPool2D(strides=2))\n",
    "model3.add(tf.keras.layers.Dropout(0.2))\n",
    "model3.add(Conv2D(filters=48, kernel_size=(5,5), padding='valid', activation='relu'))\n",
    "\n",
    "model3.add(MaxPool2D(strides=2))\n",
    "model3.add(Flatten())\n",
    "model3.add(tf.keras.layers.Dropout(0.2))\n",
    "model3.add(Dense(256, activation='relu'))\n",
    "\n",
    "model3.add(tf.keras.layers.Dropout(0.2))\n",
    "model3.add(Dense(84, activation='relu'))\n",
    "\n",
    "model3.add(tf.keras.layers.Dropout(0.2))\n",
    "model3.add(Dense(10, activation='softmax'))"
   ]
  },
  {
   "cell_type": "code",
   "execution_count": 14,
   "metadata": {},
   "outputs": [
    {
     "name": "stdout",
     "output_type": "stream",
     "text": [
      "Model: \"sequential_4\"\n",
      "_________________________________________________________________\n",
      " Layer (type)                Output Shape              Param #   \n",
      "=================================================================\n",
      " dropout_10 (Dropout)        (None, 28, 28, 1)         0         \n",
      "                                                                 \n",
      " conv2d_8 (Conv2D)           (None, 28, 28, 32)        832       \n",
      "                                                                 \n",
      " max_pooling2d_8 (MaxPooling  (None, 14, 14, 32)       0         \n",
      " 2D)                                                             \n",
      "                                                                 \n",
      " dropout_11 (Dropout)        (None, 14, 14, 32)        0         \n",
      "                                                                 \n",
      " conv2d_9 (Conv2D)           (None, 10, 10, 48)        38448     \n",
      "                                                                 \n",
      " max_pooling2d_9 (MaxPooling  (None, 5, 5, 48)         0         \n",
      " 2D)                                                             \n",
      "                                                                 \n",
      " flatten_4 (Flatten)         (None, 1200)              0         \n",
      "                                                                 \n",
      " dropout_12 (Dropout)        (None, 1200)              0         \n",
      "                                                                 \n",
      " dense_12 (Dense)            (None, 256)               307456    \n",
      "                                                                 \n",
      " dropout_13 (Dropout)        (None, 256)               0         \n",
      "                                                                 \n",
      " dense_13 (Dense)            (None, 84)                21588     \n",
      "                                                                 \n",
      " dropout_14 (Dropout)        (None, 84)                0         \n",
      "                                                                 \n",
      " dense_14 (Dense)            (None, 10)                850       \n",
      "                                                                 \n",
      "=================================================================\n",
      "Total params: 369,174\n",
      "Trainable params: 369,174\n",
      "Non-trainable params: 0\n",
      "_________________________________________________________________\n",
      "Epoch 1/5\n",
      "600/600 [==============================] - 40s 66ms/step - loss: 0.1225 - accuracy: 0.9639 - val_loss: 0.0944 - val_accuracy: 0.9800\n",
      "Epoch 2/5\n",
      "600/600 [==============================] - 38s 64ms/step - loss: 0.1216 - accuracy: 0.9655 - val_loss: 0.1308 - val_accuracy: 0.9814\n",
      "Epoch 3/5\n",
      "600/600 [==============================] - 39s 65ms/step - loss: 0.1130 - accuracy: 0.9666 - val_loss: 0.1036 - val_accuracy: 0.9822\n",
      "Epoch 4/5\n",
      "600/600 [==============================] - 38s 64ms/step - loss: 0.1082 - accuracy: 0.9674 - val_loss: 0.0949 - val_accuracy: 0.9840\n",
      "Epoch 5/5\n",
      "600/600 [==============================] - 36s 60ms/step - loss: 0.1047 - accuracy: 0.9689 - val_loss: 0.0805 - val_accuracy: 0.9813\n"
     ]
    }
   ],
   "source": [
    "model3.build()\n",
    "model3.summary()\n",
    "model3.compile(loss=tf.keras.losses.sparse_categorical_crossentropy, metrics=['accuracy'], optimizer='adam')\n",
    "model_history3 = model3.fit(X_train, Y_train,epochs= 5,batch_size=100,validation_data=(X_test, Y_test))"
   ]
  },
  {
   "cell_type": "code",
   "execution_count": 15,
   "metadata": {},
   "outputs": [
    {
     "name": "stdout",
     "output_type": "stream",
     "text": [
      "313/313 - 2s - loss: 0.0805 - accuracy: 0.9813 - 2s/epoch - 5ms/step\n"
     ]
    },
    {
     "data": {
      "image/png": "[encoded data removed]",
      "text/plain": [
       "<Figure size 432x288 with 1 Axes>"
      ]
     },
     "metadata": {
      "needs_background": "light"
     },
     "output_type": "display_data"
    }
   ],
   "source": [
    "#getting the accuracy\n",
    "import matplotlib.pyplot as plt\n",
    "plt.plot(model_history3.history['loss'], label='training_loss')\n",
    "plt.plot(model_history3.history['val_loss'], label = 'val_loss')\n",
    "plt.xlabel('Epoch')\n",
    "plt.ylabel('Loss')\n",
    "plt.legend(loc='lower right')\n",
    "test_loss, test_acc = model.evaluate(X_test, Y_test, verbose=2)\n"
   ]
  },
  {
   "cell_type": "code",
   "execution_count": 16,
   "metadata": {},
   "outputs": [
    {
     "data": {
      "text/plain": [
       "<matplotlib.legend.Legend at 0x7ffe7499b5e0>"
      ]
     },
     "execution_count": 16,
     "metadata": {},
     "output_type": "execute_result"
    },
    {
     "data": {
      "image/png": "[encoded data removed]",
      "text/plain": [
       "<Figure size 432x288 with 1 Axes>"
      ]
     },
     "metadata": {
      "needs_background": "light"
     },
     "output_type": "display_data"
    }
   ],
   "source": [
    "plt.plot(model_history.history['accuracy'], label='accuracy')\n",
    "plt.plot(model_history.history['val_accuracy'], label = 'val_accuracy')\n",
    "plt.xlabel('Epoch')\n",
    "plt.ylabel('Accuracy')\n",
    "plt.legend(loc='lower right')"
   ]
  },
  {
   "cell_type": "markdown",
   "metadata": {},
   "source": [
    "\n",
    "5. Now train the network using both batch normalization and dropout. How does the performance (test accuracy) of the network compare with the cases with dropout alone and with batch normalization alone ? \n",
    "\n",
    "add batch any case\n",
    "batch normalizaiotn and dropout. "
   ]
  },
  {
   "cell_type": "markdown",
   "metadata": {},
   "source": []
  }
 ],
 "metadata": {
  "kernelspec": {
   "display_name": "Python 3.8.5 ('base')",
   "language": "python",
   "name": "python3"
  },
  "language_info": {
   "codemirror_mode": {
    "name": "ipython",
    "version": 3
   },
   "file_extension": ".py",
   "mimetype": "text/x-python",
   "name": "python",
   "nbconvert_exporter": "python",
   "pygments_lexer": "ipython3",
   "version": "3.8.5"
  },
  "orig_nbformat": 4,
  "vscode": {
   "interpreter": {
    "hash": "2a0f08725565d2d00e70b9fae99b105541271f7be4baa13607a6e77e1d2c8c73"
   }
  }
 },
 "nbformat": 4,
 "nbformat_minor": 2
}
