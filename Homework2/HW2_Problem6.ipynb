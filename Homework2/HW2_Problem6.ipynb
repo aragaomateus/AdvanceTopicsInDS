{
 "cells": [
  {
   "cell_type": "markdown",
   "metadata": {},
   "source": [
    "# Problem 6 - Batch Normalization, Dropout, MNIST\n",
    "\n",
    "Batch normalization and Dropout are used as effective regularization techniques. However its not clear which one should be preferred and whether their benefits add up when used in conjunction. In this problem we will compare batch normalization, dropout, and their conjunction using MNIST and LeNet-5 (see e.g., http://yann.lecun.com/exdb/lenet/). LeNet-5 is one of the earliest convolutional neural network developed for image classification and its implementation in all major framework is available. You can refer to Lecture 3 slides for definition of standardization and batch normalization."
   ]
  },
  {
   "cell_type": "markdown",
   "metadata": {},
   "source": [
    "\n",
    "1. Explain the terms co-adaptation and internal covariance-shift. Use examples if needed. You may need to refer to two papers mentioned below to answer this question. (Papers are in my ipad)"
   ]
  },
  {
   "cell_type": "markdown",
   "metadata": {},
   "source": []
  },
  {
   "cell_type": "markdown",
   "metadata": {},
   "source": [
    "2. Batch normalization is traditionally used in hidden layers, for input layer standard normalization is used. In standard normalization the mean and standard deviation are calculated using the entire training dataset whereas in batch normalization these statistics are calculated for each mini-batch. Train LeNet-5 with standard normalization of input and batch normalization for hidden layers. What are the learned batch norm parameters for each layer ?"
   ]
  },
  {
   "cell_type": "code",
   "execution_count": 40,
   "metadata": {},
   "outputs": [
    {
     "name": "stdout",
     "output_type": "stream",
     "text": [
      "(60000, 32, 32, 1)\n"
     ]
    }
   ],
   "source": [
    "import numpy as np \n",
    "import pandas as pd\n",
    "from tensorflow.keras.models import Sequential\n",
    "from tensorflow.keras.layers import Dense,Conv2D,MaxPool2D,Flatten\n",
    "import tensorflow as tf\n",
    "from tensorflow.keras.layers.experimental.preprocessing import Normalization\n",
    "\n",
    "from tensorflow.keras.datasets import mnist\n",
    "(X_train, Y_train), (X_test, Y_test) = mnist.load_data()\n",
    "\n",
    "X_train = tf.pad(X_train, [[0, 0], [2,2], [2,2]])/255\n",
    "X_test = tf.pad(X_test, [[0, 0], [2,2], [2,2]])/255\n",
    "\n",
    "X_train = tf.expand_dims(X_train, axis=3, name=None)\n",
    "X_test = tf.expand_dims(X_test, axis=3, name=None)\n",
    "\n",
    "adapt_data =X_train\n",
    "input_data = X_train\n",
    "layer = tf.keras.layers.Normalization(axis=None)\n",
    "layer.adapt(adapt_data)\n",
    "\n",
    "layer(input_data)\n",
    "\n",
    "print(X_train.shape)\n",
    "model1 = Sequential()\n",
    "# model.add(norm_layer)\n",
    "model1.add(tf.keras.layers.Normalization(axis=None,input_shape=  X_train.shape[1:]))\n",
    "model1.add(Conv2D(6, 5, activation='tanh',input_shape=  X_train.shape[1:] ))\n",
    "\n",
    "model1.add(tf.keras.layers.BatchNormalization())\n",
    "\n",
    "model1.add(tf.keras.layers.AveragePooling2D(2))\n",
    "model1.add(Conv2D(16, 5, padding='valid', activation='tanh'))\n",
    "\n",
    "model1.add(tf.keras.layers.BatchNormalization())\n",
    "\n",
    "model1.add(tf.keras.layers.AveragePooling2D(2))\n",
    "model1.add(tf.keras.layers.Conv2D(120, 5, activation='tanh'))\n",
    "\n",
    "\n",
    "model1.add(Flatten())\n",
    "model1.add(tf.keras.layers.BatchNormalization())\n",
    "model1.add(Dense(84, activation='tanh'))\n",
    "\n",
    "model1.add(tf.keras.layers.BatchNormalization())\n",
    "model1.add(Dense(10, activation='softmax'))"
   ]
  },
  {
   "cell_type": "code",
   "execution_count": 39,
   "metadata": {},
   "outputs": [
    {
     "data": {
      "text/plain": [
       "<tf.Tensor: shape=(60000, 32, 32, 1), dtype=float32, numpy=\n",
       "array([[[[-0.36348358],\n",
       "         [-0.36348358],\n",
       "         [-0.36348358],\n",
       "         ...,\n",
       "         [-0.36348358],\n",
       "         [-0.36348358],\n",
       "         [-0.36348358]],\n",
       "\n",
       "        [[-0.36348358],\n",
       "         [-0.36348358],\n",
       "         [-0.36348358],\n",
       "         ...,\n",
       "         [-0.36348358],\n",
       "         [-0.36348358],\n",
       "         [-0.36348358]],\n",
       "\n",
       "        [[-0.36348358],\n",
       "         [-0.36348358],\n",
       "         [-0.36348358],\n",
       "         ...,\n",
       "         [-0.36348358],\n",
       "         [-0.36348358],\n",
       "         [-0.36348358]],\n",
       "\n",
       "        ...,\n",
       "\n",
       "        [[-0.36348358],\n",
       "         [-0.36348358],\n",
       "         [-0.36348358],\n",
       "         ...,\n",
       "         [-0.36348358],\n",
       "         [-0.36348358],\n",
       "         [-0.36348358]],\n",
       "\n",
       "        [[-0.36348358],\n",
       "         [-0.36348358],\n",
       "         [-0.36348358],\n",
       "         ...,\n",
       "         [-0.36348358],\n",
       "         [-0.36348358],\n",
       "         [-0.36348358]],\n",
       "\n",
       "        [[-0.36348358],\n",
       "         [-0.36348358],\n",
       "         [-0.36348358],\n",
       "         ...,\n",
       "         [-0.36348358],\n",
       "         [-0.36348358],\n",
       "         [-0.36348358]]],\n",
       "\n",
       "\n",
       "       [[[-0.36348358],\n",
       "         [-0.36348358],\n",
       "         [-0.36348358],\n",
       "         ...,\n",
       "         [-0.36348358],\n",
       "         [-0.36348358],\n",
       "         [-0.36348358]],\n",
       "\n",
       "        [[-0.36348358],\n",
       "         [-0.36348358],\n",
       "         [-0.36348358],\n",
       "         ...,\n",
       "         [-0.36348358],\n",
       "         [-0.36348358],\n",
       "         [-0.36348358]],\n",
       "\n",
       "        [[-0.36348358],\n",
       "         [-0.36348358],\n",
       "         [-0.36348358],\n",
       "         ...,\n",
       "         [-0.36348358],\n",
       "         [-0.36348358],\n",
       "         [-0.36348358]],\n",
       "\n",
       "        ...,\n",
       "\n",
       "        [[-0.36348358],\n",
       "         [-0.36348358],\n",
       "         [-0.36348358],\n",
       "         ...,\n",
       "         [-0.36348358],\n",
       "         [-0.36348358],\n",
       "         [-0.36348358]],\n",
       "\n",
       "        [[-0.36348358],\n",
       "         [-0.36348358],\n",
       "         [-0.36348358],\n",
       "         ...,\n",
       "         [-0.36348358],\n",
       "         [-0.36348358],\n",
       "         [-0.36348358]],\n",
       "\n",
       "        [[-0.36348358],\n",
       "         [-0.36348358],\n",
       "         [-0.36348358],\n",
       "         ...,\n",
       "         [-0.36348358],\n",
       "         [-0.36348358],\n",
       "         [-0.36348358]]],\n",
       "\n",
       "\n",
       "       [[[-0.36348358],\n",
       "         [-0.36348358],\n",
       "         [-0.36348358],\n",
       "         ...,\n",
       "         [-0.36348358],\n",
       "         [-0.36348358],\n",
       "         [-0.36348358]],\n",
       "\n",
       "        [[-0.36348358],\n",
       "         [-0.36348358],\n",
       "         [-0.36348358],\n",
       "         ...,\n",
       "         [-0.36348358],\n",
       "         [-0.36348358],\n",
       "         [-0.36348358]],\n",
       "\n",
       "        [[-0.36348358],\n",
       "         [-0.36348358],\n",
       "         [-0.36348358],\n",
       "         ...,\n",
       "         [-0.36348358],\n",
       "         [-0.36348358],\n",
       "         [-0.36348358]],\n",
       "\n",
       "        ...,\n",
       "\n",
       "        [[-0.36348358],\n",
       "         [-0.36348358],\n",
       "         [-0.36348358],\n",
       "         ...,\n",
       "         [-0.36348358],\n",
       "         [-0.36348358],\n",
       "         [-0.36348358]],\n",
       "\n",
       "        [[-0.36348358],\n",
       "         [-0.36348358],\n",
       "         [-0.36348358],\n",
       "         ...,\n",
       "         [-0.36348358],\n",
       "         [-0.36348358],\n",
       "         [-0.36348358]],\n",
       "\n",
       "        [[-0.36348358],\n",
       "         [-0.36348358],\n",
       "         [-0.36348358],\n",
       "         ...,\n",
       "         [-0.36348358],\n",
       "         [-0.36348358],\n",
       "         [-0.36348358]]],\n",
       "\n",
       "\n",
       "       ...,\n",
       "\n",
       "\n",
       "       [[[-0.36348358],\n",
       "         [-0.36348358],\n",
       "         [-0.36348358],\n",
       "         ...,\n",
       "         [-0.36348358],\n",
       "         [-0.36348358],\n",
       "         [-0.36348358]],\n",
       "\n",
       "        [[-0.36348358],\n",
       "         [-0.36348358],\n",
       "         [-0.36348358],\n",
       "         ...,\n",
       "         [-0.36348358],\n",
       "         [-0.36348358],\n",
       "         [-0.36348358]],\n",
       "\n",
       "        [[-0.36348358],\n",
       "         [-0.36348358],\n",
       "         [-0.36348358],\n",
       "         ...,\n",
       "         [-0.36348358],\n",
       "         [-0.36348358],\n",
       "         [-0.36348358]],\n",
       "\n",
       "        ...,\n",
       "\n",
       "        [[-0.36348358],\n",
       "         [-0.36348358],\n",
       "         [-0.36348358],\n",
       "         ...,\n",
       "         [-0.36348358],\n",
       "         [-0.36348358],\n",
       "         [-0.36348358]],\n",
       "\n",
       "        [[-0.36348358],\n",
       "         [-0.36348358],\n",
       "         [-0.36348358],\n",
       "         ...,\n",
       "         [-0.36348358],\n",
       "         [-0.36348358],\n",
       "         [-0.36348358]],\n",
       "\n",
       "        [[-0.36348358],\n",
       "         [-0.36348358],\n",
       "         [-0.36348358],\n",
       "         ...,\n",
       "         [-0.36348358],\n",
       "         [-0.36348358],\n",
       "         [-0.36348358]]],\n",
       "\n",
       "\n",
       "       [[[-0.36348358],\n",
       "         [-0.36348358],\n",
       "         [-0.36348358],\n",
       "         ...,\n",
       "         [-0.36348358],\n",
       "         [-0.36348358],\n",
       "         [-0.36348358]],\n",
       "\n",
       "        [[-0.36348358],\n",
       "         [-0.36348358],\n",
       "         [-0.36348358],\n",
       "         ...,\n",
       "         [-0.36348358],\n",
       "         [-0.36348358],\n",
       "         [-0.36348358]],\n",
       "\n",
       "        [[-0.36348358],\n",
       "         [-0.36348358],\n",
       "         [-0.36348358],\n",
       "         ...,\n",
       "         [-0.36348358],\n",
       "         [-0.36348358],\n",
       "         [-0.36348358]],\n",
       "\n",
       "        ...,\n",
       "\n",
       "        [[-0.36348358],\n",
       "         [-0.36348358],\n",
       "         [-0.36348358],\n",
       "         ...,\n",
       "         [-0.36348358],\n",
       "         [-0.36348358],\n",
       "         [-0.36348358]],\n",
       "\n",
       "        [[-0.36348358],\n",
       "         [-0.36348358],\n",
       "         [-0.36348358],\n",
       "         ...,\n",
       "         [-0.36348358],\n",
       "         [-0.36348358],\n",
       "         [-0.36348358]],\n",
       "\n",
       "        [[-0.36348358],\n",
       "         [-0.36348358],\n",
       "         [-0.36348358],\n",
       "         ...,\n",
       "         [-0.36348358],\n",
       "         [-0.36348358],\n",
       "         [-0.36348358]]],\n",
       "\n",
       "\n",
       "       [[[-0.36348358],\n",
       "         [-0.36348358],\n",
       "         [-0.36348358],\n",
       "         ...,\n",
       "         [-0.36348358],\n",
       "         [-0.36348358],\n",
       "         [-0.36348358]],\n",
       "\n",
       "        [[-0.36348358],\n",
       "         [-0.36348358],\n",
       "         [-0.36348358],\n",
       "         ...,\n",
       "         [-0.36348358],\n",
       "         [-0.36348358],\n",
       "         [-0.36348358]],\n",
       "\n",
       "        [[-0.36348358],\n",
       "         [-0.36348358],\n",
       "         [-0.36348358],\n",
       "         ...,\n",
       "         [-0.36348358],\n",
       "         [-0.36348358],\n",
       "         [-0.36348358]],\n",
       "\n",
       "        ...,\n",
       "\n",
       "        [[-0.36348358],\n",
       "         [-0.36348358],\n",
       "         [-0.36348358],\n",
       "         ...,\n",
       "         [-0.36348358],\n",
       "         [-0.36348358],\n",
       "         [-0.36348358]],\n",
       "\n",
       "        [[-0.36348358],\n",
       "         [-0.36348358],\n",
       "         [-0.36348358],\n",
       "         ...,\n",
       "         [-0.36348358],\n",
       "         [-0.36348358],\n",
       "         [-0.36348358]],\n",
       "\n",
       "        [[-0.36348358],\n",
       "         [-0.36348358],\n",
       "         [-0.36348358],\n",
       "         ...,\n",
       "         [-0.36348358],\n",
       "         [-0.36348358],\n",
       "         [-0.36348358]]]], dtype=float32)>"
      ]
     },
     "execution_count": 39,
     "metadata": {},
     "output_type": "execute_result"
    }
   ],
   "source": [
    "adapt_data =X_train\n",
    "input_data = X_train\n",
    "layer = tf.keras.layers.Normalization(axis=None)\n",
    "layer.adapt(adapt_data)\n",
    "layer(input_data)"
   ]
  },
  {
   "cell_type": "code",
   "execution_count": 41,
   "metadata": {},
   "outputs": [
    {
     "ename": "ValueError",
     "evalue": "You must provide an `input_shape` argument.",
     "output_type": "error",
     "traceback": [
      "\u001b[0;31m---------------------------------------------------------------------------\u001b[0m",
      "\u001b[0;31mValueError\u001b[0m                                Traceback (most recent call last)",
      "\u001b[0;32m<ipython-input-41-134dbfc65f9d>\u001b[0m in \u001b[0;36m<module>\u001b[0;34m\u001b[0m\n\u001b[0;32m----> 1\u001b[0;31m \u001b[0mmodel1\u001b[0m\u001b[0;34m.\u001b[0m\u001b[0mbuild\u001b[0m\u001b[0;34m(\u001b[0m\u001b[0;34m)\u001b[0m\u001b[0;34m\u001b[0m\u001b[0;34m\u001b[0m\u001b[0m\n\u001b[0m\u001b[1;32m      2\u001b[0m \u001b[0mmodel1\u001b[0m\u001b[0;34m.\u001b[0m\u001b[0msummary\u001b[0m\u001b[0;34m(\u001b[0m\u001b[0;34m)\u001b[0m\u001b[0;34m\u001b[0m\u001b[0;34m\u001b[0m\u001b[0m\n\u001b[1;32m      3\u001b[0m \u001b[0mmodel1\u001b[0m\u001b[0;34m.\u001b[0m\u001b[0mcompile\u001b[0m\u001b[0;34m(\u001b[0m\u001b[0mloss\u001b[0m\u001b[0;34m=\u001b[0m\u001b[0mtf\u001b[0m\u001b[0;34m.\u001b[0m\u001b[0mkeras\u001b[0m\u001b[0;34m.\u001b[0m\u001b[0mlosses\u001b[0m\u001b[0;34m.\u001b[0m\u001b[0msparse_categorical_crossentropy\u001b[0m\u001b[0;34m,\u001b[0m \u001b[0mmetrics\u001b[0m\u001b[0;34m=\u001b[0m\u001b[0;34m[\u001b[0m\u001b[0;34m'accuracy'\u001b[0m\u001b[0;34m]\u001b[0m\u001b[0;34m,\u001b[0m \u001b[0moptimizer\u001b[0m\u001b[0;34m=\u001b[0m\u001b[0;34m'adam'\u001b[0m\u001b[0;34m)\u001b[0m\u001b[0;34m\u001b[0m\u001b[0;34m\u001b[0m\u001b[0m\n\u001b[1;32m      4\u001b[0m \u001b[0mmodel_history1\u001b[0m \u001b[0;34m=\u001b[0m \u001b[0mmodel1\u001b[0m\u001b[0;34m.\u001b[0m\u001b[0mfit\u001b[0m\u001b[0;34m(\u001b[0m\u001b[0mX_train\u001b[0m\u001b[0;34m,\u001b[0m \u001b[0mY_train\u001b[0m\u001b[0;34m,\u001b[0m\u001b[0mepochs\u001b[0m\u001b[0;34m=\u001b[0m \u001b[0;36m15\u001b[0m\u001b[0;34m,\u001b[0m\u001b[0mbatch_size\u001b[0m\u001b[0;34m=\u001b[0m\u001b[0;36m100\u001b[0m\u001b[0;34m,\u001b[0m\u001b[0mvalidation_data\u001b[0m\u001b[0;34m=\u001b[0m\u001b[0;34m(\u001b[0m\u001b[0mX_test\u001b[0m\u001b[0;34m,\u001b[0m \u001b[0mY_test\u001b[0m\u001b[0;34m)\u001b[0m\u001b[0;34m)\u001b[0m\u001b[0;34m\u001b[0m\u001b[0;34m\u001b[0m\u001b[0m\n",
      "\u001b[0;32m~/opt/anaconda3/lib/python3.8/site-packages/keras/engine/sequential.py\u001b[0m in \u001b[0;36mbuild\u001b[0;34m(self, input_shape)\u001b[0m\n\u001b[1;32m    374\u001b[0m         \u001b[0;32melse\u001b[0m\u001b[0;34m:\u001b[0m\u001b[0;34m\u001b[0m\u001b[0;34m\u001b[0m\u001b[0m\n\u001b[1;32m    375\u001b[0m             \u001b[0;32mif\u001b[0m \u001b[0minput_shape\u001b[0m \u001b[0;32mis\u001b[0m \u001b[0;32mNone\u001b[0m\u001b[0;34m:\u001b[0m\u001b[0;34m\u001b[0m\u001b[0;34m\u001b[0m\u001b[0m\n\u001b[0;32m--> 376\u001b[0;31m                 \u001b[0;32mraise\u001b[0m \u001b[0mValueError\u001b[0m\u001b[0;34m(\u001b[0m\u001b[0;34m\"You must provide an `input_shape` argument.\"\u001b[0m\u001b[0;34m)\u001b[0m\u001b[0;34m\u001b[0m\u001b[0;34m\u001b[0m\u001b[0m\n\u001b[0m\u001b[1;32m    377\u001b[0m             \u001b[0mself\u001b[0m\u001b[0;34m.\u001b[0m\u001b[0m_build_graph_network_for_inferred_shape\u001b[0m\u001b[0;34m(\u001b[0m\u001b[0minput_shape\u001b[0m\u001b[0;34m)\u001b[0m\u001b[0;34m\u001b[0m\u001b[0;34m\u001b[0m\u001b[0m\n\u001b[1;32m    378\u001b[0m             \u001b[0;32mif\u001b[0m \u001b[0;32mnot\u001b[0m \u001b[0mself\u001b[0m\u001b[0;34m.\u001b[0m\u001b[0mbuilt\u001b[0m\u001b[0;34m:\u001b[0m\u001b[0;34m\u001b[0m\u001b[0;34m\u001b[0m\u001b[0m\n",
      "\u001b[0;31mValueError\u001b[0m: You must provide an `input_shape` argument."
     ]
    }
   ],
   "source": [
    "model1.build()\n",
    "model1.summary()\n",
    "model1.compile(loss=tf.keras.losses.sparse_categorical_crossentropy, metrics=['accuracy'], optimizer='adam')\n",
    "model_history1 = model1.fit(X_train, Y_train,epochs= 15,batch_size=100,validation_data=(X_test, Y_test))"
   ]
  },
  {
   "cell_type": "code",
   "execution_count": 24,
   "metadata": {},
   "outputs": [
    {
     "data": {
      "image/png": "[encoded data removed]",
      "text/plain": [
       "<Figure size 432x288 with 1 Axes>"
      ]
     },
     "metadata": {
      "needs_background": "light"
     },
     "output_type": "display_data"
    },
    {
     "data": {
      "image/png": "[encoded data removed]",
      "text/plain": [
       "<Figure size 432x288 with 1 Axes>"
      ]
     },
     "metadata": {
      "needs_background": "light"
     },
     "output_type": "display_data"
    },
    {
     "data": {
      "image/png": "[encoded data removed]",
      "text/plain": [
       "<Figure size 432x288 with 1 Axes>"
      ]
     },
     "metadata": {
      "needs_background": "light"
     },
     "output_type": "display_data"
    },
    {
     "data": {
      "image/png": "[encoded data removed]",
      "text/plain": [
       "<Figure size 432x288 with 1 Axes>"
      ]
     },
     "metadata": {
      "needs_background": "light"
     },
     "output_type": "display_data"
    },
    {
     "name": "stdout",
     "output_type": "stream",
     "text": [
      "313/313 - 2s - loss: 0.0419 - accuracy: 0.9866 - 2s/epoch - 5ms/step\n"
     ]
    }
   ],
   "source": [
    "import numpy as np\n",
    "import pandas as pd\n",
    "import seaborn as sns\n",
    "import matplotlib.pyplot as plt\n",
    "\n",
    "fig, axes = plt.subplots()\n",
    "\n",
    "axes.violinplot(dataset = [model1.layers[1].gamma,\n",
    "                           model1.layers[4].gamma,\n",
    "                           model1.layers[8].gamma,\n",
    "                           model1.layers[10].gamma,\n",
    "                           ])\n",
    "\n",
    "axes.set_title('Gamma parameters')\n",
    "axes.yaxis.grid(True)\n",
    "axes.set_xlabel('Batch layers')\n",
    "axes.set_ylabel('distribution')\n",
    "\n",
    "plt.show()\n",
    "fig, axes = plt.subplots()\n",
    "\n",
    "axes.violinplot(dataset = [model1.layers[1].beta,\n",
    "                           model1.layers[4].beta,\n",
    "                           model1.layers[8].beta,\n",
    "                           model1.layers[10].beta,\n",
    "                           ] )\n",
    "\n",
    "axes.set_title('Beta parameters')\n",
    "axes.yaxis.grid(True)\n",
    "axes.set_xlabel('Batch layers')\n",
    "axes.set_ylabel('distribution')\n",
    "\n",
    "plt.show()\n",
    "# you need to plot the violin plots.\n",
    "\n",
    "plt.plot(model_history1.history['loss'], label='training_loss')\n",
    "plt.plot(model_history1.history['val_loss'], label = 'val_loss')\n",
    "plt.xlabel('Epoch')\n",
    "plt.ylabel('Loss')\n",
    "plt.legend(loc='lower right')\n",
    "plt.show()\n",
    "\n",
    "plt.plot(model_history1.history['accuracy'], label='accuracy')\n",
    "plt.plot(model_history1.history['val_accuracy'], label = 'val_accuracy')\n",
    "plt.xlabel('Epoch')\n",
    "plt.ylabel('Accuracy')\n",
    "plt.legend(loc='lower right')\n",
    "plt.show()\n",
    "\n",
    "test_loss, test_acc = model1.evaluate(X_test, Y_test, verbose=2)"
   ]
  },
  {
   "cell_type": "markdown",
   "metadata": {},
   "source": [
    "\n",
    "3. Next instead of standard normalization use batch normalization for input layer also and train the network. Plot the distribution of learned batch norm parameters for each layer (including input) using violin plots. Compare the train/test accuracy and loss for the two cases ? Did batch normalization for input layer improve performance ? "
   ]
  },
  {
   "cell_type": "code",
   "execution_count": 25,
   "metadata": {},
   "outputs": [],
   "source": [
    "\n",
    "# (X_train, Y_train), (X_test, Y_test) = mnist.load_data()\n",
    "\n",
    "\n",
    "\n",
    "# print(X_train.shape[1:])\n",
    "model2 = Sequential()\n",
    "# model.add(norm_layer)\n",
    "model2.add(tf.keras.layers.BatchNormalization(input_shape=  X_train.shape[1:]))\n",
    "\n",
    "model2.add(Conv2D(6, 5, activation='tanh',input_shape=  X_train.shape[1:] ))\n",
    "\n",
    "model2.add(tf.keras.layers.BatchNormalization())\n",
    "\n",
    "model2.add(tf.keras.layers.AveragePooling2D(2))\n",
    "model2.add(Conv2D(16, 5, padding='valid', activation='tanh'))\n",
    "\n",
    "\n",
    "\n",
    "\n",
    "model2.add(tf.keras.layers.AveragePooling2D(2))\n",
    "model2.add(tf.keras.layers.BatchNormalization())\n",
    "model2.add(tf.keras.layers.Conv2D(120, 5, activation='tanh'))\n",
    "\n",
    "model2.add(Flatten())\n",
    "model2.add(tf.keras.layers.BatchNormalization())\n",
    "model2.add(Dense(84, activation='tanh'))\n",
    "\n",
    "model2.add(tf.keras.layers.BatchNormalization())\n",
    "model2.add(Dense(10, activation='softmax'))"
   ]
  },
  {
   "cell_type": "code",
   "execution_count": 26,
   "metadata": {},
   "outputs": [
    {
     "name": "stdout",
     "output_type": "stream",
     "text": [
      "Model: \"sequential_14\"\n",
      "_________________________________________________________________\n",
      " Layer (type)                Output Shape              Param #   \n",
      "=================================================================\n",
      " batch_normalization_33 (Bat  (None, 32, 32, 1)        4         \n",
      " chNormalization)                                                \n",
      "                                                                 \n",
      " conv2d_25 (Conv2D)          (None, 28, 28, 6)         156       \n",
      "                                                                 \n",
      " batch_normalization_34 (Bat  (None, 28, 28, 6)        24        \n",
      " chNormalization)                                                \n",
      "                                                                 \n",
      " average_pooling2d_14 (Avera  (None, 14, 14, 6)        0         \n",
      " gePooling2D)                                                    \n",
      "                                                                 \n",
      " conv2d_26 (Conv2D)          (None, 10, 10, 16)        2416      \n",
      "                                                                 \n",
      " average_pooling2d_15 (Avera  (None, 5, 5, 16)         0         \n",
      " gePooling2D)                                                    \n",
      "                                                                 \n",
      " batch_normalization_35 (Bat  (None, 5, 5, 16)         64        \n",
      " chNormalization)                                                \n",
      "                                                                 \n",
      " conv2d_27 (Conv2D)          (None, 1, 1, 120)         48120     \n",
      "                                                                 \n",
      " flatten_7 (Flatten)         (None, 120)               0         \n",
      "                                                                 \n",
      " batch_normalization_36 (Bat  (None, 120)              480       \n",
      " chNormalization)                                                \n",
      "                                                                 \n",
      " dense_12 (Dense)            (None, 84)                10164     \n",
      "                                                                 \n",
      " batch_normalization_37 (Bat  (None, 84)               336       \n",
      " chNormalization)                                                \n",
      "                                                                 \n",
      " dense_13 (Dense)            (None, 10)                850       \n",
      "                                                                 \n",
      "=================================================================\n",
      "Total params: 62,614\n",
      "Trainable params: 62,160\n",
      "Non-trainable params: 454\n",
      "_________________________________________________________________\n",
      "Epoch 1/10\n",
      "600/600 [==============================] - 28s 45ms/step - loss: 0.1556 - accuracy: 0.9527 - val_loss: 0.0601 - val_accuracy: 0.9821\n",
      "Epoch 2/10\n",
      "600/600 [==============================] - 27s 44ms/step - loss: 0.0572 - accuracy: 0.9828 - val_loss: 0.0562 - val_accuracy: 0.9819\n",
      "Epoch 3/10\n",
      "600/600 [==============================] - 27s 44ms/step - loss: 0.0426 - accuracy: 0.9863 - val_loss: 0.0546 - val_accuracy: 0.9820\n",
      "Epoch 4/10\n",
      "600/600 [==============================] - 26s 44ms/step - loss: 0.0320 - accuracy: 0.9899 - val_loss: 0.0426 - val_accuracy: 0.9856\n",
      "Epoch 5/10\n",
      "600/600 [==============================] - 27s 45ms/step - loss: 0.0292 - accuracy: 0.9905 - val_loss: 0.0454 - val_accuracy: 0.9855\n",
      "Epoch 6/10\n",
      "600/600 [==============================] - 28s 46ms/step - loss: 0.0226 - accuracy: 0.9928 - val_loss: 0.0375 - val_accuracy: 0.9887\n",
      "Epoch 7/10\n",
      "600/600 [==============================] - 29s 48ms/step - loss: 0.0195 - accuracy: 0.9934 - val_loss: 0.0531 - val_accuracy: 0.9836\n",
      "Epoch 8/10\n",
      "600/600 [==============================] - 27s 45ms/step - loss: 0.0176 - accuracy: 0.9942 - val_loss: 0.0707 - val_accuracy: 0.9791\n",
      "Epoch 9/10\n",
      "600/600 [==============================] - 27s 45ms/step - loss: 0.0177 - accuracy: 0.9940 - val_loss: 0.0461 - val_accuracy: 0.9875\n",
      "Epoch 10/10\n",
      "600/600 [==============================] - 26s 44ms/step - loss: 0.0137 - accuracy: 0.9955 - val_loss: 0.0443 - val_accuracy: 0.9868\n"
     ]
    }
   ],
   "source": [
    "model2.build()\n",
    "model2.summary()\n",
    "model2.compile(loss=tf.keras.losses.sparse_categorical_crossentropy, metrics=['accuracy'], optimizer='adam')\n",
    "model_history2 = model2.fit(X_train, Y_train,epochs= 15,batch_size=100,validation_data=(X_test, Y_test))"
   ]
  },
  {
   "cell_type": "code",
   "execution_count": 28,
   "metadata": {},
   "outputs": [
    {
     "name": "stdout",
     "output_type": "stream",
     "text": [
      "313/313 - 2s - loss: 0.0443 - accuracy: 0.9868 - 2s/epoch - 6ms/step\n"
     ]
    },
    {
     "data": {
      "image/png": "[encoded data removed]",
      "text/plain": [
       "<Figure size 432x288 with 1 Axes>"
      ]
     },
     "metadata": {
      "needs_background": "light"
     },
     "output_type": "display_data"
    }
   ],
   "source": [
    "# outputs = [layer.output for layer in model2.layers] \n",
    "# outputs\n",
    "\n",
    "\n",
    "# import numpy as np\n",
    "# import pandas as pd\n",
    "# import seaborn as sns\n",
    "# import matplotlib.pyplot as plt\n",
    "\n",
    "# fig, axes = plt.subplots()\n",
    "\n",
    "# axes.violinplot(dataset = [model2.layers[0].gamma,\n",
    "#                            model2.layers[2].gamma,\n",
    "#                            model2.layers[5].gamma,\n",
    "#                            model2.layers[9].gamma,\n",
    "#                            model2.layers[11].gamma,\n",
    "#                            ])\n",
    "\n",
    "# axes.set_title('Gamma parameters')\n",
    "# axes.yaxis.grid(True)\n",
    "# axes.set_xlabel('Batch layers')\n",
    "# axes.set_ylabel('distribution')\n",
    "\n",
    "# plt.show()\n",
    "# fig, axes = plt.subplots()\n",
    "\n",
    "# axes.violinplot(dataset = [model2.layers[0].beta,\n",
    "#                            model2.layers[2].beta,\n",
    "#                            model2.layers[5].beta,\n",
    "#                            model2.layers[9].beta,ß\n",
    "#                            model2.layers[11].beta,\n",
    "#                            ])\n",
    "\n",
    "# axes.set_title('Beta parameters')\n",
    "# axes.yaxis.grid(True)\n",
    "# axes.set_xlabel('Batch layers')\n",
    "# axes.set_ylabel('distribution')\n",
    "\n",
    "# plt.show()\n",
    "# # you need to plot the violin plots.\n",
    "\n",
    "# plt.plot(model_history2.history['loss'], label='training_loss')\n",
    "# plt.plot(model_history2.history['val_loss'], label = 'val_loss')\n",
    "# plt.xlabel('Epoch')\n",
    "# plt.ylabel('Loss')\n",
    "# plt.legend(loc='lower right')\n",
    "# test_loss, test_acc = model2.evaluate(X_test, Y_test, verbose=2)"
   ]
  },
  {
   "cell_type": "markdown",
   "metadata": {},
   "source": [
    " Compare the train/test accuracy and loss for the two cases ? Did batch normalization for input layer improve performance ? \n",
    "\n",
    " Plotting the 2 models."
   ]
  },
  {
   "cell_type": "code",
   "execution_count": 29,
   "metadata": {},
   "outputs": [
    {
     "data": {
      "image/png": "[encoded data removed]",
      "text/plain": [
       "<Figure size 432x288 with 1 Axes>"
      ]
     },
     "metadata": {
      "needs_background": "light"
     },
     "output_type": "display_data"
    },
    {
     "name": "stdout",
     "output_type": "stream",
     "text": [
      "313/313 - 1s - loss: 0.0419 - accuracy: 0.9866 - 1s/epoch - 4ms/step\n",
      "313/313 - 1s - loss: 0.0443 - accuracy: 0.9868 - 1s/epoch - 4ms/step\n"
     ]
    }
   ],
   "source": [
    "plt.plot(model_history1.history['accuracy'], label='accuracy model 1')\n",
    "plt.plot(model_history1.history['val_accuracy'], label = 'val_accuracy model 1')\n",
    "plt.plot(model_history2.history['accuracy'], label='accuracy model 2')\n",
    "plt.plot(model_history2.history['val_accuracy'], label = 'val_accuracy model 2')\n",
    "plt.xlabel('Epoch')\n",
    "plt.ylabel('Accuracy')\n",
    "plt.legend(loc='lower right')\n",
    "plt.show()\n",
    "test_loss, test_acc = model1.evaluate(X_test, Y_test, verbose=2)\n",
    "test_loss, test_acc = model2.evaluate(X_test, Y_test, verbose=2)"
   ]
  },
  {
   "cell_type": "markdown",
   "metadata": {},
   "source": [
    "\n",
    "4. Train the network without batch normalization but this time use dropout. For hidden layers use dropout probability of 0.5 and for input layer take it to be 0.2 Compare test accuracy using dropout to test accuracy obtained using batch normalization in part 2 and 3."
   ]
  },
  {
   "cell_type": "markdown",
   "metadata": {},
   "source": [
    "no batch normal not normalization with dropout"
   ]
  },
  {
   "cell_type": "code",
   "execution_count": 30,
   "metadata": {},
   "outputs": [],
   "source": [
    "\n",
    "\n",
    "\n",
    "model3 = Sequential()\n",
    "\n",
    "model3.add(tf.keras.layers.Dropout(0.5,input_shape=X_train.shape[1:]))\n",
    "model3.add(Conv2D(6, 5, activation='tanh', padding='same', input_shape=X_train.shape[1:]))\n",
    "model3.add(tf.keras.layers.AveragePooling2D(2))\n",
    "\n",
    "model3.add(tf.keras.layers.Dropout(0.2))\n",
    "model3.add(tf.keras.layers.Conv2D(16, 5, activation='tanh'))\n",
    "model3.add(tf.keras.layers.AveragePooling2D(2))\n",
    "\n",
    "model3.add(tf.keras.layers.Dropout(0.2))\n",
    "model3.add(tf.keras.layers.Conv2D(120, 5, activation='tanh'))\n",
    "\n",
    "model3.add(Flatten())\n",
    "model3.add(tf.keras.layers.Dropout(0.2))\n",
    "model3.add(tf.keras.layers.Dense(84, activation='tanh'))\n",
    "\n",
    "model3.add(tf.keras.layers.Dropout(0.2))\n",
    "model3.add(Dense(10, activation='softmax'))"
   ]
  },
  {
   "cell_type": "code",
   "execution_count": 31,
   "metadata": {},
   "outputs": [
    {
     "name": "stdout",
     "output_type": "stream",
     "text": [
      "Model: \"sequential_15\"\n",
      "_________________________________________________________________\n",
      " Layer (type)                Output Shape              Param #   \n",
      "=================================================================\n",
      " dropout_5 (Dropout)         (None, 32, 32, 1)         0         \n",
      "                                                                 \n",
      " conv2d_28 (Conv2D)          (None, 32, 32, 6)         156       \n",
      "                                                                 \n",
      " average_pooling2d_16 (Avera  (None, 16, 16, 6)        0         \n",
      " gePooling2D)                                                    \n",
      "                                                                 \n",
      " dropout_6 (Dropout)         (None, 16, 16, 6)         0         \n",
      "                                                                 \n",
      " conv2d_29 (Conv2D)          (None, 12, 12, 16)        2416      \n",
      "                                                                 \n",
      " average_pooling2d_17 (Avera  (None, 6, 6, 16)         0         \n",
      " gePooling2D)                                                    \n",
      "                                                                 \n",
      " dropout_7 (Dropout)         (None, 6, 6, 16)          0         \n",
      "                                                                 \n",
      " conv2d_30 (Conv2D)          (None, 2, 2, 120)         48120     \n",
      "                                                                 \n",
      " flatten_8 (Flatten)         (None, 480)               0         \n",
      "                                                                 \n",
      " dropout_8 (Dropout)         (None, 480)               0         \n",
      "                                                                 \n",
      " dense_14 (Dense)            (None, 84)                40404     \n",
      "                                                                 \n",
      " dropout_9 (Dropout)         (None, 84)                0         \n",
      "                                                                 \n",
      " dense_15 (Dense)            (None, 10)                850       \n",
      "                                                                 \n",
      "=================================================================\n",
      "Total params: 91,946\n",
      "Trainable params: 91,946\n",
      "Non-trainable params: 0\n",
      "_________________________________________________________________\n",
      "Epoch 1/10\n",
      "600/600 [==============================] - 25s 41ms/step - loss: 0.5005 - accuracy: 0.8437 - val_loss: 0.1934 - val_accuracy: 0.9453\n",
      "Epoch 2/10\n",
      "600/600 [==============================] - 23s 38ms/step - loss: 0.2772 - accuracy: 0.9131 - val_loss: 0.1307 - val_accuracy: 0.9606\n",
      "Epoch 3/10\n",
      "600/600 [==============================] - 24s 40ms/step - loss: 0.2171 - accuracy: 0.9324 - val_loss: 0.1063 - val_accuracy: 0.9669\n",
      "Epoch 4/10\n",
      "600/600 [==============================] - 25s 41ms/step - loss: 0.1929 - accuracy: 0.9391 - val_loss: 0.0890 - val_accuracy: 0.9732\n",
      "Epoch 5/10\n",
      "600/600 [==============================] - 24s 40ms/step - loss: 0.1723 - accuracy: 0.9459 - val_loss: 0.0787 - val_accuracy: 0.9757\n",
      "Epoch 6/10\n",
      "600/600 [==============================] - 24s 41ms/step - loss: 0.1569 - accuracy: 0.9511 - val_loss: 0.0801 - val_accuracy: 0.9752\n",
      "Epoch 7/10\n",
      "600/600 [==============================] - 26s 43ms/step - loss: 0.1505 - accuracy: 0.9525 - val_loss: 0.0743 - val_accuracy: 0.9761\n",
      "Epoch 8/10\n",
      "600/600 [==============================] - 25s 42ms/step - loss: 0.1436 - accuracy: 0.9550 - val_loss: 0.0637 - val_accuracy: 0.9800\n",
      "Epoch 9/10\n",
      "600/600 [==============================] - 24s 41ms/step - loss: 0.1368 - accuracy: 0.9571 - val_loss: 0.0609 - val_accuracy: 0.9798\n",
      "Epoch 10/10\n",
      "600/600 [==============================] - 27s 44ms/step - loss: 0.1305 - accuracy: 0.9597 - val_loss: 0.0588 - val_accuracy: 0.9811\n"
     ]
    }
   ],
   "source": [
    "model3.build()\n",
    "model3.summary()\n",
    "model3.compile(loss=tf.keras.losses.sparse_categorical_crossentropy, metrics=['accuracy'], optimizer='adam')\n",
    "model_history3 = model3.fit(X_train, Y_train,epochs= 15,batch_size=100,validation_data=(X_test, Y_test))"
   ]
  },
  {
   "cell_type": "markdown",
   "metadata": {},
   "source": [
    "Compare test accuracy using dropout to test accuracy obtained using batch normalization in part 2 and 3."
   ]
  },
  {
   "cell_type": "code",
   "execution_count": 32,
   "metadata": {},
   "outputs": [
    {
     "data": {
      "text/plain": [
       "<matplotlib.legend.Legend at 0x7fee82a988e0>"
      ]
     },
     "execution_count": 32,
     "metadata": {},
     "output_type": "execute_result"
    },
    {
     "data": {
      "image/png": "[encoded data removed]",
      "text/plain": [
       "<Figure size 432x288 with 1 Axes>"
      ]
     },
     "metadata": {
      "needs_background": "light"
     },
     "output_type": "display_data"
    }
   ],
   "source": [
    "plt.plot(model_history1.history['val_accuracy'], label = 'accuracy Batch norm + Standard Norm')\n",
    "plt.plot(model_history2.history['val_accuracy'], label = 'accuracy Batch norm + Batch norm input')\n",
    "plt.plot(model_history3.history['val_accuracy'], label = 'accuracy Dropout')\n",
    "plt.xlabel('Epoch')\n",
    "plt.ylabel('Accuracy')\n",
    "plt.legend(loc='lower right')"
   ]
  },
  {
   "cell_type": "markdown",
   "metadata": {},
   "source": [
    "\n",
    "5. Now train the network using both batch normalization and dropout. How does the performance (test accuracy) of the network compare with the cases with dropout alone and with batch normalization alone ? \n",
    "\n",
    "add batch any case\n",
    "batch normalizaiotn and dropout. "
   ]
  },
  {
   "cell_type": "code",
   "execution_count": 33,
   "metadata": {},
   "outputs": [],
   "source": [
    "model4 = Sequential()\n",
    "# model.add(norm_layer)\n",
    "model4.add(tf.keras.layers.BatchNormalization(input_shape=  X_train.shape[1:]))\n",
    "model4.add(tf.keras.layers.Dropout(0.5))\n",
    "model4.add(Conv2D(6, 5, activation='tanh',input_shape=  X_train.shape[1:] ))\n",
    "\n",
    "model4.add(tf.keras.layers.BatchNormalization())\n",
    "model4.add(tf.keras.layers.AveragePooling2D(2))\n",
    "model4.add(tf.keras.layers.Dropout(0.2))\n",
    "model4.add(Conv2D(16, 5, padding='valid', activation='tanh'))\n",
    "\n",
    "\n",
    "\n",
    "\n",
    "model4.add(tf.keras.layers.AveragePooling2D(2))\n",
    "model4.add(tf.keras.layers.BatchNormalization())\n",
    "model4.add(tf.keras.layers.Dropout(0.2))\n",
    "model4.add(tf.keras.layers.Conv2D(120, 5, activation='tanh'))\n",
    "\n",
    "model4.add(Flatten())\n",
    "model4.add(tf.keras.layers.BatchNormalization())\n",
    "model4.add(tf.keras.layers.Dropout(0.2))\n",
    "model4.add(Dense(84, activation='tanh'))\n",
    "\n",
    "model4.add(tf.keras.layers.BatchNormalization())\n",
    "model4.add(tf.keras.layers.Dropout(0.2))\n",
    "model4.add(Dense(10, activation='softmax'))"
   ]
  },
  {
   "cell_type": "code",
   "execution_count": 36,
   "metadata": {},
   "outputs": [
    {
     "name": "stdout",
     "output_type": "stream",
     "text": [
      "Model: \"sequential_16\"\n",
      "_________________________________________________________________\n",
      " Layer (type)                Output Shape              Param #   \n",
      "=================================================================\n",
      " batch_normalization_38 (Bat  (None, 32, 32, 1)        4         \n",
      " chNormalization)                                                \n",
      "                                                                 \n",
      " dropout_10 (Dropout)        (None, 32, 32, 1)         0         \n",
      "                                                                 \n",
      " conv2d_31 (Conv2D)          (None, 28, 28, 6)         156       \n",
      "                                                                 \n",
      " batch_normalization_39 (Bat  (None, 28, 28, 6)        24        \n",
      " chNormalization)                                                \n",
      "                                                                 \n",
      " average_pooling2d_18 (Avera  (None, 14, 14, 6)        0         \n",
      " gePooling2D)                                                    \n",
      "                                                                 \n",
      " dropout_11 (Dropout)        (None, 14, 14, 6)         0         \n",
      "                                                                 \n",
      " conv2d_32 (Conv2D)          (None, 10, 10, 16)        2416      \n",
      "                                                                 \n",
      " average_pooling2d_19 (Avera  (None, 5, 5, 16)         0         \n",
      " gePooling2D)                                                    \n",
      "                                                                 \n",
      " batch_normalization_40 (Bat  (None, 5, 5, 16)         64        \n",
      " chNormalization)                                                \n",
      "                                                                 \n",
      " dropout_12 (Dropout)        (None, 5, 5, 16)          0         \n",
      "                                                                 \n",
      " conv2d_33 (Conv2D)          (None, 1, 1, 120)         48120     \n",
      "                                                                 \n",
      " flatten_9 (Flatten)         (None, 120)               0         \n",
      "                                                                 \n",
      " batch_normalization_41 (Bat  (None, 120)              480       \n",
      " chNormalization)                                                \n",
      "                                                                 \n",
      " dropout_13 (Dropout)        (None, 120)               0         \n",
      "                                                                 \n",
      " dense_16 (Dense)            (None, 84)                10164     \n",
      "                                                                 \n",
      " batch_normalization_42 (Bat  (None, 84)               336       \n",
      " chNormalization)                                                \n",
      "                                                                 \n",
      " dropout_14 (Dropout)        (None, 84)                0         \n",
      "                                                                 \n",
      " dense_17 (Dense)            (None, 10)                850       \n",
      "                                                                 \n",
      "=================================================================\n",
      "Total params: 62,614\n",
      "Trainable params: 62,160\n",
      "Non-trainable params: 454\n",
      "_________________________________________________________________\n",
      "Epoch 1/10\n",
      "600/600 [==============================] - 32s 52ms/step - loss: 0.2025 - accuracy: 0.9365 - val_loss: 0.0781 - val_accuracy: 0.9747\n",
      "Epoch 2/10\n",
      "600/600 [==============================] - 31s 52ms/step - loss: 0.1646 - accuracy: 0.9484 - val_loss: 0.0656 - val_accuracy: 0.9786\n",
      "Epoch 3/10\n",
      "600/600 [==============================] - 36s 60ms/step - loss: 0.1484 - accuracy: 0.9546 - val_loss: 0.0568 - val_accuracy: 0.9832\n",
      "Epoch 4/10\n",
      "600/600 [==============================] - 27s 44ms/step - loss: 0.1397 - accuracy: 0.9564 - val_loss: 0.0515 - val_accuracy: 0.9841\n",
      "Epoch 5/10\n",
      "600/600 [==============================] - 27s 46ms/step - loss: 0.1312 - accuracy: 0.9592 - val_loss: 0.0531 - val_accuracy: 0.9836\n",
      "Epoch 6/10\n",
      "600/600 [==============================] - 42s 69ms/step - loss: 0.1256 - accuracy: 0.9611 - val_loss: 0.0498 - val_accuracy: 0.9832\n",
      "Epoch 7/10\n",
      "600/600 [==============================] - 36s 60ms/step - loss: 0.1206 - accuracy: 0.9620 - val_loss: 0.0527 - val_accuracy: 0.9831\n",
      "Epoch 8/10\n",
      "600/600 [==============================] - 36s 60ms/step - loss: 0.1183 - accuracy: 0.9625 - val_loss: 0.0517 - val_accuracy: 0.9840\n",
      "Epoch 9/10\n",
      "600/600 [==============================] - 39s 65ms/step - loss: 0.1151 - accuracy: 0.9645 - val_loss: 0.0469 - val_accuracy: 0.9858\n",
      "Epoch 10/10\n",
      "600/600 [==============================] - 30s 51ms/step - loss: 0.1155 - accuracy: 0.9642 - val_loss: 0.0464 - val_accuracy: 0.9862\n"
     ]
    }
   ],
   "source": [
    "model4.build()\n",
    "model4.summary()\n",
    "model4.compile(loss=tf.keras.losses.sparse_categorical_crossentropy, metrics=['accuracy'], optimizer='adam')\n",
    "model_history4 = model4.fit(X_train, Y_train,epochs= 10,batch_size=100,validation_data=(X_test, Y_test))"
   ]
  },
  {
   "cell_type": "markdown",
   "metadata": {},
   "source": [
    "How does the performance (test accuracy) of the network compare with the cases with dropout alone and with batch normalization alone ? "
   ]
  },
  {
   "cell_type": "code",
   "execution_count": 37,
   "metadata": {},
   "outputs": [
    {
     "data": {
      "text/plain": [
       "<matplotlib.legend.Legend at 0x7fee66b38b50>"
      ]
     },
     "execution_count": 37,
     "metadata": {},
     "output_type": "execute_result"
    },
    {
     "data": {
      "image/png": "[encoded data removed]",
      "text/plain": [
       "<Figure size 432x288 with 1 Axes>"
      ]
     },
     "metadata": {
      "needs_background": "light"
     },
     "output_type": "display_data"
    }
   ],
   "source": [
    "plt.plot(model_history4.history['val_accuracy'], label = 'accuracy Batch norm + Dropout')\n",
    "plt.plot(model_history2.history['val_accuracy'], label = 'accuracy Batch norm + Batch norm input')\n",
    "plt.plot(model_history3.history['val_accuracy'], label = 'accuracy Dropout')\n",
    "plt.xlabel('Epoch')\n",
    "plt.ylabel('Accuracy')\n",
    "plt.legend(loc='lower right')"
   ]
  },
  {
   "cell_type": "code",
   "execution_count": null,
   "metadata": {},
   "outputs": [],
   "source": []
  }
 ],
 "metadata": {
  "kernelspec": {
   "display_name": "Python 3.8.5 ('base')",
   "language": "python",
   "name": "python3"
  },
  "language_info": {
   "codemirror_mode": {
    "name": "ipython",
    "version": 3
   },
   "file_extension": ".py",
   "mimetype": "text/x-python",
   "name": "python",
   "nbconvert_exporter": "python",
   "pygments_lexer": "ipython3",
   "version": "3.8.5"
  },
  "orig_nbformat": 4,
  "vscode": {
   "interpreter": {
    "hash": "2a0f08725565d2d00e70b9fae99b105541271f7be4baa13607a6e77e1d2c8c73"
   }
  }
 },
 "nbformat": 4,
 "nbformat_minor": 2
}
